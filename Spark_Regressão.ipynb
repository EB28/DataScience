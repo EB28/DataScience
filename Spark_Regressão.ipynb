{
  "nbformat": 4,
  "nbformat_minor": 0,
  "metadata": {
    "colab": {
      "provenance": [],
      "authorship_tag": "ABX9TyPGIIAQINulZM7Qsp4/KABT",
      "include_colab_link": true
    },
    "kernelspec": {
      "name": "python3",
      "display_name": "Python 3"
    },
    "language_info": {
      "name": "python"
    }
  },
  "cells": [
    {
      "cell_type": "markdown",
      "metadata": {
        "id": "view-in-github",
        "colab_type": "text"
      },
      "source": [
        "<a href=\"https://colab.research.google.com/github/EB28/DataScience/blob/main/Spark_Regress%C3%A3o.ipynb\" target=\"_parent\"><img src=\"https://colab.research.google.com/assets/colab-badge.svg\" alt=\"Open In Colab\"/></a>"
      ]
    },
    {
      "cell_type": "code",
      "source": [
        "!apt-get install -y openjdk-8-jdk-headless -qq > /dev/null\n"
      ],
      "metadata": {
        "id": "xVh4W4ba8dzS"
      },
      "execution_count": null,
      "outputs": []
    },
    {
      "cell_type": "code",
      "source": [
        "!java -version\n"
      ],
      "metadata": {
        "id": "Km66zBjX8d1e",
        "colab": {
          "base_uri": "https://localhost:8080/"
        },
        "outputId": "1f72d243-7fe1-46d8-f2aa-9fc5ab9c9f68"
      },
      "execution_count": null,
      "outputs": [
        {
          "output_type": "stream",
          "name": "stdout",
          "text": [
            "openjdk version \"11.0.18\" 2023-01-17\n",
            "OpenJDK Runtime Environment (build 11.0.18+10-post-Ubuntu-0ubuntu120.04.1)\n",
            "OpenJDK 64-Bit Server VM (build 11.0.18+10-post-Ubuntu-0ubuntu120.04.1, mixed mode, sharing)\n"
          ]
        }
      ]
    },
    {
      "cell_type": "code",
      "source": [
        "pip install findspark"
      ],
      "metadata": {
        "id": "MgxvAgmL8d4b",
        "colab": {
          "base_uri": "https://localhost:8080/"
        },
        "outputId": "7e0e206c-4b03-4e7b-dc8a-27546e6da73c"
      },
      "execution_count": null,
      "outputs": [
        {
          "output_type": "stream",
          "name": "stdout",
          "text": [
            "Looking in indexes: https://pypi.org/simple, https://us-python.pkg.dev/colab-wheels/public/simple/\n",
            "Collecting findspark\n",
            "  Downloading findspark-2.0.1-py2.py3-none-any.whl (4.4 kB)\n",
            "Installing collected packages: findspark\n",
            "Successfully installed findspark-2.0.1\n"
          ]
        }
      ]
    },
    {
      "cell_type": "code",
      "source": [
        "pip install pyspark"
      ],
      "metadata": {
        "id": "2o7fCq8l8d7E",
        "colab": {
          "base_uri": "https://localhost:8080/"
        },
        "outputId": "5450da0d-0693-45c1-eafa-4febb260762f"
      },
      "execution_count": null,
      "outputs": [
        {
          "output_type": "stream",
          "name": "stdout",
          "text": [
            "Looking in indexes: https://pypi.org/simple, https://us-python.pkg.dev/colab-wheels/public/simple/\n",
            "Collecting pyspark\n",
            "  Downloading pyspark-3.4.0.tar.gz (310.8 MB)\n",
            "\u001b[2K     \u001b[90m━━━━━━━━━━━━━━━━━━━━━━━━━━━━━━━━━━━━━━━\u001b[0m \u001b[32m310.8/310.8 MB\u001b[0m \u001b[31m3.1 MB/s\u001b[0m eta \u001b[36m0:00:00\u001b[0m\n",
            "\u001b[?25h  Preparing metadata (setup.py) ... \u001b[?25l\u001b[?25hdone\n",
            "Requirement already satisfied: py4j==0.10.9.7 in /usr/local/lib/python3.9/dist-packages (from pyspark) (0.10.9.7)\n",
            "Building wheels for collected packages: pyspark\n",
            "  Building wheel for pyspark (setup.py) ... \u001b[?25l\u001b[?25hdone\n",
            "  Created wheel for pyspark: filename=pyspark-3.4.0-py2.py3-none-any.whl size=311317145 sha256=dd24c1fead8f4085aa3438a55d98c61d51e93bdfc86479b266196a314d871ce1\n",
            "  Stored in directory: /root/.cache/pip/wheels/9f/34/a4/159aa12d0a510d5ff7c8f0220abbea42e5d81ecf588c4fd884\n",
            "Successfully built pyspark\n",
            "Installing collected packages: pyspark\n",
            "Successfully installed pyspark-3.4.0\n"
          ]
        }
      ]
    },
    {
      "cell_type": "code",
      "source": [
        "from pyspark.sql import SparkSession\n",
        "\n",
        "spark = SparkSession.builder \\\n",
        "  .master('local[*]') \\\n",
        "  .appName(\"Regressão com Spark\") \\\n",
        "  .getOrCreate()\n",
        "spark"
      ],
      "metadata": {
        "id": "zEPJICy88d9v",
        "colab": {
          "base_uri": "https://localhost:8080/",
          "height": 222
        },
        "outputId": "65d6a538-e9f7-45c4-e788-f824333367fe"
      },
      "execution_count": null,
      "outputs": [
        {
          "output_type": "execute_result",
          "data": {
            "text/plain": [
              "<pyspark.sql.session.SparkSession at 0x7fd60d789af0>"
            ],
            "text/html": [
              "\n",
              "            <div>\n",
              "                <p><b>SparkSession - in-memory</b></p>\n",
              "                \n",
              "        <div>\n",
              "            <p><b>SparkContext</b></p>\n",
              "\n",
              "            <p><a href=\"http://873f01b8f067:4040\">Spark UI</a></p>\n",
              "\n",
              "            <dl>\n",
              "              <dt>Version</dt>\n",
              "                <dd><code>v3.4.0</code></dd>\n",
              "              <dt>Master</dt>\n",
              "                <dd><code>local[*]</code></dd>\n",
              "              <dt>AppName</dt>\n",
              "                <dd><code>Regressão com Spark</code></dd>\n",
              "            </dl>\n",
              "        </div>\n",
              "        \n",
              "            </div>\n",
              "        "
            ]
          },
          "metadata": {},
          "execution_count": 2
        }
      ]
    },
    {
      "cell_type": "code",
      "source": [
        "from google.colab import drive\n",
        "drive.mount('/content/drive')"
      ],
      "metadata": {
        "id": "Vh0g0HBI8d_v",
        "colab": {
          "base_uri": "https://localhost:8080/"
        },
        "outputId": "f6fd4984-08ad-4d08-f12c-79ebd38d622b"
      },
      "execution_count": null,
      "outputs": [
        {
          "output_type": "stream",
          "name": "stdout",
          "text": [
            "Drive already mounted at /content/drive; to attempt to forcibly remount, call drive.mount(\"/content/drive\", force_remount=True).\n"
          ]
        }
      ]
    },
    {
      "cell_type": "code",
      "source": [
        "dados = spark.read.json(\n",
        "    '/content/imoveis.json'\n",
        ")"
      ],
      "metadata": {
        "id": "QwDZVJHd8eCj"
      },
      "execution_count": null,
      "outputs": []
    },
    {
      "cell_type": "code",
      "source": [
        "dados"
      ],
      "metadata": {
        "colab": {
          "base_uri": "https://localhost:8080/"
        },
        "id": "9zq0oxS_-jQ_",
        "outputId": "07e99632-29ad-46de-a2a7-672640c29a3a"
      },
      "execution_count": null,
      "outputs": [
        {
          "output_type": "execute_result",
          "data": {
            "text/plain": [
              "DataFrame[ident: struct<customerID:string,source:string>, listing: struct<address:struct<city:string,location:struct<lat:double,lon:double>,neighborhood:string,zone:string>,features:struct<bathrooms:bigint,bedrooms:bigint,floors:bigint,parkingSpaces:bigint,suites:bigint,totalAreas:string,unitFloor:bigint,unitsOnTheFloor:bigint,usableAreas:string>,prices:struct<price:string,tax:struct<condo:string,iptu:string>>,types:struct<unit:string,usage:string>>]"
            ]
          },
          "metadata": {},
          "execution_count": 62
        }
      ]
    },
    {
      "cell_type": "code",
      "source": [
        "dados.show(truncate=False)"
      ],
      "metadata": {
        "colab": {
          "base_uri": "https://localhost:8080/"
        },
        "id": "Hhb2ZpTF-jTn",
        "outputId": "d1f65449-81aa-484e-e02e-be611bbabefe"
      },
      "execution_count": null,
      "outputs": [
        {
          "output_type": "stream",
          "name": "stdout",
          "text": [
            "+--------------------------+-----------------------------------------------------------------------------------------------------------------------------------------------------------------+\n",
            "|ident                     |listing                                                                                                                                                          |\n",
            "+--------------------------+-----------------------------------------------------------------------------------------------------------------------------------------------------------------+\n",
            "|{775564-BOJSMVON, Website}|{{Rio de Janeiro, {-22.909429, -43.413557}, Taquara, Zona Oeste}, {0, 0, 0, 1, 0, 62, 0, 0, 62}, {45000, {150, 0}}, {Outros, Residencial}}                       |\n",
            "|{660895-AUENKNYY, Website}|{{Rio de Janeiro, {-22.869698, -43.509141}, Santíssimo, Zona Oeste}, {1, 2, 0, 1, 0, 0, 0, 0, 44}, {45000, {120, 0}}, {Apartamento, Residencial}}                |\n",
            "|{751522-JESYFEQL, Website}|{{Rio de Janeiro, {-22.986927, -43.646786}, Pedra de Guaratiba, Zona Oeste}, {0, 0, 0, 0, 0, 132, 0, 0, 132}, {50000, {100, 0}}, {Outros, Residencial}}          |\n",
            "|{714052-GAAEWYKS, Website}|{{Rio de Janeiro, {-22.881977, -43.330818}, Cascadura, Zona Norte}, {1, 0, 0, 0, 0, 32, 3, 0, 32}, {45000, {468, 346}}, {Outros, Comercial}}                     |\n",
            "|{568886-ZIBFOMCC, Website}|{{Rio de Janeiro, {-23.027653, -43.480742}, Recreio dos Bandeirantes, Zona Oeste}, {2, 3, 3, 1, 1, 0, 2, 4, 60}, {50000, {400, 120}}, {Apartamento, Residencial}}|\n",
            "|{526755-OBLTYTEN, Website}|{{Rio de Janeiro, {-22.966059, -43.571183}, Guaratiba, Zona Oeste}, {0, 0, 0, 0, 0, 200, 0, 0, 200}, {50000, {0, null}}, {Outros, Residencial}}                  |\n",
            "|{593569-CJLMNFGW, Website}|{{Rio de Janeiro, {-22.939028, -43.3453}, Freguesia (Jacarepaguá), Zona Oeste}, {1, 0, 0, 0, 0, 25, 2, 0, 25}, {50000, {801, 211}}, {Outros, Comercial}}         |\n",
            "|{989181-RYJOLMCU, Website}|{{Rio de Janeiro, {-22.841509, -43.278855}, Penha, Zona Norte}, {1, 0, 0, 0, 0, 23, 0, 0, 23}, {50000, {230, null}}, {Outros, Comercial}}                        |\n",
            "|{145372-EZKAKSWM, Website}|{{Rio de Janeiro, {-22.835609, -43.392253}, Ricardo de Albuquerque, Zona Norte}, {0, 0, 0, 0, 0, 60, 0, 0, 60}, {45000, {null, null}}, {Outros, Comercial}}      |\n",
            "|{792086-NWNQTDYL, Website}|{{Rio de Janeiro, {-22.885306, -43.253044}, Jacarezinho, Zona Norte}, {1, 1, 0, 1, 0, 35, 0, 0, 33}, {45336, {0, 0}}, {Apartamento, Residencial}}                |\n",
            "|{339622-MNZGLKTZ, Website}|{{Rio de Janeiro, {-22.990425, -43.635505}, Guaratiba, Zona Oeste}, {0, 0, 0, 0, 0, 120, 0, 0, 120}, {45000, {0, 0}}, {Outros, Residencial}}                     |\n",
            "|{952338-SVULQMXR, Website}|{{Rio de Janeiro, {-22.877982, -43.651456}, Santa Cruz, Zona Oeste}, {0, 0, 0, 0, 0, 468, 0, 0, 468}, {45000, {0, 0}}, {Outros, Residencial}}                    |\n",
            "|{570439-LDICQOXZ, Website}|{{Rio de Janeiro, {-22.998183, -43.504337}, Vargem Grande, Zona Oeste}, {0, 0, 0, 0, 0, 180, 1, 0, 180}, {50000, {0, 0}}, {Outros, Residencial}}                 |\n",
            "|{684023-YTBNKLLO, Website}|{{Rio de Janeiro, {-22.843794, -43.512464}, Bangu, Zona Oeste}, {0, 0, 0, 0, 0, 128, 0, 0, 128}, {50000, {0, 0}}, {Outros, Residencial}}                         |\n",
            "|{629412-VKUMMAVR, Website}|{{Rio de Janeiro, {-22.91077, -43.37182}, Tanque, Zona Oeste}, {0, 0, 0, 0, 0, 82, 1, 0, 82}, {45000, {300, 0}}, {Outros, Residencial}}                          |\n",
            "|{041590-HMJIRKDX, Website}|{{Rio de Janeiro, {-22.910099, -43.17797}, Centro, Zona Central}, {0, 0, 0, 1, 0, 5, 0, 0, 5}, {45000, {0, 0}}, {Outros, Comercial}}                             |\n",
            "|{870098-XTRYJAGY, Website}|{{Rio de Janeiro, {-22.867219, -43.335067}, Madureira, Zona Norte}, {1, 0, 0, 0, 0, 350, 0, 0, 350}, {50000, {0, 1600}}, {Outros, Comercial}}                    |\n",
            "|{951104-MACIAPIS, Website}|{{Rio de Janeiro, {-22.897014, -43.201575}, Santo Cristo, Zona Central}, {2, 3, 20, 1, 1, 0, 20, 19, 70}, {45000, {350, 120}}, {Apartamento, Residencial}}       |\n",
            "|{375665-GHMFEZXX, Website}|{{Rio de Janeiro, {-22.902419, -43.20952}, Santo Cristo, Zona Central}, {2, 3, 20, 1, 1, 0, 20, 19, 70}, {50000, {350, 120}}, {Apartamento, Residencial}}        |\n",
            "|{441711-LRTWHRUA, Website}|{{Rio de Janeiro, {-22.989852, -43.623097}, Pedra de Guaratiba, Zona Oeste}, {1, 1, 0, 0, 0, 45, 2, 0, 37}, {50000, {0, 0}}, {Apartamento, Residencial}}         |\n",
            "+--------------------------+-----------------------------------------------------------------------------------------------------------------------------------------------------------------+\n",
            "only showing top 20 rows\n",
            "\n"
          ]
        }
      ]
    },
    {
      "cell_type": "code",
      "source": [
        "dados.count()"
      ],
      "metadata": {
        "colab": {
          "base_uri": "https://localhost:8080/"
        },
        "id": "PzvIyOnN-jWQ",
        "outputId": "d2162855-908a-4084-b5b1-e9845fb253ff"
      },
      "execution_count": null,
      "outputs": [
        {
          "output_type": "execute_result",
          "data": {
            "text/plain": [
              "73615"
            ]
          },
          "metadata": {},
          "execution_count": 64
        }
      ]
    },
    {
      "cell_type": "markdown",
      "source": [
        "Seleção de Features\n"
      ],
      "metadata": {
        "id": "-U_LMLH4AHlp"
      }
    },
    {
      "cell_type": "code",
      "source": [
        "dados.printSchema()"
      ],
      "metadata": {
        "colab": {
          "base_uri": "https://localhost:8080/"
        },
        "id": "Vw73hOGF-jYh",
        "outputId": "af67a41c-cd07-44b4-ae3a-e0ce00b8aae1"
      },
      "execution_count": null,
      "outputs": [
        {
          "output_type": "stream",
          "name": "stdout",
          "text": [
            "root\n",
            " |-- ident: struct (nullable = true)\n",
            " |    |-- customerID: string (nullable = true)\n",
            " |    |-- source: string (nullable = true)\n",
            " |-- listing: struct (nullable = true)\n",
            " |    |-- address: struct (nullable = true)\n",
            " |    |    |-- city: string (nullable = true)\n",
            " |    |    |-- location: struct (nullable = true)\n",
            " |    |    |    |-- lat: double (nullable = true)\n",
            " |    |    |    |-- lon: double (nullable = true)\n",
            " |    |    |-- neighborhood: string (nullable = true)\n",
            " |    |    |-- zone: string (nullable = true)\n",
            " |    |-- features: struct (nullable = true)\n",
            " |    |    |-- bathrooms: long (nullable = true)\n",
            " |    |    |-- bedrooms: long (nullable = true)\n",
            " |    |    |-- floors: long (nullable = true)\n",
            " |    |    |-- parkingSpaces: long (nullable = true)\n",
            " |    |    |-- suites: long (nullable = true)\n",
            " |    |    |-- totalAreas: string (nullable = true)\n",
            " |    |    |-- unitFloor: long (nullable = true)\n",
            " |    |    |-- unitsOnTheFloor: long (nullable = true)\n",
            " |    |    |-- usableAreas: string (nullable = true)\n",
            " |    |-- prices: struct (nullable = true)\n",
            " |    |    |-- price: string (nullable = true)\n",
            " |    |    |-- tax: struct (nullable = true)\n",
            " |    |    |    |-- condo: string (nullable = true)\n",
            " |    |    |    |-- iptu: string (nullable = true)\n",
            " |    |-- types: struct (nullable = true)\n",
            " |    |    |-- unit: string (nullable = true)\n",
            " |    |    |-- usage: string (nullable = true)\n",
            "\n"
          ]
        }
      ]
    },
    {
      "cell_type": "code",
      "source": [
        "dados \\\n",
        "  .select('ident.customerID', 'listing.*')\\\n",
        "  .show(truncate=False)"
      ],
      "metadata": {
        "colab": {
          "base_uri": "https://localhost:8080/"
        },
        "id": "IHnP1jqJ-jbP",
        "outputId": "3cd138aa-aec4-43b4-8ac3-4b132eeadc19"
      },
      "execution_count": null,
      "outputs": [
        {
          "output_type": "stream",
          "name": "stdout",
          "text": [
            "+---------------+--------------------------------------------------------------------------------+-------------------------------+---------------------+--------------------------+\n",
            "|customerID     |address                                                                         |features                       |prices               |types                     |\n",
            "+---------------+--------------------------------------------------------------------------------+-------------------------------+---------------------+--------------------------+\n",
            "|775564-BOJSMVON|{Rio de Janeiro, {-22.909429, -43.413557}, Taquara, Zona Oeste}                 |{0, 0, 0, 1, 0, 62, 0, 0, 62}  |{45000, {150, 0}}    |{Outros, Residencial}     |\n",
            "|660895-AUENKNYY|{Rio de Janeiro, {-22.869698, -43.509141}, Santíssimo, Zona Oeste}              |{1, 2, 0, 1, 0, 0, 0, 0, 44}   |{45000, {120, 0}}    |{Apartamento, Residencial}|\n",
            "|751522-JESYFEQL|{Rio de Janeiro, {-22.986927, -43.646786}, Pedra de Guaratiba, Zona Oeste}      |{0, 0, 0, 0, 0, 132, 0, 0, 132}|{50000, {100, 0}}    |{Outros, Residencial}     |\n",
            "|714052-GAAEWYKS|{Rio de Janeiro, {-22.881977, -43.330818}, Cascadura, Zona Norte}               |{1, 0, 0, 0, 0, 32, 3, 0, 32}  |{45000, {468, 346}}  |{Outros, Comercial}       |\n",
            "|568886-ZIBFOMCC|{Rio de Janeiro, {-23.027653, -43.480742}, Recreio dos Bandeirantes, Zona Oeste}|{2, 3, 3, 1, 1, 0, 2, 4, 60}   |{50000, {400, 120}}  |{Apartamento, Residencial}|\n",
            "|526755-OBLTYTEN|{Rio de Janeiro, {-22.966059, -43.571183}, Guaratiba, Zona Oeste}               |{0, 0, 0, 0, 0, 200, 0, 0, 200}|{50000, {0, null}}   |{Outros, Residencial}     |\n",
            "|593569-CJLMNFGW|{Rio de Janeiro, {-22.939028, -43.3453}, Freguesia (Jacarepaguá), Zona Oeste}   |{1, 0, 0, 0, 0, 25, 2, 0, 25}  |{50000, {801, 211}}  |{Outros, Comercial}       |\n",
            "|989181-RYJOLMCU|{Rio de Janeiro, {-22.841509, -43.278855}, Penha, Zona Norte}                   |{1, 0, 0, 0, 0, 23, 0, 0, 23}  |{50000, {230, null}} |{Outros, Comercial}       |\n",
            "|145372-EZKAKSWM|{Rio de Janeiro, {-22.835609, -43.392253}, Ricardo de Albuquerque, Zona Norte}  |{0, 0, 0, 0, 0, 60, 0, 0, 60}  |{45000, {null, null}}|{Outros, Comercial}       |\n",
            "|792086-NWNQTDYL|{Rio de Janeiro, {-22.885306, -43.253044}, Jacarezinho, Zona Norte}             |{1, 1, 0, 1, 0, 35, 0, 0, 33}  |{45336, {0, 0}}      |{Apartamento, Residencial}|\n",
            "|339622-MNZGLKTZ|{Rio de Janeiro, {-22.990425, -43.635505}, Guaratiba, Zona Oeste}               |{0, 0, 0, 0, 0, 120, 0, 0, 120}|{45000, {0, 0}}      |{Outros, Residencial}     |\n",
            "|952338-SVULQMXR|{Rio de Janeiro, {-22.877982, -43.651456}, Santa Cruz, Zona Oeste}              |{0, 0, 0, 0, 0, 468, 0, 0, 468}|{45000, {0, 0}}      |{Outros, Residencial}     |\n",
            "|570439-LDICQOXZ|{Rio de Janeiro, {-22.998183, -43.504337}, Vargem Grande, Zona Oeste}           |{0, 0, 0, 0, 0, 180, 1, 0, 180}|{50000, {0, 0}}      |{Outros, Residencial}     |\n",
            "|684023-YTBNKLLO|{Rio de Janeiro, {-22.843794, -43.512464}, Bangu, Zona Oeste}                   |{0, 0, 0, 0, 0, 128, 0, 0, 128}|{50000, {0, 0}}      |{Outros, Residencial}     |\n",
            "|629412-VKUMMAVR|{Rio de Janeiro, {-22.91077, -43.37182}, Tanque, Zona Oeste}                    |{0, 0, 0, 0, 0, 82, 1, 0, 82}  |{45000, {300, 0}}    |{Outros, Residencial}     |\n",
            "|041590-HMJIRKDX|{Rio de Janeiro, {-22.910099, -43.17797}, Centro, Zona Central}                 |{0, 0, 0, 1, 0, 5, 0, 0, 5}    |{45000, {0, 0}}      |{Outros, Comercial}       |\n",
            "|870098-XTRYJAGY|{Rio de Janeiro, {-22.867219, -43.335067}, Madureira, Zona Norte}               |{1, 0, 0, 0, 0, 350, 0, 0, 350}|{50000, {0, 1600}}   |{Outros, Comercial}       |\n",
            "|951104-MACIAPIS|{Rio de Janeiro, {-22.897014, -43.201575}, Santo Cristo, Zona Central}          |{2, 3, 20, 1, 1, 0, 20, 19, 70}|{45000, {350, 120}}  |{Apartamento, Residencial}|\n",
            "|375665-GHMFEZXX|{Rio de Janeiro, {-22.902419, -43.20952}, Santo Cristo, Zona Central}           |{2, 3, 20, 1, 1, 0, 20, 19, 70}|{50000, {350, 120}}  |{Apartamento, Residencial}|\n",
            "|441711-LRTWHRUA|{Rio de Janeiro, {-22.989852, -43.623097}, Pedra de Guaratiba, Zona Oeste}      |{1, 1, 0, 0, 0, 45, 2, 0, 37}  |{50000, {0, 0}}      |{Apartamento, Residencial}|\n",
            "+---------------+--------------------------------------------------------------------------------+-------------------------------+---------------------+--------------------------+\n",
            "only showing top 20 rows\n",
            "\n"
          ]
        }
      ]
    },
    {
      "cell_type": "code",
      "source": [
        "dados\\\n",
        "  .select('ident.customerID', 'listing.types.*', 'listing.features.*','listing.address.*', 'listing.prices.price', 'listing.prices.tax.*')\\\n",
        "  .show(truncate=False)"
      ],
      "metadata": {
        "colab": {
          "base_uri": "https://localhost:8080/"
        },
        "id": "V5FfoxFI-jeQ",
        "outputId": "560ca26b-b0e0-4cd8-ee37-69b6d744075f"
      },
      "execution_count": null,
      "outputs": [
        {
          "output_type": "stream",
          "name": "stdout",
          "text": [
            "+---------------+-----------+-----------+---------+--------+------+-------------+------+----------+---------+---------------+-----------+--------------+------------------------+------------------------+------------+-----+-----+----+\n",
            "|customerID     |unit       |usage      |bathrooms|bedrooms|floors|parkingSpaces|suites|totalAreas|unitFloor|unitsOnTheFloor|usableAreas|city          |location                |neighborhood            |zone        |price|condo|iptu|\n",
            "+---------------+-----------+-----------+---------+--------+------+-------------+------+----------+---------+---------------+-----------+--------------+------------------------+------------------------+------------+-----+-----+----+\n",
            "|775564-BOJSMVON|Outros     |Residencial|0        |0       |0     |1            |0     |62        |0        |0              |62         |Rio de Janeiro|{-22.909429, -43.413557}|Taquara                 |Zona Oeste  |45000|150  |0   |\n",
            "|660895-AUENKNYY|Apartamento|Residencial|1        |2       |0     |1            |0     |0         |0        |0              |44         |Rio de Janeiro|{-22.869698, -43.509141}|Santíssimo              |Zona Oeste  |45000|120  |0   |\n",
            "|751522-JESYFEQL|Outros     |Residencial|0        |0       |0     |0            |0     |132       |0        |0              |132        |Rio de Janeiro|{-22.986927, -43.646786}|Pedra de Guaratiba      |Zona Oeste  |50000|100  |0   |\n",
            "|714052-GAAEWYKS|Outros     |Comercial  |1        |0       |0     |0            |0     |32        |3        |0              |32         |Rio de Janeiro|{-22.881977, -43.330818}|Cascadura               |Zona Norte  |45000|468  |346 |\n",
            "|568886-ZIBFOMCC|Apartamento|Residencial|2        |3       |3     |1            |1     |0         |2        |4              |60         |Rio de Janeiro|{-23.027653, -43.480742}|Recreio dos Bandeirantes|Zona Oeste  |50000|400  |120 |\n",
            "|526755-OBLTYTEN|Outros     |Residencial|0        |0       |0     |0            |0     |200       |0        |0              |200        |Rio de Janeiro|{-22.966059, -43.571183}|Guaratiba               |Zona Oeste  |50000|0    |null|\n",
            "|593569-CJLMNFGW|Outros     |Comercial  |1        |0       |0     |0            |0     |25        |2        |0              |25         |Rio de Janeiro|{-22.939028, -43.3453}  |Freguesia (Jacarepaguá) |Zona Oeste  |50000|801  |211 |\n",
            "|989181-RYJOLMCU|Outros     |Comercial  |1        |0       |0     |0            |0     |23        |0        |0              |23         |Rio de Janeiro|{-22.841509, -43.278855}|Penha                   |Zona Norte  |50000|230  |null|\n",
            "|145372-EZKAKSWM|Outros     |Comercial  |0        |0       |0     |0            |0     |60        |0        |0              |60         |Rio de Janeiro|{-22.835609, -43.392253}|Ricardo de Albuquerque  |Zona Norte  |45000|null |null|\n",
            "|792086-NWNQTDYL|Apartamento|Residencial|1        |1       |0     |1            |0     |35        |0        |0              |33         |Rio de Janeiro|{-22.885306, -43.253044}|Jacarezinho             |Zona Norte  |45336|0    |0   |\n",
            "|339622-MNZGLKTZ|Outros     |Residencial|0        |0       |0     |0            |0     |120       |0        |0              |120        |Rio de Janeiro|{-22.990425, -43.635505}|Guaratiba               |Zona Oeste  |45000|0    |0   |\n",
            "|952338-SVULQMXR|Outros     |Residencial|0        |0       |0     |0            |0     |468       |0        |0              |468        |Rio de Janeiro|{-22.877982, -43.651456}|Santa Cruz              |Zona Oeste  |45000|0    |0   |\n",
            "|570439-LDICQOXZ|Outros     |Residencial|0        |0       |0     |0            |0     |180       |1        |0              |180        |Rio de Janeiro|{-22.998183, -43.504337}|Vargem Grande           |Zona Oeste  |50000|0    |0   |\n",
            "|684023-YTBNKLLO|Outros     |Residencial|0        |0       |0     |0            |0     |128       |0        |0              |128        |Rio de Janeiro|{-22.843794, -43.512464}|Bangu                   |Zona Oeste  |50000|0    |0   |\n",
            "|629412-VKUMMAVR|Outros     |Residencial|0        |0       |0     |0            |0     |82        |1        |0              |82         |Rio de Janeiro|{-22.91077, -43.37182}  |Tanque                  |Zona Oeste  |45000|300  |0   |\n",
            "|041590-HMJIRKDX|Outros     |Comercial  |0        |0       |0     |1            |0     |5         |0        |0              |5          |Rio de Janeiro|{-22.910099, -43.17797} |Centro                  |Zona Central|45000|0    |0   |\n",
            "|870098-XTRYJAGY|Outros     |Comercial  |1        |0       |0     |0            |0     |350       |0        |0              |350        |Rio de Janeiro|{-22.867219, -43.335067}|Madureira               |Zona Norte  |50000|0    |1600|\n",
            "|951104-MACIAPIS|Apartamento|Residencial|2        |3       |20    |1            |1     |0         |20       |19             |70         |Rio de Janeiro|{-22.897014, -43.201575}|Santo Cristo            |Zona Central|45000|350  |120 |\n",
            "|375665-GHMFEZXX|Apartamento|Residencial|2        |3       |20    |1            |1     |0         |20       |19             |70         |Rio de Janeiro|{-22.902419, -43.20952} |Santo Cristo            |Zona Central|50000|350  |120 |\n",
            "|441711-LRTWHRUA|Apartamento|Residencial|1        |1       |0     |0            |0     |45        |2        |0              |37         |Rio de Janeiro|{-22.989852, -43.623097}|Pedra de Guaratiba      |Zona Oeste  |50000|0    |0   |\n",
            "+---------------+-----------+-----------+---------+--------+------+-------------+------+----------+---------+---------------+-----------+--------------+------------------------+------------------------+------------+-----+-----+----+\n",
            "only showing top 20 rows\n",
            "\n"
          ]
        }
      ]
    },
    {
      "cell_type": "code",
      "source": [
        "dados\\\n",
        "  .select('ident.customerID', 'listing.types.*', 'listing.features.*', 'listing.address.*', 'listing.prices.price', 'listing.prices.tax.*')\\\n",
        "  .drop('city', 'location', 'totalAreas')\\\n",
        "  .show(truncate=False)"
      ],
      "metadata": {
        "id": "DcDAwwZo8eFT",
        "colab": {
          "base_uri": "https://localhost:8080/"
        },
        "outputId": "b6642375-aedb-4708-ba49-2de10fcb96dc"
      },
      "execution_count": null,
      "outputs": [
        {
          "output_type": "stream",
          "name": "stdout",
          "text": [
            "+---------------+-----------+-----------+---------+--------+------+-------------+------+---------+---------------+-----------+------------------------+------------+-----+-----+----+\n",
            "|customerID     |unit       |usage      |bathrooms|bedrooms|floors|parkingSpaces|suites|unitFloor|unitsOnTheFloor|usableAreas|neighborhood            |zone        |price|condo|iptu|\n",
            "+---------------+-----------+-----------+---------+--------+------+-------------+------+---------+---------------+-----------+------------------------+------------+-----+-----+----+\n",
            "|775564-BOJSMVON|Outros     |Residencial|0        |0       |0     |1            |0     |0        |0              |62         |Taquara                 |Zona Oeste  |45000|150  |0   |\n",
            "|660895-AUENKNYY|Apartamento|Residencial|1        |2       |0     |1            |0     |0        |0              |44         |Santíssimo              |Zona Oeste  |45000|120  |0   |\n",
            "|751522-JESYFEQL|Outros     |Residencial|0        |0       |0     |0            |0     |0        |0              |132        |Pedra de Guaratiba      |Zona Oeste  |50000|100  |0   |\n",
            "|714052-GAAEWYKS|Outros     |Comercial  |1        |0       |0     |0            |0     |3        |0              |32         |Cascadura               |Zona Norte  |45000|468  |346 |\n",
            "|568886-ZIBFOMCC|Apartamento|Residencial|2        |3       |3     |1            |1     |2        |4              |60         |Recreio dos Bandeirantes|Zona Oeste  |50000|400  |120 |\n",
            "|526755-OBLTYTEN|Outros     |Residencial|0        |0       |0     |0            |0     |0        |0              |200        |Guaratiba               |Zona Oeste  |50000|0    |null|\n",
            "|593569-CJLMNFGW|Outros     |Comercial  |1        |0       |0     |0            |0     |2        |0              |25         |Freguesia (Jacarepaguá) |Zona Oeste  |50000|801  |211 |\n",
            "|989181-RYJOLMCU|Outros     |Comercial  |1        |0       |0     |0            |0     |0        |0              |23         |Penha                   |Zona Norte  |50000|230  |null|\n",
            "|145372-EZKAKSWM|Outros     |Comercial  |0        |0       |0     |0            |0     |0        |0              |60         |Ricardo de Albuquerque  |Zona Norte  |45000|null |null|\n",
            "|792086-NWNQTDYL|Apartamento|Residencial|1        |1       |0     |1            |0     |0        |0              |33         |Jacarezinho             |Zona Norte  |45336|0    |0   |\n",
            "|339622-MNZGLKTZ|Outros     |Residencial|0        |0       |0     |0            |0     |0        |0              |120        |Guaratiba               |Zona Oeste  |45000|0    |0   |\n",
            "|952338-SVULQMXR|Outros     |Residencial|0        |0       |0     |0            |0     |0        |0              |468        |Santa Cruz              |Zona Oeste  |45000|0    |0   |\n",
            "|570439-LDICQOXZ|Outros     |Residencial|0        |0       |0     |0            |0     |1        |0              |180        |Vargem Grande           |Zona Oeste  |50000|0    |0   |\n",
            "|684023-YTBNKLLO|Outros     |Residencial|0        |0       |0     |0            |0     |0        |0              |128        |Bangu                   |Zona Oeste  |50000|0    |0   |\n",
            "|629412-VKUMMAVR|Outros     |Residencial|0        |0       |0     |0            |0     |1        |0              |82         |Tanque                  |Zona Oeste  |45000|300  |0   |\n",
            "|041590-HMJIRKDX|Outros     |Comercial  |0        |0       |0     |1            |0     |0        |0              |5          |Centro                  |Zona Central|45000|0    |0   |\n",
            "|870098-XTRYJAGY|Outros     |Comercial  |1        |0       |0     |0            |0     |0        |0              |350        |Madureira               |Zona Norte  |50000|0    |1600|\n",
            "|951104-MACIAPIS|Apartamento|Residencial|2        |3       |20    |1            |1     |20       |19             |70         |Santo Cristo            |Zona Central|45000|350  |120 |\n",
            "|375665-GHMFEZXX|Apartamento|Residencial|2        |3       |20    |1            |1     |20       |19             |70         |Santo Cristo            |Zona Central|50000|350  |120 |\n",
            "|441711-LRTWHRUA|Apartamento|Residencial|1        |1       |0     |0            |0     |2        |0              |37         |Pedra de Guaratiba      |Zona Oeste  |50000|0    |0   |\n",
            "+---------------+-----------+-----------+---------+--------+------+-------------+------+---------+---------------+-----------+------------------------+------------+-----+-----+----+\n",
            "only showing top 20 rows\n",
            "\n"
          ]
        }
      ]
    },
    {
      "cell_type": "code",
      "source": [
        "dataset=dados\\\n",
        "  .select('ident.customerID', 'listing.types.*', 'listing.features.*', 'listing.address.*', 'listing.prices.price', 'listing.prices.tax.*')\\\n",
        "  .drop('city', 'location', 'totalAreas')"
      ],
      "metadata": {
        "id": "HC7pce9V8eH8"
      },
      "execution_count": null,
      "outputs": []
    },
    {
      "cell_type": "markdown",
      "source": [
        "Tratamento de Dados"
      ],
      "metadata": {
        "id": "Xq8I_uNqJPlt"
      }
    },
    {
      "cell_type": "code",
      "source": [
        "dataset.printSchema()"
      ],
      "metadata": {
        "colab": {
          "base_uri": "https://localhost:8080/"
        },
        "id": "EcW_nAFxIN0e",
        "outputId": "cf3a9ebc-f927-435b-9cfe-93eec873f08d"
      },
      "execution_count": null,
      "outputs": [
        {
          "output_type": "stream",
          "name": "stdout",
          "text": [
            "root\n",
            " |-- customerID: string (nullable = true)\n",
            " |-- unit: string (nullable = true)\n",
            " |-- usage: string (nullable = true)\n",
            " |-- bathrooms: long (nullable = true)\n",
            " |-- bedrooms: long (nullable = true)\n",
            " |-- floors: long (nullable = true)\n",
            " |-- parkingSpaces: long (nullable = true)\n",
            " |-- suites: long (nullable = true)\n",
            " |-- unitFloor: long (nullable = true)\n",
            " |-- unitsOnTheFloor: long (nullable = true)\n",
            " |-- usableAreas: string (nullable = true)\n",
            " |-- neighborhood: string (nullable = true)\n",
            " |-- zone: string (nullable = true)\n",
            " |-- price: string (nullable = true)\n",
            " |-- condo: string (nullable = true)\n",
            " |-- iptu: string (nullable = true)\n",
            "\n"
          ]
        }
      ]
    },
    {
      "cell_type": "code",
      "source": [
        "from pyspark.sql.types import IntegerType, DoubleType"
      ],
      "metadata": {
        "id": "fbah5husIN3X"
      },
      "execution_count": null,
      "outputs": []
    },
    {
      "cell_type": "code",
      "source": [
        "dataset\\\n",
        "  .withColumn('usableAreas', dataset['usableAreas'].cast(IntegerType()))\\\n",
        "  .withColumn('price', dataset['price'].cast(DoubleType()))\\\n",
        "  .withColumn('condo', dataset['condo'].cast(DoubleType()))\\\n",
        "  .withColumn('iptu', dataset['iptu'].cast(DoubleType()))\\\n",
        "  .printSchema()"
      ],
      "metadata": {
        "colab": {
          "base_uri": "https://localhost:8080/"
        },
        "id": "XjUDKmpdIN5z",
        "outputId": "ca980064-c3fd-4d98-d5a7-40d7e400ff9e"
      },
      "execution_count": null,
      "outputs": [
        {
          "output_type": "stream",
          "name": "stdout",
          "text": [
            "root\n",
            " |-- customerID: string (nullable = true)\n",
            " |-- unit: string (nullable = true)\n",
            " |-- usage: string (nullable = true)\n",
            " |-- bathrooms: long (nullable = true)\n",
            " |-- bedrooms: long (nullable = true)\n",
            " |-- floors: long (nullable = true)\n",
            " |-- parkingSpaces: long (nullable = true)\n",
            " |-- suites: long (nullable = true)\n",
            " |-- unitFloor: long (nullable = true)\n",
            " |-- unitsOnTheFloor: long (nullable = true)\n",
            " |-- usableAreas: integer (nullable = true)\n",
            " |-- neighborhood: string (nullable = true)\n",
            " |-- zone: string (nullable = true)\n",
            " |-- price: double (nullable = true)\n",
            " |-- condo: double (nullable = true)\n",
            " |-- iptu: double (nullable = true)\n",
            "\n"
          ]
        }
      ]
    },
    {
      "cell_type": "code",
      "source": [
        "dataset\\\n",
        "  .withColumn('usableAreas', dataset['usableAreas'].cast(IntegerType()))\\\n",
        "  .withColumn('price', dataset['price'].cast(DoubleType()))\\\n",
        "  .withColumn('condo', dataset['condo'].cast(DoubleType()))\\\n",
        "  .withColumn('iptu', dataset['iptu'].cast(DoubleType()))"
      ],
      "metadata": {
        "colab": {
          "base_uri": "https://localhost:8080/"
        },
        "id": "HHsnFny7IN8V",
        "outputId": "0762ac69-0ac4-4ce4-8f4b-40bf725dbe0d"
      },
      "execution_count": null,
      "outputs": [
        {
          "output_type": "execute_result",
          "data": {
            "text/plain": [
              "DataFrame[customerID: string, unit: string, usage: string, bathrooms: bigint, bedrooms: bigint, floors: bigint, parkingSpaces: bigint, suites: bigint, unitFloor: bigint, unitsOnTheFloor: bigint, usableAreas: int, neighborhood: string, zone: string, price: double, condo: double, iptu: double]"
            ]
          },
          "metadata": {},
          "execution_count": 72
        }
      ]
    },
    {
      "cell_type": "code",
      "source": [
        "dataset.show()"
      ],
      "metadata": {
        "colab": {
          "base_uri": "https://localhost:8080/"
        },
        "id": "ZtlbL6I8IN-x",
        "outputId": "75622f02-9971-4aec-e333-17c6e3649765"
      },
      "execution_count": null,
      "outputs": [
        {
          "output_type": "stream",
          "name": "stdout",
          "text": [
            "+---------------+-----------+-----------+---------+--------+------+-------------+------+---------+---------------+-----------+--------------------+------------+-----+-----+----+\n",
            "|     customerID|       unit|      usage|bathrooms|bedrooms|floors|parkingSpaces|suites|unitFloor|unitsOnTheFloor|usableAreas|        neighborhood|        zone|price|condo|iptu|\n",
            "+---------------+-----------+-----------+---------+--------+------+-------------+------+---------+---------------+-----------+--------------------+------------+-----+-----+----+\n",
            "|775564-BOJSMVON|     Outros|Residencial|        0|       0|     0|            1|     0|        0|              0|         62|             Taquara|  Zona Oeste|45000|  150|   0|\n",
            "|660895-AUENKNYY|Apartamento|Residencial|        1|       2|     0|            1|     0|        0|              0|         44|          Santíssimo|  Zona Oeste|45000|  120|   0|\n",
            "|751522-JESYFEQL|     Outros|Residencial|        0|       0|     0|            0|     0|        0|              0|        132|  Pedra de Guaratiba|  Zona Oeste|50000|  100|   0|\n",
            "|714052-GAAEWYKS|     Outros|  Comercial|        1|       0|     0|            0|     0|        3|              0|         32|           Cascadura|  Zona Norte|45000|  468| 346|\n",
            "|568886-ZIBFOMCC|Apartamento|Residencial|        2|       3|     3|            1|     1|        2|              4|         60|Recreio dos Bande...|  Zona Oeste|50000|  400| 120|\n",
            "|526755-OBLTYTEN|     Outros|Residencial|        0|       0|     0|            0|     0|        0|              0|        200|           Guaratiba|  Zona Oeste|50000|    0|null|\n",
            "|593569-CJLMNFGW|     Outros|  Comercial|        1|       0|     0|            0|     0|        2|              0|         25|Freguesia (Jacare...|  Zona Oeste|50000|  801| 211|\n",
            "|989181-RYJOLMCU|     Outros|  Comercial|        1|       0|     0|            0|     0|        0|              0|         23|               Penha|  Zona Norte|50000|  230|null|\n",
            "|145372-EZKAKSWM|     Outros|  Comercial|        0|       0|     0|            0|     0|        0|              0|         60|Ricardo de Albuqu...|  Zona Norte|45000| null|null|\n",
            "|792086-NWNQTDYL|Apartamento|Residencial|        1|       1|     0|            1|     0|        0|              0|         33|         Jacarezinho|  Zona Norte|45336|    0|   0|\n",
            "|339622-MNZGLKTZ|     Outros|Residencial|        0|       0|     0|            0|     0|        0|              0|        120|           Guaratiba|  Zona Oeste|45000|    0|   0|\n",
            "|952338-SVULQMXR|     Outros|Residencial|        0|       0|     0|            0|     0|        0|              0|        468|          Santa Cruz|  Zona Oeste|45000|    0|   0|\n",
            "|570439-LDICQOXZ|     Outros|Residencial|        0|       0|     0|            0|     0|        1|              0|        180|       Vargem Grande|  Zona Oeste|50000|    0|   0|\n",
            "|684023-YTBNKLLO|     Outros|Residencial|        0|       0|     0|            0|     0|        0|              0|        128|               Bangu|  Zona Oeste|50000|    0|   0|\n",
            "|629412-VKUMMAVR|     Outros|Residencial|        0|       0|     0|            0|     0|        1|              0|         82|              Tanque|  Zona Oeste|45000|  300|   0|\n",
            "|041590-HMJIRKDX|     Outros|  Comercial|        0|       0|     0|            1|     0|        0|              0|          5|              Centro|Zona Central|45000|    0|   0|\n",
            "|870098-XTRYJAGY|     Outros|  Comercial|        1|       0|     0|            0|     0|        0|              0|        350|           Madureira|  Zona Norte|50000|    0|1600|\n",
            "|951104-MACIAPIS|Apartamento|Residencial|        2|       3|    20|            1|     1|       20|             19|         70|        Santo Cristo|Zona Central|45000|  350| 120|\n",
            "|375665-GHMFEZXX|Apartamento|Residencial|        2|       3|    20|            1|     1|       20|             19|         70|        Santo Cristo|Zona Central|50000|  350| 120|\n",
            "|441711-LRTWHRUA|Apartamento|Residencial|        1|       1|     0|            0|     0|        2|              0|         37|  Pedra de Guaratiba|  Zona Oeste|50000|    0|   0|\n",
            "+---------------+-----------+-----------+---------+--------+------+-------------+------+---------+---------------+-----------+--------------------+------------+-----+-----+----+\n",
            "only showing top 20 rows\n",
            "\n"
          ]
        }
      ]
    },
    {
      "cell_type": "code",
      "source": [
        "dataset\\\n",
        "  .select('usage')\\\n",
        "  .groupBy('usage')\\\n",
        "  .count()\\\n",
        "  .show()"
      ],
      "metadata": {
        "colab": {
          "base_uri": "https://localhost:8080/"
        },
        "id": "YPF-2qoQIOBQ",
        "outputId": "d1ce34bf-13f6-4c4a-8a40-024c20d3bc12"
      },
      "execution_count": null,
      "outputs": [
        {
          "output_type": "stream",
          "name": "stdout",
          "text": [
            "+-----------+-----+\n",
            "|      usage|count|\n",
            "+-----------+-----+\n",
            "|  Comercial| 4019|\n",
            "|Residencial|69596|\n",
            "+-----------+-----+\n",
            "\n"
          ]
        }
      ]
    },
    {
      "cell_type": "code",
      "source": [
        "dataset = dataset\\\n",
        "  .select('*')\\\n",
        "  .where('usage==\"Residencial\"')"
      ],
      "metadata": {
        "id": "KnyQNrEKIODx"
      },
      "execution_count": null,
      "outputs": []
    },
    {
      "cell_type": "code",
      "source": [
        "dataset\\\n",
        "  .select('unit')\\\n",
        "  .groupBy('unit')\\\n",
        "  .count()\\\n",
        "  .show()"
      ],
      "metadata": {
        "colab": {
          "base_uri": "https://localhost:8080/"
        },
        "id": "b5Hcs6O0LO7Z",
        "outputId": "3b7fa73e-d79c-46ee-c25e-cdc26dca9c79"
      },
      "execution_count": null,
      "outputs": [
        {
          "output_type": "stream",
          "name": "stdout",
          "text": [
            "+-----------+-----+\n",
            "|       unit|count|\n",
            "+-----------+-----+\n",
            "|     Outros| 1190|\n",
            "|Apartamento|59106|\n",
            "|       Casa| 9300|\n",
            "+-----------+-----+\n",
            "\n"
          ]
        }
      ]
    },
    {
      "cell_type": "code",
      "source": [
        "dataset\\\n",
        "  .select('zone')\\\n",
        "  .groupBy('zone')\\\n",
        "  .count()\\\n",
        "  .show()"
      ],
      "metadata": {
        "colab": {
          "base_uri": "https://localhost:8080/"
        },
        "id": "k4ImcibnLO_m",
        "outputId": "66a432e7-066e-46e1-e0a8-06125cacf9a6"
      },
      "execution_count": null,
      "outputs": [
        {
          "output_type": "stream",
          "name": "stdout",
          "text": [
            "+------------+-----+\n",
            "|        zone|count|\n",
            "+------------+-----+\n",
            "|  Zona Norte|14379|\n",
            "|  Zona Oeste|35523|\n",
            "|Zona Central| 1002|\n",
            "|    Zona Sul|18535|\n",
            "|            |  157|\n",
            "+------------+-----+\n",
            "\n"
          ]
        }
      ]
    },
    {
      "cell_type": "markdown",
      "source": [
        "Tratamento de Dados Faltantes"
      ],
      "metadata": {
        "id": "Naz19p-lMW51"
      }
    },
    {
      "cell_type": "code",
      "source": [
        "from pyspark.sql import functions as f"
      ],
      "metadata": {
        "id": "YS97-mFPLPC7"
      },
      "execution_count": null,
      "outputs": []
    },
    {
      "cell_type": "code",
      "source": [
        "dataset.show()"
      ],
      "metadata": {
        "colab": {
          "base_uri": "https://localhost:8080/"
        },
        "id": "dCMuizPnLPF4",
        "outputId": "ab10c744-3a54-4928-cdc8-d85ffcb1645a"
      },
      "execution_count": null,
      "outputs": [
        {
          "output_type": "stream",
          "name": "stdout",
          "text": [
            "+---------------+-----------+-----------+---------+--------+------+-------------+------+---------+---------------+-----------+--------------------+------------+-----+-----+----+\n",
            "|     customerID|       unit|      usage|bathrooms|bedrooms|floors|parkingSpaces|suites|unitFloor|unitsOnTheFloor|usableAreas|        neighborhood|        zone|price|condo|iptu|\n",
            "+---------------+-----------+-----------+---------+--------+------+-------------+------+---------+---------------+-----------+--------------------+------------+-----+-----+----+\n",
            "|775564-BOJSMVON|     Outros|Residencial|        0|       0|     0|            1|     0|        0|              0|         62|             Taquara|  Zona Oeste|45000|  150|   0|\n",
            "|660895-AUENKNYY|Apartamento|Residencial|        1|       2|     0|            1|     0|        0|              0|         44|          Santíssimo|  Zona Oeste|45000|  120|   0|\n",
            "|751522-JESYFEQL|     Outros|Residencial|        0|       0|     0|            0|     0|        0|              0|        132|  Pedra de Guaratiba|  Zona Oeste|50000|  100|   0|\n",
            "|568886-ZIBFOMCC|Apartamento|Residencial|        2|       3|     3|            1|     1|        2|              4|         60|Recreio dos Bande...|  Zona Oeste|50000|  400| 120|\n",
            "|526755-OBLTYTEN|     Outros|Residencial|        0|       0|     0|            0|     0|        0|              0|        200|           Guaratiba|  Zona Oeste|50000|    0|null|\n",
            "|792086-NWNQTDYL|Apartamento|Residencial|        1|       1|     0|            1|     0|        0|              0|         33|         Jacarezinho|  Zona Norte|45336|    0|   0|\n",
            "|339622-MNZGLKTZ|     Outros|Residencial|        0|       0|     0|            0|     0|        0|              0|        120|           Guaratiba|  Zona Oeste|45000|    0|   0|\n",
            "|952338-SVULQMXR|     Outros|Residencial|        0|       0|     0|            0|     0|        0|              0|        468|          Santa Cruz|  Zona Oeste|45000|    0|   0|\n",
            "|570439-LDICQOXZ|     Outros|Residencial|        0|       0|     0|            0|     0|        1|              0|        180|       Vargem Grande|  Zona Oeste|50000|    0|   0|\n",
            "|684023-YTBNKLLO|     Outros|Residencial|        0|       0|     0|            0|     0|        0|              0|        128|               Bangu|  Zona Oeste|50000|    0|   0|\n",
            "|629412-VKUMMAVR|     Outros|Residencial|        0|       0|     0|            0|     0|        1|              0|         82|              Tanque|  Zona Oeste|45000|  300|   0|\n",
            "|951104-MACIAPIS|Apartamento|Residencial|        2|       3|    20|            1|     1|       20|             19|         70|        Santo Cristo|Zona Central|45000|  350| 120|\n",
            "|375665-GHMFEZXX|Apartamento|Residencial|        2|       3|    20|            1|     1|       20|             19|         70|        Santo Cristo|Zona Central|50000|  350| 120|\n",
            "|441711-LRTWHRUA|Apartamento|Residencial|        1|       1|     0|            0|     0|        2|              0|         37|  Pedra de Guaratiba|  Zona Oeste|50000|    0|   0|\n",
            "|221946-ENAQETGD|     Outros|Residencial|        0|       0|     0|            0|     0|        0|              0|        120|           Guaratiba|  Zona Oeste|45020|    0|   0|\n",
            "|023787-PTASXXTL|     Outros|Residencial|        0|       0|     0|            0|     0|        0|              0|        120|           Guaratiba|  Zona Oeste|45040|    0|   0|\n",
            "|385687-SWOBLUWG|     Outros|Residencial|        0|       0|     0|            0|     0|        0|              0|        150|          Santa Cruz|  Zona Oeste|45000|    0|   0|\n",
            "|037953-VZOABKON|Apartamento|Residencial|        1|       2|     0|            1|     0|        0|              0|         30|         Coelho Neto|  Zona Norte|45000| null|   0|\n",
            "|913561-GIAMXOYU|     Outros|Residencial|        0|       0|     0|            0|     0|        0|              0|        128|           Guaratiba|  Zona Oeste|45000|    0|   0|\n",
            "|511928-EYKXPKBU|     Outros|Residencial|        0|       0|     0|            0|     0|        0|              0|        120|           Guaratiba|  Zona Oeste|45070|    0|   0|\n",
            "+---------------+-----------+-----------+---------+--------+------+-------------+------+---------+---------------+-----------+--------------------+------------+-----+-----+----+\n",
            "only showing top 20 rows\n",
            "\n"
          ]
        }
      ]
    },
    {
      "cell_type": "code",
      "source": [
        "dataset\\\n",
        "  .select([f.count(f.when(f.isnan(c) | f.isnull(c), True)).alias(c) for c in dataset.columns])\\\n",
        "  .show()"
      ],
      "metadata": {
        "colab": {
          "base_uri": "https://localhost:8080/"
        },
        "id": "9wtWKfiILPIj",
        "outputId": "ae43c74f-9f45-4528-9f5d-9bf4f17581bb"
      },
      "execution_count": null,
      "outputs": [
        {
          "output_type": "stream",
          "name": "stdout",
          "text": [
            "+----------+----+-----+---------+--------+------+-------------+------+---------+---------------+-----------+------------+----+-----+-----+----+\n",
            "|customerID|unit|usage|bathrooms|bedrooms|floors|parkingSpaces|suites|unitFloor|unitsOnTheFloor|usableAreas|neighborhood|zone|price|condo|iptu|\n",
            "+----------+----+-----+---------+--------+------+-------------+------+---------+---------------+-----------+------------+----+-----+-----+----+\n",
            "|         0|   0|    0|        0|       0|     0|            0|     0|        0|              0|          0|           0|   0|    0| 6061|8726|\n",
            "+----------+----+-----+---------+--------+------+-------------+------+---------+---------------+-----------+------------+----+-----+-----+----+\n",
            "\n"
          ]
        }
      ]
    },
    {
      "cell_type": "code",
      "source": [
        "dataset\\\n",
        "  .select('*')\\\n",
        "  .na\\\n",
        "  .fill(0)\\\n",
        "  .show()"
      ],
      "metadata": {
        "colab": {
          "base_uri": "https://localhost:8080/"
        },
        "id": "TIDoJLjuLPLD",
        "outputId": "e5cd0184-5a4e-49d4-8cb1-f189809ca134"
      },
      "execution_count": null,
      "outputs": [
        {
          "output_type": "stream",
          "name": "stdout",
          "text": [
            "+---------------+-----------+-----------+---------+--------+------+-------------+------+---------+---------------+-----------+--------------------+------------+-----+-----+----+\n",
            "|     customerID|       unit|      usage|bathrooms|bedrooms|floors|parkingSpaces|suites|unitFloor|unitsOnTheFloor|usableAreas|        neighborhood|        zone|price|condo|iptu|\n",
            "+---------------+-----------+-----------+---------+--------+------+-------------+------+---------+---------------+-----------+--------------------+------------+-----+-----+----+\n",
            "|775564-BOJSMVON|     Outros|Residencial|        0|       0|     0|            1|     0|        0|              0|         62|             Taquara|  Zona Oeste|45000|  150|   0|\n",
            "|660895-AUENKNYY|Apartamento|Residencial|        1|       2|     0|            1|     0|        0|              0|         44|          Santíssimo|  Zona Oeste|45000|  120|   0|\n",
            "|751522-JESYFEQL|     Outros|Residencial|        0|       0|     0|            0|     0|        0|              0|        132|  Pedra de Guaratiba|  Zona Oeste|50000|  100|   0|\n",
            "|568886-ZIBFOMCC|Apartamento|Residencial|        2|       3|     3|            1|     1|        2|              4|         60|Recreio dos Bande...|  Zona Oeste|50000|  400| 120|\n",
            "|526755-OBLTYTEN|     Outros|Residencial|        0|       0|     0|            0|     0|        0|              0|        200|           Guaratiba|  Zona Oeste|50000|    0|null|\n",
            "|792086-NWNQTDYL|Apartamento|Residencial|        1|       1|     0|            1|     0|        0|              0|         33|         Jacarezinho|  Zona Norte|45336|    0|   0|\n",
            "|339622-MNZGLKTZ|     Outros|Residencial|        0|       0|     0|            0|     0|        0|              0|        120|           Guaratiba|  Zona Oeste|45000|    0|   0|\n",
            "|952338-SVULQMXR|     Outros|Residencial|        0|       0|     0|            0|     0|        0|              0|        468|          Santa Cruz|  Zona Oeste|45000|    0|   0|\n",
            "|570439-LDICQOXZ|     Outros|Residencial|        0|       0|     0|            0|     0|        1|              0|        180|       Vargem Grande|  Zona Oeste|50000|    0|   0|\n",
            "|684023-YTBNKLLO|     Outros|Residencial|        0|       0|     0|            0|     0|        0|              0|        128|               Bangu|  Zona Oeste|50000|    0|   0|\n",
            "|629412-VKUMMAVR|     Outros|Residencial|        0|       0|     0|            0|     0|        1|              0|         82|              Tanque|  Zona Oeste|45000|  300|   0|\n",
            "|951104-MACIAPIS|Apartamento|Residencial|        2|       3|    20|            1|     1|       20|             19|         70|        Santo Cristo|Zona Central|45000|  350| 120|\n",
            "|375665-GHMFEZXX|Apartamento|Residencial|        2|       3|    20|            1|     1|       20|             19|         70|        Santo Cristo|Zona Central|50000|  350| 120|\n",
            "|441711-LRTWHRUA|Apartamento|Residencial|        1|       1|     0|            0|     0|        2|              0|         37|  Pedra de Guaratiba|  Zona Oeste|50000|    0|   0|\n",
            "|221946-ENAQETGD|     Outros|Residencial|        0|       0|     0|            0|     0|        0|              0|        120|           Guaratiba|  Zona Oeste|45020|    0|   0|\n",
            "|023787-PTASXXTL|     Outros|Residencial|        0|       0|     0|            0|     0|        0|              0|        120|           Guaratiba|  Zona Oeste|45040|    0|   0|\n",
            "|385687-SWOBLUWG|     Outros|Residencial|        0|       0|     0|            0|     0|        0|              0|        150|          Santa Cruz|  Zona Oeste|45000|    0|   0|\n",
            "|037953-VZOABKON|Apartamento|Residencial|        1|       2|     0|            1|     0|        0|              0|         30|         Coelho Neto|  Zona Norte|45000| null|   0|\n",
            "|913561-GIAMXOYU|     Outros|Residencial|        0|       0|     0|            0|     0|        0|              0|        128|           Guaratiba|  Zona Oeste|45000|    0|   0|\n",
            "|511928-EYKXPKBU|     Outros|Residencial|        0|       0|     0|            0|     0|        0|              0|        120|           Guaratiba|  Zona Oeste|45070|    0|   0|\n",
            "+---------------+-----------+-----------+---------+--------+------+-------------+------+---------+---------------+-----------+--------------------+------------+-----+-----+----+\n",
            "only showing top 20 rows\n",
            "\n"
          ]
        }
      ]
    },
    {
      "cell_type": "code",
      "source": [
        "dataset = dataset\\\n",
        "  .select('*')\\\n",
        "  .na\\\n",
        "  .fill(0)"
      ],
      "metadata": {
        "id": "fi-vjK3ZNCff"
      },
      "execution_count": null,
      "outputs": []
    },
    {
      "cell_type": "code",
      "source": [
        "dataset\\\n",
        "  .select([f.count(f.when(f.isnan(c) | f.isnull(c), True)).alias(c) for c in dataset.columns])\\\n",
        "  .show()"
      ],
      "metadata": {
        "colab": {
          "base_uri": "https://localhost:8080/"
        },
        "id": "TTOD35zpNs5O",
        "outputId": "89f84e51-0b35-439f-fd5c-ec92633fa2b8"
      },
      "execution_count": null,
      "outputs": [
        {
          "output_type": "stream",
          "name": "stdout",
          "text": [
            "+----------+----+-----+---------+--------+------+-------------+------+---------+---------------+-----------+------------+----+-----+-----+----+\n",
            "|customerID|unit|usage|bathrooms|bedrooms|floors|parkingSpaces|suites|unitFloor|unitsOnTheFloor|usableAreas|neighborhood|zone|price|condo|iptu|\n",
            "+----------+----+-----+---------+--------+------+-------------+------+---------+---------------+-----------+------------+----+-----+-----+----+\n",
            "|         0|   0|    0|        0|       0|     0|            0|     0|        0|              0|          0|           0|   0|    0| 6061|8726|\n",
            "+----------+----+-----+---------+--------+------+-------------+------+---------+---------------+-----------+------------+----+-----+-----+----+\n",
            "\n"
          ]
        }
      ]
    },
    {
      "cell_type": "code",
      "source": [
        "dataset\\\n",
        "  .select('zone')\\\n",
        "  .groupBy('zone')\\\n",
        "  .count()\\\n",
        "  .show()"
      ],
      "metadata": {
        "colab": {
          "base_uri": "https://localhost:8080/"
        },
        "id": "HCv8E9zVNwl2",
        "outputId": "c6083a80-7ef0-4a56-c22b-88da04858c51"
      },
      "execution_count": null,
      "outputs": [
        {
          "output_type": "stream",
          "name": "stdout",
          "text": [
            "+------------+-----+\n",
            "|        zone|count|\n",
            "+------------+-----+\n",
            "|  Zona Norte|14379|\n",
            "|  Zona Oeste|35523|\n",
            "|Zona Central| 1002|\n",
            "|    Zona Sul|18535|\n",
            "|            |  157|\n",
            "+------------+-----+\n",
            "\n"
          ]
        }
      ]
    },
    {
      "cell_type": "code",
      "source": [
        "dataset = dataset\\\n",
        "  .where(f.col('zone') != '')"
      ],
      "metadata": {
        "id": "n0A9SpeMOBwG"
      },
      "execution_count": null,
      "outputs": []
    },
    {
      "cell_type": "markdown",
      "source": [
        "Modelo Regressão Linear"
      ],
      "metadata": {
        "id": "qYm31YgLr6F8"
      }
    },
    {
      "cell_type": "code",
      "source": [
        "dataset\\\n",
        "  .groupBy('customerID')\\\n",
        "  .pivot('unit')\\\n",
        "  .agg(f.lit(1))\\\n",
        "  .na\\\n",
        "  .fill(0)\\\n",
        "  .show()"
      ],
      "metadata": {
        "id": "SUDBArzYOP7l",
        "colab": {
          "base_uri": "https://localhost:8080/"
        },
        "outputId": "255ba4cb-265b-499b-95b9-86e12829cd0c"
      },
      "execution_count": null,
      "outputs": [
        {
          "output_type": "stream",
          "name": "stdout",
          "text": [
            "+---------------+-----------+----+------+\n",
            "|     customerID|Apartamento|Casa|Outros|\n",
            "+---------------+-----------+----+------+\n",
            "|062130-QKYMWGMV|          1|   0|     0|\n",
            "|630945-AEEUPRXI|          0|   1|     0|\n",
            "|994985-OZQNHQKH|          1|   0|     0|\n",
            "|494674-JWXRZIBM|          1|   0|     0|\n",
            "|458844-UJCRFSRI|          1|   0|     0|\n",
            "|155284-BRCDAOIQ|          1|   0|     0|\n",
            "|396742-DUXBHLRU|          1|   0|     0|\n",
            "|916072-ZJXARAXO|          1|   0|     0|\n",
            "|943843-BVTWWHRQ|          1|   0|     0|\n",
            "|193126-MTNIIFQN|          1|   0|     0|\n",
            "|319762-UXTTQYFS|          1|   0|     0|\n",
            "|931151-GZCTKADB|          1|   0|     0|\n",
            "|103840-OFKPFEZJ|          0|   1|     0|\n",
            "|176885-NNKZRQGM|          0|   1|     0|\n",
            "|926638-PBYRAZYR|          1|   0|     0|\n",
            "|744421-IZJWISWB|          1|   0|     0|\n",
            "|530012-TYGLQMER|          1|   0|     0|\n",
            "|209407-GTEUOVKR|          1|   0|     0|\n",
            "|289667-ZPHGFHJH|          1|   0|     0|\n",
            "|859388-EYTPMKER|          1|   0|     0|\n",
            "+---------------+-----------+----+------+\n",
            "only showing top 20 rows\n",
            "\n"
          ]
        }
      ]
    },
    {
      "cell_type": "code",
      "source": [
        "unit = dataset\\\n",
        "  .groupBy('customerID')\\\n",
        "  .pivot('unit')\\\n",
        "  .agg(f.lit(1))\\\n",
        "  .na\\\n",
        "  .fill(0)"
      ],
      "metadata": {
        "id": "u9ogRwBBT81K"
      },
      "execution_count": null,
      "outputs": []
    },
    {
      "cell_type": "code",
      "source": [
        "zone = dataset\\\n",
        "  .groupBy('customerID')\\\n",
        "  .pivot('zone')\\\n",
        "  .agg(f.lit(1))\\\n",
        "  .na\\\n",
        "  .fill(0)"
      ],
      "metadata": {
        "id": "JDLxctTIT84N"
      },
      "execution_count": null,
      "outputs": []
    },
    {
      "cell_type": "code",
      "source": [
        "dataset = dataset\\\n",
        "  .join(unit, 'customerID', how='inner')\\\n",
        "  .join(zone, 'customerID', how='inner')"
      ],
      "metadata": {
        "id": "cxplKbdPT87G"
      },
      "execution_count": null,
      "outputs": []
    },
    {
      "cell_type": "code",
      "source": [
        "dataset.show()"
      ],
      "metadata": {
        "id": "qfvE-f20T89-",
        "colab": {
          "base_uri": "https://localhost:8080/"
        },
        "outputId": "f026d450-f5ec-4bb9-b218-69f376c3db52"
      },
      "execution_count": null,
      "outputs": [
        {
          "output_type": "stream",
          "name": "stdout",
          "text": [
            "+---------------+-----------+-----------+---------+--------+------+-------------+------+---------+---------------+-----------+--------------------+------------+-----+-----+----+-----------+----+------+------------+----------+----------+--------+\n",
            "|     customerID|       unit|      usage|bathrooms|bedrooms|floors|parkingSpaces|suites|unitFloor|unitsOnTheFloor|usableAreas|        neighborhood|        zone|price|condo|iptu|Apartamento|Casa|Outros|Zona Central|Zona Norte|Zona Oeste|Zona Sul|\n",
            "+---------------+-----------+-----------+---------+--------+------+-------------+------+---------+---------------+-----------+--------------------+------------+-----+-----+----+-----------+----+------+------------+----------+----------+--------+\n",
            "|775564-BOJSMVON|     Outros|Residencial|        0|       0|     0|            1|     0|        0|              0|         62|             Taquara|  Zona Oeste|45000|  150|   0|          0|   0|     1|           0|         0|         1|       0|\n",
            "|660895-AUENKNYY|Apartamento|Residencial|        1|       2|     0|            1|     0|        0|              0|         44|          Santíssimo|  Zona Oeste|45000|  120|   0|          1|   0|     0|           0|         0|         1|       0|\n",
            "|751522-JESYFEQL|     Outros|Residencial|        0|       0|     0|            0|     0|        0|              0|        132|  Pedra de Guaratiba|  Zona Oeste|50000|  100|   0|          0|   0|     1|           0|         0|         1|       0|\n",
            "|568886-ZIBFOMCC|Apartamento|Residencial|        2|       3|     3|            1|     1|        2|              4|         60|Recreio dos Bande...|  Zona Oeste|50000|  400| 120|          1|   0|     0|           0|         0|         1|       0|\n",
            "|526755-OBLTYTEN|     Outros|Residencial|        0|       0|     0|            0|     0|        0|              0|        200|           Guaratiba|  Zona Oeste|50000|    0|null|          0|   0|     1|           0|         0|         1|       0|\n",
            "|792086-NWNQTDYL|Apartamento|Residencial|        1|       1|     0|            1|     0|        0|              0|         33|         Jacarezinho|  Zona Norte|45336|    0|   0|          1|   0|     0|           0|         1|         0|       0|\n",
            "|339622-MNZGLKTZ|     Outros|Residencial|        0|       0|     0|            0|     0|        0|              0|        120|           Guaratiba|  Zona Oeste|45000|    0|   0|          0|   0|     1|           0|         0|         1|       0|\n",
            "|952338-SVULQMXR|     Outros|Residencial|        0|       0|     0|            0|     0|        0|              0|        468|          Santa Cruz|  Zona Oeste|45000|    0|   0|          0|   0|     1|           0|         0|         1|       0|\n",
            "|570439-LDICQOXZ|     Outros|Residencial|        0|       0|     0|            0|     0|        1|              0|        180|       Vargem Grande|  Zona Oeste|50000|    0|   0|          0|   0|     1|           0|         0|         1|       0|\n",
            "|684023-YTBNKLLO|     Outros|Residencial|        0|       0|     0|            0|     0|        0|              0|        128|               Bangu|  Zona Oeste|50000|    0|   0|          0|   0|     1|           0|         0|         1|       0|\n",
            "|629412-VKUMMAVR|     Outros|Residencial|        0|       0|     0|            0|     0|        1|              0|         82|              Tanque|  Zona Oeste|45000|  300|   0|          0|   0|     1|           0|         0|         1|       0|\n",
            "|951104-MACIAPIS|Apartamento|Residencial|        2|       3|    20|            1|     1|       20|             19|         70|        Santo Cristo|Zona Central|45000|  350| 120|          1|   0|     0|           1|         0|         0|       0|\n",
            "|375665-GHMFEZXX|Apartamento|Residencial|        2|       3|    20|            1|     1|       20|             19|         70|        Santo Cristo|Zona Central|50000|  350| 120|          1|   0|     0|           1|         0|         0|       0|\n",
            "|441711-LRTWHRUA|Apartamento|Residencial|        1|       1|     0|            0|     0|        2|              0|         37|  Pedra de Guaratiba|  Zona Oeste|50000|    0|   0|          1|   0|     0|           0|         0|         1|       0|\n",
            "|221946-ENAQETGD|     Outros|Residencial|        0|       0|     0|            0|     0|        0|              0|        120|           Guaratiba|  Zona Oeste|45020|    0|   0|          0|   0|     1|           0|         0|         1|       0|\n",
            "|023787-PTASXXTL|     Outros|Residencial|        0|       0|     0|            0|     0|        0|              0|        120|           Guaratiba|  Zona Oeste|45040|    0|   0|          0|   0|     1|           0|         0|         1|       0|\n",
            "|385687-SWOBLUWG|     Outros|Residencial|        0|       0|     0|            0|     0|        0|              0|        150|          Santa Cruz|  Zona Oeste|45000|    0|   0|          0|   0|     1|           0|         0|         1|       0|\n",
            "|037953-VZOABKON|Apartamento|Residencial|        1|       2|     0|            1|     0|        0|              0|         30|         Coelho Neto|  Zona Norte|45000| null|   0|          1|   0|     0|           0|         1|         0|       0|\n",
            "|913561-GIAMXOYU|     Outros|Residencial|        0|       0|     0|            0|     0|        0|              0|        128|           Guaratiba|  Zona Oeste|45000|    0|   0|          0|   0|     1|           0|         0|         1|       0|\n",
            "|511928-EYKXPKBU|     Outros|Residencial|        0|       0|     0|            0|     0|        0|              0|        120|           Guaratiba|  Zona Oeste|45070|    0|   0|          0|   0|     1|           0|         0|         1|       0|\n",
            "+---------------+-----------+-----------+---------+--------+------+-------------+------+---------+---------------+-----------+--------------------+------------+-----+-----+----+-----------+----+------+------------+----------+----------+--------+\n",
            "only showing top 20 rows\n",
            "\n"
          ]
        }
      ]
    },
    {
      "cell_type": "markdown",
      "source": [
        "Vetorização dos Dados"
      ],
      "metadata": {
        "id": "XHVmzV0ktRN_"
      }
    },
    {
      "cell_type": "code",
      "source": [
        "from pyspark.ml.feature import VectorAssembler\n",
        "from pyspark.sql.types import StructType, StructField, StringType, DoubleType"
      ],
      "metadata": {
        "id": "KqAwDRskT9A7"
      },
      "execution_count": null,
      "outputs": []
    },
    {
      "cell_type": "code",
      "source": [
        "dataset = dataset.withColumnRenamed('price', 'label')"
      ],
      "metadata": {
        "id": "ErqoLEC3T9D0"
      },
      "execution_count": null,
      "outputs": []
    },
    {
      "cell_type": "code",
      "source": [
        "X = [\n",
        "    'bathrooms', \n",
        "    'bedrooms',\n",
        "    'floors',\n",
        "    'parkingSpaces', \n",
        "    'suites',\n",
        "    'unitFloor',\n",
        "    'unitsOnTheFloor',\n",
        "    'usableAreas',\n",
        "    'condo',\n",
        "    'iptu',\n",
        "    'Apartamento',\n",
        "    'Casa',\n",
        "    'Outros',\n",
        "    'Zona Central',\n",
        "    'Zona Norte',\n",
        "    'Zona Oeste',\n",
        "    'Zona Sul'\n",
        "\n",
        "]"
      ],
      "metadata": {
        "id": "oYI8ic5qT9Gr"
      },
      "execution_count": null,
      "outputs": []
    },
    {
      "cell_type": "code",
      "source": [
        "assembler = VectorAssembler(inputCols = X, outputCol = 'features')"
      ],
      "metadata": {
        "id": "PsUpUdTgT9J4"
      },
      "execution_count": null,
      "outputs": []
    },
    {
      "cell_type": "code",
      "source": [
        "dataset.show()"
      ],
      "metadata": {
        "colab": {
          "base_uri": "https://localhost:8080/"
        },
        "id": "BciIoLMjt-yX",
        "outputId": "960c00be-f80e-4bba-9b5d-a5988cb8fa15"
      },
      "execution_count": null,
      "outputs": [
        {
          "output_type": "stream",
          "name": "stdout",
          "text": [
            "+---------------+-----------+-----------+---------+--------+------+-------------+------+---------+---------------+-----------+--------------------+------------+-----+-----+----+-----------+----+------+------------+----------+----------+--------+\n",
            "|     customerID|       unit|      usage|bathrooms|bedrooms|floors|parkingSpaces|suites|unitFloor|unitsOnTheFloor|usableAreas|        neighborhood|        zone|label|condo|iptu|Apartamento|Casa|Outros|Zona Central|Zona Norte|Zona Oeste|Zona Sul|\n",
            "+---------------+-----------+-----------+---------+--------+------+-------------+------+---------+---------------+-----------+--------------------+------------+-----+-----+----+-----------+----+------+------------+----------+----------+--------+\n",
            "|775564-BOJSMVON|     Outros|Residencial|        0|       0|     0|            1|     0|        0|              0|         62|             Taquara|  Zona Oeste|45000|  150|   0|          0|   0|     1|           0|         0|         1|       0|\n",
            "|660895-AUENKNYY|Apartamento|Residencial|        1|       2|     0|            1|     0|        0|              0|         44|          Santíssimo|  Zona Oeste|45000|  120|   0|          1|   0|     0|           0|         0|         1|       0|\n",
            "|751522-JESYFEQL|     Outros|Residencial|        0|       0|     0|            0|     0|        0|              0|        132|  Pedra de Guaratiba|  Zona Oeste|50000|  100|   0|          0|   0|     1|           0|         0|         1|       0|\n",
            "|568886-ZIBFOMCC|Apartamento|Residencial|        2|       3|     3|            1|     1|        2|              4|         60|Recreio dos Bande...|  Zona Oeste|50000|  400| 120|          1|   0|     0|           0|         0|         1|       0|\n",
            "|526755-OBLTYTEN|     Outros|Residencial|        0|       0|     0|            0|     0|        0|              0|        200|           Guaratiba|  Zona Oeste|50000|    0|null|          0|   0|     1|           0|         0|         1|       0|\n",
            "|792086-NWNQTDYL|Apartamento|Residencial|        1|       1|     0|            1|     0|        0|              0|         33|         Jacarezinho|  Zona Norte|45336|    0|   0|          1|   0|     0|           0|         1|         0|       0|\n",
            "|339622-MNZGLKTZ|     Outros|Residencial|        0|       0|     0|            0|     0|        0|              0|        120|           Guaratiba|  Zona Oeste|45000|    0|   0|          0|   0|     1|           0|         0|         1|       0|\n",
            "|952338-SVULQMXR|     Outros|Residencial|        0|       0|     0|            0|     0|        0|              0|        468|          Santa Cruz|  Zona Oeste|45000|    0|   0|          0|   0|     1|           0|         0|         1|       0|\n",
            "|570439-LDICQOXZ|     Outros|Residencial|        0|       0|     0|            0|     0|        1|              0|        180|       Vargem Grande|  Zona Oeste|50000|    0|   0|          0|   0|     1|           0|         0|         1|       0|\n",
            "|684023-YTBNKLLO|     Outros|Residencial|        0|       0|     0|            0|     0|        0|              0|        128|               Bangu|  Zona Oeste|50000|    0|   0|          0|   0|     1|           0|         0|         1|       0|\n",
            "|629412-VKUMMAVR|     Outros|Residencial|        0|       0|     0|            0|     0|        1|              0|         82|              Tanque|  Zona Oeste|45000|  300|   0|          0|   0|     1|           0|         0|         1|       0|\n",
            "|951104-MACIAPIS|Apartamento|Residencial|        2|       3|    20|            1|     1|       20|             19|         70|        Santo Cristo|Zona Central|45000|  350| 120|          1|   0|     0|           1|         0|         0|       0|\n",
            "|375665-GHMFEZXX|Apartamento|Residencial|        2|       3|    20|            1|     1|       20|             19|         70|        Santo Cristo|Zona Central|50000|  350| 120|          1|   0|     0|           1|         0|         0|       0|\n",
            "|441711-LRTWHRUA|Apartamento|Residencial|        1|       1|     0|            0|     0|        2|              0|         37|  Pedra de Guaratiba|  Zona Oeste|50000|    0|   0|          1|   0|     0|           0|         0|         1|       0|\n",
            "|221946-ENAQETGD|     Outros|Residencial|        0|       0|     0|            0|     0|        0|              0|        120|           Guaratiba|  Zona Oeste|45020|    0|   0|          0|   0|     1|           0|         0|         1|       0|\n",
            "|023787-PTASXXTL|     Outros|Residencial|        0|       0|     0|            0|     0|        0|              0|        120|           Guaratiba|  Zona Oeste|45040|    0|   0|          0|   0|     1|           0|         0|         1|       0|\n",
            "|385687-SWOBLUWG|     Outros|Residencial|        0|       0|     0|            0|     0|        0|              0|        150|          Santa Cruz|  Zona Oeste|45000|    0|   0|          0|   0|     1|           0|         0|         1|       0|\n",
            "|037953-VZOABKON|Apartamento|Residencial|        1|       2|     0|            1|     0|        0|              0|         30|         Coelho Neto|  Zona Norte|45000| null|   0|          1|   0|     0|           0|         1|         0|       0|\n",
            "|913561-GIAMXOYU|     Outros|Residencial|        0|       0|     0|            0|     0|        0|              0|        128|           Guaratiba|  Zona Oeste|45000|    0|   0|          0|   0|     1|           0|         0|         1|       0|\n",
            "|511928-EYKXPKBU|     Outros|Residencial|        0|       0|     0|            0|     0|        0|              0|        120|           Guaratiba|  Zona Oeste|45070|    0|   0|          0|   0|     1|           0|         0|         1|       0|\n",
            "+---------------+-----------+-----------+---------+--------+------+-------------+------+---------+---------------+-----------+--------------------+------------+-----+-----+----+-----------+----+------+------------+----------+----------+--------+\n",
            "only showing top 20 rows\n",
            "\n"
          ]
        }
      ]
    },
    {
      "cell_type": "code",
      "source": [
        "from pyspark.ml.stat import Correlation\n",
        "import pandas as pd"
      ],
      "metadata": {
        "id": "pgIEgJNat-6O"
      },
      "execution_count": null,
      "outputs": []
    },
    {
      "cell_type": "code",
      "source": [
        "correlacao = Correlation.corr(dataset, 'features').collect()"
      ],
      "metadata": {
        "id": "gq3QmKNjxAm8"
      },
      "execution_count": null,
      "outputs": []
    },
    {
      "cell_type": "code",
      "source": [
        "correlacao"
      ],
      "metadata": {
        "id": "hDlEoCPQt_Bh"
      },
      "execution_count": null,
      "outputs": []
    },
    {
      "cell_type": "code",
      "source": [
        "correlacao = Correlation.corr(dataset, 'features').collect()[0][0]"
      ],
      "metadata": {
        "id": "1EmZbPZdt_Ea"
      },
      "execution_count": null,
      "outputs": []
    },
    {
      "cell_type": "code",
      "source": [
        "correlacao"
      ],
      "metadata": {
        "id": "GB5joqG6T9NM"
      },
      "execution_count": null,
      "outputs": []
    },
    {
      "cell_type": "code",
      "source": [
        "correlacao.toArray()"
      ],
      "metadata": {
        "id": "EUjmxwRpT9QD"
      },
      "execution_count": null,
      "outputs": []
    },
    {
      "cell_type": "code",
      "source": [
        "dataframe_correlacao = pd.DataFrame(correlacao.toArrya(), columns=X, index=X)"
      ],
      "metadata": {
        "id": "qN5iMIgOyKM8"
      },
      "execution_count": null,
      "outputs": []
    },
    {
      "cell_type": "code",
      "source": [
        "dataframe_correlacao"
      ],
      "metadata": {
        "id": "uA4rXjoTyKSE"
      },
      "execution_count": null,
      "outputs": []
    },
    {
      "cell_type": "code",
      "source": [
        "import matplotlib.pyplot as plt\n",
        "import seaborn as sns"
      ],
      "metadata": {
        "id": "BhfMbCENyKUx"
      },
      "execution_count": null,
      "outputs": []
    },
    {
      "cell_type": "code",
      "source": [
        "plt.figure(figsize=(12, 10))\n",
        "paleta = sns.color_palette(\"light:salmon\", as_cmap=True)\n",
        "sns.heatmap(dataframe_correlacao.round(1), annot=True, cmap=paleta)"
      ],
      "metadata": {
        "id": "2SxP-QOYyKX1"
      },
      "execution_count": null,
      "outputs": []
    },
    {
      "cell_type": "markdown",
      "source": [
        "Ajuste e Previsão"
      ],
      "metadata": {
        "id": "FY3742yFznim"
      }
    },
    {
      "cell_type": "code",
      "source": [
        "from pyspark.ml.regression import LinearRegression\n"
      ],
      "metadata": {
        "id": "n5s6oV17yKa9"
      },
      "execution_count": null,
      "outputs": []
    },
    {
      "cell_type": "code",
      "source": [
        "treino, teste = dataset_prep.randomsplit([0.7, 0.3], seed=101)"
      ],
      "metadata": {
        "id": "BN6WTcCSyKdU"
      },
      "execution_count": null,
      "outputs": []
    },
    {
      "cell_type": "code",
      "source": [
        "treino.count()"
      ],
      "metadata": {
        "id": "U2p6ySWxzvLQ"
      },
      "execution_count": null,
      "outputs": []
    },
    {
      "cell_type": "code",
      "source": [
        "teste.count()"
      ],
      "metadata": {
        "id": "_wU5h5yizvQI"
      },
      "execution_count": null,
      "outputs": []
    },
    {
      "cell_type": "code",
      "source": [
        "lr = LinearRegression()"
      ],
      "metadata": {
        "id": "sx047Uk2zvTD"
      },
      "execution_count": null,
      "outputs": []
    },
    {
      "cell_type": "code",
      "source": [
        "modelo_lr = lr.fit(treino)"
      ],
      "metadata": {
        "id": "WPxiqd0hzvVh"
      },
      "execution_count": null,
      "outputs": []
    },
    {
      "cell_type": "code",
      "source": [
        "previsoes_lr_treino = modelo_lr.transform(treino)"
      ],
      "metadata": {
        "id": "2a44agI5zvYa"
      },
      "execution_count": null,
      "outputs": []
    },
    {
      "cell_type": "code",
      "source": [
        "previsoes_lr_treino.show()"
      ],
      "metadata": {
        "id": "SNkR1g0H0FmE"
      },
      "execution_count": null,
      "outputs": []
    },
    {
      "cell_type": "markdown",
      "source": [
        "Métricas\n"
      ],
      "metadata": {
        "id": "Z_OUgRed03nX"
      }
    },
    {
      "cell_type": "code",
      "source": [
        "resumo_treino = modelo_lr.summary"
      ],
      "metadata": {
        "id": "dm3zLJRh0FpH"
      },
      "execution_count": null,
      "outputs": []
    },
    {
      "cell_type": "code",
      "source": [
        "resumo_treino.r2"
      ],
      "metadata": {
        "id": "6iEW9And0FrY"
      },
      "execution_count": null,
      "outputs": []
    },
    {
      "cell_type": "code",
      "source": [
        "resumo_treino.rootMeanSquaredError"
      ],
      "metadata": {
        "id": "GloBIZYw0FuM"
      },
      "execution_count": null,
      "outputs": []
    },
    {
      "cell_type": "code",
      "source": [
        "resumo_teste = modelo_lr.evaluate(teste)"
      ],
      "metadata": {
        "id": "8DcnPYe50Fw0"
      },
      "execution_count": null,
      "outputs": []
    },
    {
      "cell_type": "code",
      "source": [
        "resumo_teste.r2"
      ],
      "metadata": {
        "id": "ltCBc23g0FzK"
      },
      "execution_count": null,
      "outputs": []
    },
    {
      "cell_type": "code",
      "source": [
        "resumo_teste.rootMeanSquaredError"
      ],
      "metadata": {
        "id": "AXKTy0i70F1z"
      },
      "execution_count": null,
      "outputs": []
    },
    {
      "cell_type": "markdown",
      "source": [
        "Árvore de Decisão - Regressão"
      ],
      "metadata": {
        "id": "QKe3drnc1ouT"
      }
    },
    {
      "cell_type": "code",
      "source": [
        "from pyspark.ml.regression import DecisionTreeRegressor"
      ],
      "metadata": {
        "id": "50rf5B660F4W"
      },
      "execution_count": 117,
      "outputs": []
    },
    {
      "cell_type": "code",
      "source": [
        "dtr = DecisionTreeRegressor(seed=101, maxDepth=7)"
      ],
      "metadata": {
        "id": "Zb6I7qHD0F67"
      },
      "execution_count": null,
      "outputs": []
    },
    {
      "cell_type": "code",
      "source": [
        "modelo_dtr = dtr.fit(treino)"
      ],
      "metadata": {
        "id": "JXqmw3NW0F9k"
      },
      "execution_count": null,
      "outputs": []
    },
    {
      "cell_type": "code",
      "source": [
        "previsoes_dtr_treino = model_dtr.transform(treino)"
      ],
      "metadata": {
        "id": "atzF6dAr0GAs"
      },
      "execution_count": null,
      "outputs": []
    },
    {
      "cell_type": "code",
      "source": [
        "previsoes_dtr_treino.show()"
      ],
      "metadata": {
        "id": "bPvwg4g63udW"
      },
      "execution_count": null,
      "outputs": []
    },
    {
      "cell_type": "markdown",
      "source": [
        "Métricas"
      ],
      "metadata": {
        "id": "DqPcdCDX3zX1"
      }
    },
    {
      "cell_type": "code",
      "source": [
        "from pyspark.ml.evaluation import RegressionEvaluator"
      ],
      "metadata": {
        "id": "AXbTmeDP3uf3"
      },
      "execution_count": 118,
      "outputs": []
    },
    {
      "cell_type": "code",
      "source": [
        "evaluator = RegressionEvaluator()"
      ],
      "metadata": {
        "id": "U12SxBS_3uir"
      },
      "execution_count": null,
      "outputs": []
    },
    {
      "cell_type": "code",
      "source": [
        "print(evaluator.evalute(previsoes_dtr_treino, {evaluator.metricName: \"r2\"}))\n",
        "print(evaluator.evalute(previsoes_dtr_treino, {evaluator.metricName: \"rmse\"}))"
      ],
      "metadata": {
        "id": "3oxBXxvH3ulD"
      },
      "execution_count": null,
      "outputs": []
    },
    {
      "cell_type": "code",
      "source": [
        "previsoes_dtr_teste = modelo_dtr.trnsform(teste)"
      ],
      "metadata": {
        "id": "yqVo1qen3unw"
      },
      "execution_count": null,
      "outputs": []
    },
    {
      "cell_type": "code",
      "source": [
        "previsoes_dtr_teste.show()"
      ],
      "metadata": {
        "id": "3rYiQzU_3uqd"
      },
      "execution_count": null,
      "outputs": []
    },
    {
      "cell_type": "markdown",
      "source": [
        "Random Forest"
      ],
      "metadata": {
        "id": "rF8tYDt-5Hfx"
      }
    },
    {
      "cell_type": "code",
      "source": [
        "from pyspark.ml.regression import RandomForestRegressor"
      ],
      "metadata": {
        "id": "dzk2QWGw3utW"
      },
      "execution_count": 120,
      "outputs": []
    },
    {
      "cell_type": "code",
      "source": [
        "rfr = RandomForestRegressor(seed=101, maxDepth=7, numTrees=10)"
      ],
      "metadata": {
        "id": "bx7njct73uwI"
      },
      "execution_count": null,
      "outputs": []
    },
    {
      "cell_type": "code",
      "source": [
        "modelo_rfr = rfr.fit(treino)"
      ],
      "metadata": {
        "id": "yIywaCZO3uzH"
      },
      "execution_count": null,
      "outputs": []
    },
    {
      "cell_type": "code",
      "source": [
        "previsoes_rfr_treino = modelo.rfr.transform(treino)"
      ],
      "metadata": {
        "id": "BI7mLBaV3u1B"
      },
      "execution_count": null,
      "outputs": []
    },
    {
      "cell_type": "code",
      "source": [
        "previoes_rfr_treino.show()"
      ],
      "metadata": {
        "id": "L5FzgM8Q5gZg"
      },
      "execution_count": null,
      "outputs": []
    }
  ]
}