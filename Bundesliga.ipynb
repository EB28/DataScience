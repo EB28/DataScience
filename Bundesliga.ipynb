{
 "cells": [
  {
   "cell_type": "code",
   "execution_count": 1,
   "id": "079c4b7f-3d23-4d2f-b5f4-a6e406394bd5",
   "metadata": {},
   "outputs": [
    {
     "name": "stderr",
     "output_type": "stream",
     "text": [
      "DEPRECATION: pyodbc 4.0.0-unsupported has a non-standard version number. pip 24.0 will enforce this behaviour change. A possible replacement is to upgrade to a newer version of pyodbc or contact the author to suggest that they release a version with a conforming version number. Discussion can be found at https://github.com/pypa/pip/issues/12063\n",
      "\n",
      "[notice] A new release of pip is available: 23.3.1 -> 23.3.2\n",
      "[notice] To update, run: python.exe -m pip install --upgrade pip\n"
     ]
    }
   ],
   "source": [
    "!pip install plotly matplotlib seaborn --quiet"
   ]
  },
  {
   "cell_type": "code",
   "execution_count": 2,
   "id": "61b56fba-8267-43c0-a9b7-6dd64acd608c",
   "metadata": {},
   "outputs": [],
   "source": [
    "import plotly.express as px\n",
    "import pandas as pd\n",
    "import pyarrow as py\n",
    "import matplotlib\n",
    "import matplotlib.pyplot as plt\n",
    "import seaborn as sns\n",
    "%matplotlib inline"
   ]
  },
  {
   "cell_type": "code",
   "execution_count": 6,
   "id": "9aadc68f-6906-41f9-b21c-35de9a2ef431",
   "metadata": {},
   "outputs": [
    {
     "data": {
      "text/html": [
       "<div>\n",
       "<style scoped>\n",
       "    .dataframe tbody tr th:only-of-type {\n",
       "        vertical-align: middle;\n",
       "    }\n",
       "\n",
       "    .dataframe tbody tr th {\n",
       "        vertical-align: top;\n",
       "    }\n",
       "\n",
       "    .dataframe thead th {\n",
       "        text-align: right;\n",
       "    }\n",
       "</style>\n",
       "<table border=\"1\" class=\"dataframe\">\n",
       "  <thead>\n",
       "    <tr style=\"text-align: right;\">\n",
       "      <th></th>\n",
       "      <th>Unnamed: 0</th>\n",
       "      <th>name</th>\n",
       "      <th>full_name</th>\n",
       "      <th>age</th>\n",
       "      <th>height</th>\n",
       "      <th>nationality</th>\n",
       "      <th>place_of_birth</th>\n",
       "      <th>price</th>\n",
       "      <th>max_price</th>\n",
       "      <th>position</th>\n",
       "      <th>shirt_nr</th>\n",
       "      <th>foot</th>\n",
       "      <th>club</th>\n",
       "      <th>contract_expires</th>\n",
       "      <th>joined_club</th>\n",
       "      <th>player_agent</th>\n",
       "      <th>outfitter</th>\n",
       "    </tr>\n",
       "  </thead>\n",
       "  <tbody>\n",
       "    <tr>\n",
       "      <th>0</th>\n",
       "      <td>0</td>\n",
       "      <td>Manuel Neuer</td>\n",
       "      <td>Manuel Peter Neuer</td>\n",
       "      <td>37</td>\n",
       "      <td>1.93</td>\n",
       "      <td>Germany</td>\n",
       "      <td>Gelsenkirchen</td>\n",
       "      <td>7.0</td>\n",
       "      <td>45.0</td>\n",
       "      <td>Goalkeeper</td>\n",
       "      <td>1</td>\n",
       "      <td>right</td>\n",
       "      <td>Bayern Munich</td>\n",
       "      <td>2024-06-30</td>\n",
       "      <td>2011-07-01</td>\n",
       "      <td>PRO Profil GmbH</td>\n",
       "      <td>adidas</td>\n",
       "    </tr>\n",
       "    <tr>\n",
       "      <th>1</th>\n",
       "      <td>1</td>\n",
       "      <td>Yann Sommer</td>\n",
       "      <td>NaN</td>\n",
       "      <td>34</td>\n",
       "      <td>1.83</td>\n",
       "      <td>Switzerland</td>\n",
       "      <td>Morges</td>\n",
       "      <td>5.0</td>\n",
       "      <td>13.0</td>\n",
       "      <td>Goalkeeper</td>\n",
       "      <td>27</td>\n",
       "      <td>right</td>\n",
       "      <td>Bayern Munich</td>\n",
       "      <td>2025-06-30</td>\n",
       "      <td>2023-01-19</td>\n",
       "      <td>Relatives</td>\n",
       "      <td>Puma</td>\n",
       "    </tr>\n",
       "    <tr>\n",
       "      <th>2</th>\n",
       "      <td>2</td>\n",
       "      <td>Sven Ulreich</td>\n",
       "      <td>NaN</td>\n",
       "      <td>34</td>\n",
       "      <td>1.92</td>\n",
       "      <td>Germany</td>\n",
       "      <td>Schorndorf</td>\n",
       "      <td>0.9</td>\n",
       "      <td>6.0</td>\n",
       "      <td>Goalkeeper</td>\n",
       "      <td>26</td>\n",
       "      <td>right</td>\n",
       "      <td>Bayern Munich</td>\n",
       "      <td>2024-06-30</td>\n",
       "      <td>2021-07-01</td>\n",
       "      <td>BMS Sportconsulting ...</td>\n",
       "      <td>adidas</td>\n",
       "    </tr>\n",
       "    <tr>\n",
       "      <th>3</th>\n",
       "      <td>3</td>\n",
       "      <td>Johannes Schenk</td>\n",
       "      <td>NaN</td>\n",
       "      <td>20</td>\n",
       "      <td>1.91</td>\n",
       "      <td>Germany</td>\n",
       "      <td>Schweinfurt</td>\n",
       "      <td>0.3</td>\n",
       "      <td>0.3</td>\n",
       "      <td>Goalkeeper</td>\n",
       "      <td>35</td>\n",
       "      <td>NaN</td>\n",
       "      <td>Bayern Munich</td>\n",
       "      <td>2024-06-30</td>\n",
       "      <td>2022-07-01</td>\n",
       "      <td>11WINS</td>\n",
       "      <td>NaN</td>\n",
       "    </tr>\n",
       "    <tr>\n",
       "      <th>4</th>\n",
       "      <td>4</td>\n",
       "      <td>Matthijs de Ligt</td>\n",
       "      <td>NaN</td>\n",
       "      <td>23</td>\n",
       "      <td>1.89</td>\n",
       "      <td>Netherlands</td>\n",
       "      <td>Leiderdorp</td>\n",
       "      <td>75.0</td>\n",
       "      <td>75.0</td>\n",
       "      <td>Defender - Centre-Back</td>\n",
       "      <td>4</td>\n",
       "      <td>right</td>\n",
       "      <td>Bayern Munich</td>\n",
       "      <td>2027-06-30</td>\n",
       "      <td>2022-07-19</td>\n",
       "      <td>Rafaela Pimenta</td>\n",
       "      <td>adidas</td>\n",
       "    </tr>\n",
       "  </tbody>\n",
       "</table>\n",
       "</div>"
      ],
      "text/plain": [
       "   Unnamed: 0              name           full_name  age  height  nationality  \\\n",
       "0           0      Manuel Neuer  Manuel Peter Neuer   37    1.93      Germany   \n",
       "1           1       Yann Sommer                 NaN   34    1.83  Switzerland   \n",
       "2           2      Sven Ulreich                 NaN   34    1.92      Germany   \n",
       "3           3   Johannes Schenk                 NaN   20    1.91      Germany   \n",
       "4           4  Matthijs de Ligt                 NaN   23    1.89  Netherlands   \n",
       "\n",
       "  place_of_birth  price  max_price                position  shirt_nr   foot  \\\n",
       "0  Gelsenkirchen    7.0       45.0              Goalkeeper         1  right   \n",
       "1         Morges    5.0       13.0              Goalkeeper        27  right   \n",
       "2     Schorndorf    0.9        6.0              Goalkeeper        26  right   \n",
       "3    Schweinfurt    0.3        0.3              Goalkeeper        35    NaN   \n",
       "4     Leiderdorp   75.0       75.0  Defender - Centre-Back         4  right   \n",
       "\n",
       "            club contract_expires joined_club             player_agent  \\\n",
       "0  Bayern Munich       2024-06-30  2011-07-01          PRO Profil GmbH   \n",
       "1  Bayern Munich       2025-06-30  2023-01-19                Relatives   \n",
       "2  Bayern Munich       2024-06-30  2021-07-01  BMS Sportconsulting ...   \n",
       "3  Bayern Munich       2024-06-30  2022-07-01                   11WINS   \n",
       "4  Bayern Munich       2027-06-30  2022-07-19          Rafaela Pimenta   \n",
       "\n",
       "  outfitter  \n",
       "0    adidas  \n",
       "1      Puma  \n",
       "2    adidas  \n",
       "3       NaN  \n",
       "4    adidas  "
      ]
     },
     "execution_count": 6,
     "metadata": {},
     "output_type": "execute_result"
    }
   ],
   "source": [
    "df = pd.read_csv('C:/Users/emers/OneDrive/Documentos/TI_Estudos/Jupyter/BI/arquivos/bundesliga_player.csv')\n",
    "df.head()"
   ]
  },
  {
   "cell_type": "code",
   "execution_count": 7,
   "id": "5d8327a7-eba1-4724-9ad1-d9eed192e635",
   "metadata": {},
   "outputs": [
    {
     "data": {
      "text/plain": [
       "FC Schalke 04      31\n",
       "FC Augsburg        31\n",
       "TSG Hoffenheim     31\n",
       "Bor. Dortmund      30\n",
       "E. Frankfurt       30\n",
       "VfB Stuttgart      29\n",
       "VfL Bochum         28\n",
       "1.FC Köln          27\n",
       "1.FSV Mainz 05     27\n",
       "Bayern Munich      27\n",
       "Hertha BSC         27\n",
       "Union Berlin       27\n",
       "Bor. M'gladbach    27\n",
       "B. Leverkusen      27\n",
       "SC Freiburg        26\n",
       "VfL Wolfsburg      25\n",
       "RB Leipzig         25\n",
       "Werder Bremen      24\n",
       "1.FC Köln II        5\n",
       "B. Dortmund II      3\n",
       "Hertha BSC U19      1\n",
       "1.FC Köln U19       1\n",
       "RB Leipzig U19      1\n",
       "Hertha BSC II       1\n",
       "W. Bremen II        1\n",
       "FC Augsburg U19     1\n",
       "W. Bremen U19       1\n",
       "RB Leipzig U17      1\n",
       "Name: club, dtype: int64"
      ]
     },
     "execution_count": 7,
     "metadata": {},
     "output_type": "execute_result"
    }
   ],
   "source": [
    "df.club.value_counts()"
   ]
  },
  {
   "cell_type": "code",
   "execution_count": 8,
   "id": "9bf369d9-523d-4882-a7e8-49ebda812581",
   "metadata": {},
   "outputs": [
    {
     "data": {
      "application/vnd.plotly.v1+json": {
       "config": {
        "plotlyServerURL": "https://plot.ly"
       },
       "data": [
        {
         "alignmentgroup": "True",
         "bingroup": "x",
         "hovertemplate": "age=37<br>club=%{x}<br>count=%{y}<extra></extra>",
         "legendgroup": "37",
         "marker": {
          "color": "#636efa",
          "pattern": {
           "shape": ""
          }
         },
         "name": "37",
         "offsetgroup": "37",
         "orientation": "v",
         "showlegend": true,
         "type": "histogram",
         "x": [
          "Bayern Munich",
          "VfL Bochum"
         ],
         "xaxis": "x",
         "yaxis": "y"
        },
        {
         "alignmentgroup": "True",
         "bingroup": "x",
         "hovertemplate": "age=34<br>club=%{x}<br>count=%{y}<extra></extra>",
         "legendgroup": "34",
         "marker": {
          "color": "#EF553B",
          "pattern": {
           "shape": ""
          }
         },
         "name": "34",
         "offsetgroup": "34",
         "orientation": "v",
         "showlegend": true,
         "type": "histogram",
         "x": [
          "Bayern Munich",
          "Bayern Munich",
          "Bayern Munich",
          "Bor. Dortmund",
          "E. Frankfurt",
          "Bor. M'gladbach",
          "SC Freiburg",
          "Werder Bremen",
          "FC Schalke 04",
          "FC Schalke 04",
          "VfL Bochum"
         ],
         "xaxis": "x",
         "yaxis": "y"
        },
        {
         "alignmentgroup": "True",
         "bingroup": "x",
         "hovertemplate": "age=20<br>club=%{x}<br>count=%{y}<extra></extra>",
         "legendgroup": "20",
         "marker": {
          "color": "#00cc96",
          "pattern": {
           "shape": ""
          }
         },
         "name": "20",
         "offsetgroup": "20",
         "orientation": "v",
         "showlegend": true,
         "type": "histogram",
         "x": [
          "Bayern Munich",
          "Bayern Munich",
          "Bayern Munich",
          "Bor. Dortmund",
          "B. Dortmund II",
          "B. Leverkusen",
          "B. Leverkusen",
          "B. Leverkusen",
          "E. Frankfurt",
          "Bor. M'gladbach",
          "VfL Wolfsburg",
          "VfL Wolfsburg",
          "VfL Wolfsburg",
          "SC Freiburg",
          "SC Freiburg",
          "SC Freiburg",
          "SC Freiburg",
          "TSG Hoffenheim",
          "TSG Hoffenheim",
          "VfB Stuttgart",
          "VfB Stuttgart",
          "VfB Stuttgart",
          "VfB Stuttgart",
          "1.FC Köln",
          "1.FC Köln II",
          "Hertha BSC",
          "Hertha BSC"
         ],
         "xaxis": "x",
         "yaxis": "y"
        },
        {
         "alignmentgroup": "True",
         "bingroup": "x",
         "hovertemplate": "age=23<br>club=%{x}<br>count=%{y}<extra></extra>",
         "legendgroup": "23",
         "marker": {
          "color": "#ab63fa",
          "pattern": {
           "shape": ""
          }
         },
         "name": "23",
         "offsetgroup": "23",
         "orientation": "v",
         "showlegend": true,
         "type": "histogram",
         "x": [
          "Bayern Munich",
          "Bayern Munich",
          "Bor. Dortmund",
          "B. Dortmund II",
          "Bor. Dortmund",
          "RB Leipzig",
          "B. Leverkusen",
          "B. Leverkusen",
          "E. Frankfurt",
          "E. Frankfurt",
          "E. Frankfurt",
          "Bor. M'gladbach",
          "VfL Wolfsburg",
          "VfL Wolfsburg",
          "SC Freiburg",
          "SC Freiburg",
          "TSG Hoffenheim",
          "TSG Hoffenheim",
          "FC Augsburg",
          "FC Augsburg",
          "VfB Stuttgart",
          "VfB Stuttgart",
          "VfB Stuttgart",
          "VfB Stuttgart",
          "1.FSV Mainz 05",
          "1.FC Köln",
          "1.FC Köln",
          "Werder Bremen",
          "Werder Bremen",
          "Werder Bremen",
          "Werder Bremen",
          "FC Schalke 04",
          "FC Schalke 04",
          "VfL Bochum"
         ],
         "xaxis": "x",
         "yaxis": "y"
        },
        {
         "alignmentgroup": "True",
         "bingroup": "x",
         "hovertemplate": "age=24<br>club=%{x}<br>count=%{y}<extra></extra>",
         "legendgroup": "24",
         "marker": {
          "color": "#FFA15A",
          "pattern": {
           "shape": ""
          }
         },
         "name": "24",
         "offsetgroup": "24",
         "orientation": "v",
         "showlegend": true,
         "type": "histogram",
         "x": [
          "Bayern Munich",
          "Bor. Dortmund",
          "Bor. Dortmund",
          "B. Leverkusen",
          "B. Leverkusen",
          "E. Frankfurt",
          "Bor. M'gladbach",
          "Bor. M'gladbach",
          "VfL Wolfsburg",
          "VfL Wolfsburg",
          "VfL Wolfsburg",
          "VfL Wolfsburg",
          "VfL Wolfsburg",
          "VfL Wolfsburg",
          "SC Freiburg",
          "TSG Hoffenheim",
          "TSG Hoffenheim",
          "TSG Hoffenheim",
          "Union Berlin",
          "Union Berlin",
          "Union Berlin",
          "Union Berlin",
          "Union Berlin",
          "FC Augsburg",
          "FC Augsburg",
          "FC Augsburg",
          "FC Augsburg",
          "FC Augsburg",
          "VfB Stuttgart",
          "1.FSV Mainz 05",
          "1.FSV Mainz 05",
          "1.FSV Mainz 05",
          "1.FSV Mainz 05",
          "1.FC Köln",
          "1.FC Köln",
          "1.FC Köln",
          "Hertha BSC",
          "Werder Bremen",
          "FC Schalke 04",
          "FC Schalke 04",
          "VfL Bochum",
          "VfL Bochum",
          "VfL Bochum"
         ],
         "xaxis": "x",
         "yaxis": "y"
        },
        {
         "alignmentgroup": "True",
         "bingroup": "x",
         "hovertemplate": "age=27<br>club=%{x}<br>count=%{y}<extra></extra>",
         "legendgroup": "27",
         "marker": {
          "color": "#19d3f3",
          "pattern": {
           "shape": ""
          }
         },
         "name": "27",
         "offsetgroup": "27",
         "orientation": "v",
         "showlegend": true,
         "type": "histogram",
         "x": [
          "Bayern Munich",
          "Bayern Munich",
          "Bayern Munich",
          "Bayern Munich",
          "Bor. Dortmund",
          "Bor. Dortmund",
          "Bor. Dortmund",
          "Bor. Dortmund",
          "RB Leipzig",
          "RB Leipzig",
          "RB Leipzig",
          "B. Leverkusen",
          "B. Leverkusen",
          "B. Leverkusen",
          "E. Frankfurt",
          "E. Frankfurt",
          "Bor. M'gladbach",
          "Bor. M'gladbach",
          "VfL Wolfsburg",
          "SC Freiburg",
          "Union Berlin",
          "Union Berlin",
          "Union Berlin",
          "Union Berlin",
          "Union Berlin",
          "VfB Stuttgart",
          "VfB Stuttgart",
          "1.FSV Mainz 05",
          "1.FSV Mainz 05",
          "Werder Bremen",
          "Werder Bremen",
          "FC Schalke 04",
          "VfL Bochum",
          "VfL Bochum"
         ],
         "xaxis": "x",
         "yaxis": "y"
        },
        {
         "alignmentgroup": "True",
         "bingroup": "x",
         "hovertemplate": "age=22<br>club=%{x}<br>count=%{y}<extra></extra>",
         "legendgroup": "22",
         "marker": {
          "color": "#FF6692",
          "pattern": {
           "shape": ""
          }
         },
         "name": "22",
         "offsetgroup": "22",
         "orientation": "v",
         "showlegend": true,
         "type": "histogram",
         "x": [
          "Bayern Munich",
          "Bor. Dortmund",
          "RB Leipzig",
          "B. Leverkusen",
          "B. Leverkusen",
          "B. Leverkusen",
          "B. Leverkusen",
          "B. Leverkusen",
          "E. Frankfurt",
          "E. Frankfurt",
          "Bor. M'gladbach",
          "VfL Wolfsburg",
          "VfL Wolfsburg",
          "VfL Wolfsburg",
          "TSG Hoffenheim",
          "TSG Hoffenheim",
          "TSG Hoffenheim",
          "Union Berlin",
          "Union Berlin",
          "FC Augsburg",
          "FC Augsburg",
          "VfB Stuttgart",
          "VfB Stuttgart",
          "1.FSV Mainz 05",
          "1.FC Köln II",
          "1.FC Köln",
          "1.FC Köln II",
          "1.FC Köln",
          "Hertha BSC",
          "Werder Bremen",
          "FC Schalke 04",
          "FC Schalke 04",
          "FC Schalke 04",
          "FC Schalke 04",
          "VfL Bochum",
          "VfL Bochum"
         ],
         "xaxis": "x",
         "yaxis": "y"
        },
        {
         "alignmentgroup": "True",
         "bingroup": "x",
         "hovertemplate": "age=33<br>club=%{x}<br>count=%{y}<extra></extra>",
         "legendgroup": "33",
         "marker": {
          "color": "#B6E880",
          "pattern": {
           "shape": ""
          }
         },
         "name": "33",
         "offsetgroup": "33",
         "orientation": "v",
         "showlegend": true,
         "type": "histogram",
         "x": [
          "Bayern Munich",
          "Bayern Munich",
          "Bor. Dortmund",
          "RB Leipzig",
          "B. Leverkusen",
          "B. Leverkusen",
          "E. Frankfurt",
          "Bor. M'gladbach",
          "SC Freiburg",
          "TSG Hoffenheim",
          "TSG Hoffenheim",
          "Hertha BSC",
          "FC Schalke 04",
          "VfL Bochum",
          "VfL Bochum"
         ],
         "xaxis": "x",
         "yaxis": "y"
        },
        {
         "alignmentgroup": "True",
         "bingroup": "x",
         "hovertemplate": "age=28<br>club=%{x}<br>count=%{y}<extra></extra>",
         "legendgroup": "28",
         "marker": {
          "color": "#FF97FF",
          "pattern": {
           "shape": ""
          }
         },
         "name": "28",
         "offsetgroup": "28",
         "orientation": "v",
         "showlegend": true,
         "type": "histogram",
         "x": [
          "Bayern Munich",
          "Bayern Munich",
          "Bayern Munich",
          "Bor. Dortmund",
          "RB Leipzig",
          "B. Leverkusen",
          "B. Leverkusen",
          "E. Frankfurt",
          "Bor. M'gladbach",
          "VfL Wolfsburg",
          "VfL Wolfsburg",
          "SC Freiburg",
          "TSG Hoffenheim",
          "TSG Hoffenheim",
          "Union Berlin",
          "Union Berlin",
          "VfB Stuttgart",
          "1.FSV Mainz 05",
          "1.FC Köln",
          "1.FC Köln",
          "1.FC Köln",
          "1.FC Köln",
          "1.FC Köln",
          "Hertha BSC",
          "Werder Bremen",
          "FC Schalke 04",
          "FC Schalke 04",
          "VfL Bochum",
          "VfL Bochum",
          "VfL Bochum"
         ],
         "xaxis": "x",
         "yaxis": "y"
        },
        {
         "alignmentgroup": "True",
         "bingroup": "x",
         "hovertemplate": "age=25<br>club=%{x}<br>count=%{y}<extra></extra>",
         "legendgroup": "25",
         "marker": {
          "color": "#FECB52",
          "pattern": {
           "shape": ""
          }
         },
         "name": "25",
         "offsetgroup": "25",
         "orientation": "v",
         "showlegend": true,
         "type": "histogram",
         "x": [
          "Bayern Munich",
          "Bor. Dortmund",
          "Bor. Dortmund",
          "Bor. Dortmund",
          "RB Leipzig",
          "RB Leipzig",
          "RB Leipzig",
          "RB Leipzig",
          "RB Leipzig",
          "RB Leipzig",
          "B. Leverkusen",
          "E. Frankfurt",
          "Bor. M'gladbach",
          "VfL Wolfsburg",
          "SC Freiburg",
          "TSG Hoffenheim",
          "FC Augsburg",
          "FC Augsburg",
          "FC Augsburg",
          "FC Augsburg",
          "FC Augsburg",
          "FC Augsburg",
          "FC Augsburg",
          "VfB Stuttgart",
          "VfB Stuttgart",
          "VfB Stuttgart",
          "VfB Stuttgart",
          "1.FSV Mainz 05",
          "1.FSV Mainz 05",
          "1.FC Köln",
          "1.FC Köln",
          "1.FC Köln",
          "Hertha BSC",
          "Hertha BSC",
          "Hertha BSC",
          "Hertha BSC",
          "Hertha BSC",
          "Werder Bremen",
          "Werder Bremen",
          "Werder Bremen"
         ],
         "xaxis": "x",
         "yaxis": "y"
        },
        {
         "alignmentgroup": "True",
         "bingroup": "x",
         "hovertemplate": "age=31<br>club=%{x}<br>count=%{y}<extra></extra>",
         "legendgroup": "31",
         "marker": {
          "color": "#636efa",
          "pattern": {
           "shape": ""
          }
         },
         "name": "31",
         "offsetgroup": "31",
         "orientation": "v",
         "showlegend": true,
         "type": "histogram",
         "x": [
          "Bayern Munich",
          "Bayern Munich",
          "Bor. Dortmund",
          "RB Leipzig",
          "RB Leipzig",
          "B. Leverkusen",
          "TSG Hoffenheim",
          "TSG Hoffenheim",
          "TSG Hoffenheim",
          "TSG Hoffenheim",
          "Union Berlin",
          "FC Augsburg",
          "1.FSV Mainz 05",
          "1.FSV Mainz 05",
          "1.FC Köln",
          "1.FC Köln",
          "Hertha BSC",
          "Hertha BSC",
          "Werder Bremen",
          "Werder Bremen",
          "FC Schalke 04",
          "FC Schalke 04",
          "VfL Bochum",
          "VfL Bochum"
         ],
         "xaxis": "x",
         "yaxis": "y"
        },
        {
         "alignmentgroup": "True",
         "bingroup": "x",
         "hovertemplate": "age=17<br>club=%{x}<br>count=%{y}<extra></extra>",
         "legendgroup": "17",
         "marker": {
          "color": "#EF553B",
          "pattern": {
           "shape": ""
          }
         },
         "name": "17",
         "offsetgroup": "17",
         "orientation": "v",
         "showlegend": true,
         "type": "histogram",
         "x": [
          "Bayern Munich",
          "Bayern Munich",
          "Bor. Dortmund",
          "RB Leipzig U17",
          "TSG Hoffenheim",
          "FC Augsburg U19",
          "1.FSV Mainz 05",
          "Hertha BSC U19",
          "Werder Bremen"
         ],
         "xaxis": "x",
         "yaxis": "y"
        },
        {
         "alignmentgroup": "True",
         "bingroup": "x",
         "hovertemplate": "age=26<br>club=%{x}<br>count=%{y}<extra></extra>",
         "legendgroup": "26",
         "marker": {
          "color": "#00cc96",
          "pattern": {
           "shape": ""
          }
         },
         "name": "26",
         "offsetgroup": "26",
         "orientation": "v",
         "showlegend": true,
         "type": "histogram",
         "x": [
          "Bayern Munich",
          "RB Leipzig",
          "RB Leipzig",
          "B. Leverkusen",
          "B. Leverkusen",
          "E. Frankfurt",
          "E. Frankfurt",
          "E. Frankfurt",
          "Bor. M'gladbach",
          "Bor. M'gladbach",
          "Bor. M'gladbach",
          "VfL Wolfsburg",
          "SC Freiburg",
          "SC Freiburg",
          "TSG Hoffenheim",
          "TSG Hoffenheim",
          "Union Berlin",
          "Union Berlin",
          "FC Augsburg",
          "FC Augsburg",
          "FC Augsburg",
          "VfB Stuttgart",
          "VfB Stuttgart",
          "VfB Stuttgart",
          "VfB Stuttgart",
          "1.FSV Mainz 05",
          "1.FSV Mainz 05",
          "1.FC Köln",
          "Hertha BSC",
          "Hertha BSC",
          "Hertha BSC",
          "Hertha BSC",
          "Hertha BSC",
          "Hertha BSC",
          "Werder Bremen",
          "FC Schalke 04",
          "FC Schalke 04",
          "VfL Bochum",
          "VfL Bochum"
         ],
         "xaxis": "x",
         "yaxis": "y"
        },
        {
         "alignmentgroup": "True",
         "bingroup": "x",
         "hovertemplate": "age=18<br>club=%{x}<br>count=%{y}<extra></extra>",
         "legendgroup": "18",
         "marker": {
          "color": "#ab63fa",
          "pattern": {
           "shape": ""
          }
         },
         "name": "18",
         "offsetgroup": "18",
         "orientation": "v",
         "showlegend": true,
         "type": "histogram",
         "x": [
          "Bayern Munich",
          "Bor. Dortmund",
          "B. Dortmund II",
          "Bor. Dortmund",
          "Bor. Dortmund",
          "RB Leipzig U19",
          "B. Leverkusen",
          "E. Frankfurt",
          "E. Frankfurt",
          "E. Frankfurt",
          "Bor. M'gladbach",
          "Bor. M'gladbach",
          "VfL Wolfsburg",
          "TSG Hoffenheim",
          "FC Augsburg",
          "VfB Stuttgart",
          "1.FSV Mainz 05",
          "1.FSV Mainz 05",
          "VfL Bochum"
         ],
         "xaxis": "x",
         "yaxis": "y"
        },
        {
         "alignmentgroup": "True",
         "bingroup": "x",
         "hovertemplate": "age=21<br>club=%{x}<br>count=%{y}<extra></extra>",
         "legendgroup": "21",
         "marker": {
          "color": "#FFA15A",
          "pattern": {
           "shape": ""
          }
         },
         "name": "21",
         "offsetgroup": "21",
         "orientation": "v",
         "showlegend": true,
         "type": "histogram",
         "x": [
          "Bor. Dortmund",
          "Bor. Dortmund",
          "RB Leipzig",
          "B. Leverkusen",
          "E. Frankfurt",
          "E. Frankfurt",
          "E. Frankfurt",
          "Bor. M'gladbach",
          "Bor. M'gladbach",
          "VfL Wolfsburg",
          "SC Freiburg",
          "SC Freiburg",
          "TSG Hoffenheim",
          "FC Augsburg",
          "FC Augsburg",
          "VfB Stuttgart",
          "VfB Stuttgart",
          "VfB Stuttgart",
          "1.FSV Mainz 05",
          "1.FSV Mainz 05",
          "1.FC Köln",
          "1.FC Köln",
          "1.FC Köln II",
          "1.FC Köln",
          "Hertha BSC",
          "Hertha BSC",
          "Werder Bremen",
          "FC Schalke 04",
          "FC Schalke 04",
          "FC Schalke 04",
          "FC Schalke 04"
         ],
         "xaxis": "x",
         "yaxis": "y"
        },
        {
         "alignmentgroup": "True",
         "bingroup": "x",
         "hovertemplate": "age=32<br>club=%{x}<br>count=%{y}<extra></extra>",
         "legendgroup": "32",
         "marker": {
          "color": "#19d3f3",
          "pattern": {
           "shape": ""
          }
         },
         "name": "32",
         "offsetgroup": "32",
         "orientation": "v",
         "showlegend": true,
         "type": "histogram",
         "x": [
          "Bor. Dortmund",
          "RB Leipzig",
          "RB Leipzig",
          "RB Leipzig",
          "E. Frankfurt",
          "E. Frankfurt",
          "Bor. M'gladbach",
          "Bor. M'gladbach",
          "VfL Wolfsburg",
          "SC Freiburg",
          "SC Freiburg",
          "TSG Hoffenheim",
          "Union Berlin",
          "Union Berlin",
          "FC Augsburg",
          "FC Augsburg",
          "VfB Stuttgart",
          "1.FC Köln",
          "Hertha BSC",
          "FC Schalke 04",
          "FC Schalke 04"
         ],
         "xaxis": "x",
         "yaxis": "y"
        },
        {
         "alignmentgroup": "True",
         "bingroup": "x",
         "hovertemplate": "age=19<br>club=%{x}<br>count=%{y}<extra></extra>",
         "legendgroup": "19",
         "marker": {
          "color": "#FF6692",
          "pattern": {
           "shape": ""
          }
         },
         "name": "19",
         "offsetgroup": "19",
         "orientation": "v",
         "showlegend": true,
         "type": "histogram",
         "x": [
          "Bor. Dortmund",
          "Bor. Dortmund",
          "RB Leipzig",
          "RB Leipzig",
          "RB Leipzig",
          "E. Frankfurt",
          "E. Frankfurt",
          "Bor. M'gladbach",
          "Bor. M'gladbach",
          "SC Freiburg",
          "TSG Hoffenheim",
          "TSG Hoffenheim",
          "FC Augsburg",
          "FC Augsburg",
          "VfB Stuttgart",
          "1.FSV Mainz 05",
          "1.FC Köln II",
          "1.FC Köln U19",
          "Hertha BSC II",
          "Hertha BSC",
          "W. Bremen U19",
          "W. Bremen II",
          "Werder Bremen"
         ],
         "xaxis": "x",
         "yaxis": "y"
        },
        {
         "alignmentgroup": "True",
         "bingroup": "x",
         "hovertemplate": "age=29<br>club=%{x}<br>count=%{y}<extra></extra>",
         "legendgroup": "29",
         "marker": {
          "color": "#B6E880",
          "pattern": {
           "shape": ""
          }
         },
         "name": "29",
         "offsetgroup": "29",
         "orientation": "v",
         "showlegend": true,
         "type": "histogram",
         "x": [
          "Bor. Dortmund",
          "Bor. Dortmund",
          "B. Leverkusen",
          "B. Leverkusen",
          "E. Frankfurt",
          "Bor. M'gladbach",
          "VfL Wolfsburg",
          "SC Freiburg",
          "SC Freiburg",
          "SC Freiburg",
          "SC Freiburg",
          "TSG Hoffenheim",
          "Union Berlin",
          "Union Berlin",
          "Union Berlin",
          "Union Berlin",
          "1.FSV Mainz 05",
          "1.FSV Mainz 05",
          "1.FSV Mainz 05",
          "1.FSV Mainz 05",
          "1.FC Köln",
          "1.FC Köln",
          "1.FC Köln",
          "Hertha BSC",
          "Werder Bremen",
          "Werder Bremen",
          "Werder Bremen",
          "Werder Bremen",
          "FC Schalke 04",
          "FC Schalke 04",
          "VfL Bochum",
          "VfL Bochum",
          "VfL Bochum",
          "VfL Bochum"
         ],
         "xaxis": "x",
         "yaxis": "y"
        },
        {
         "alignmentgroup": "True",
         "bingroup": "x",
         "hovertemplate": "age=30<br>club=%{x}<br>count=%{y}<extra></extra>",
         "legendgroup": "30",
         "marker": {
          "color": "#FF97FF",
          "pattern": {
           "shape": ""
          }
         },
         "name": "30",
         "offsetgroup": "30",
         "orientation": "v",
         "showlegend": true,
         "type": "histogram",
         "x": [
          "Bor. Dortmund",
          "RB Leipzig",
          "E. Frankfurt",
          "E. Frankfurt",
          "Bor. M'gladbach",
          "Bor. M'gladbach",
          "Bor. M'gladbach",
          "VfL Wolfsburg",
          "SC Freiburg",
          "SC Freiburg",
          "SC Freiburg",
          "TSG Hoffenheim",
          "TSG Hoffenheim",
          "Union Berlin",
          "Union Berlin",
          "Union Berlin",
          "FC Augsburg",
          "VfB Stuttgart",
          "1.FSV Mainz 05",
          "1.FSV Mainz 05",
          "1.FC Köln",
          "Werder Bremen",
          "FC Schalke 04",
          "FC Schalke 04",
          "FC Schalke 04",
          "VfL Bochum",
          "VfL Bochum",
          "VfL Bochum"
         ],
         "xaxis": "x",
         "yaxis": "y"
        },
        {
         "alignmentgroup": "True",
         "bingroup": "x",
         "hovertemplate": "age=35<br>club=%{x}<br>count=%{y}<extra></extra>",
         "legendgroup": "35",
         "marker": {
          "color": "#FECB52",
          "pattern": {
           "shape": ""
          }
         },
         "name": "35",
         "offsetgroup": "35",
         "orientation": "v",
         "showlegend": true,
         "type": "histogram",
         "x": [
          "Bor. Dortmund",
          "Bor. M'gladbach",
          "VfL Wolfsburg",
          "FC Augsburg",
          "FC Augsburg",
          "FC Augsburg",
          "FC Schalke 04",
          "VfL Bochum"
         ],
         "xaxis": "x",
         "yaxis": "y"
        },
        {
         "alignmentgroup": "True",
         "bingroup": "x",
         "hovertemplate": "age=39<br>club=%{x}<br>count=%{y}<extra></extra>",
         "legendgroup": "39",
         "marker": {
          "color": "#636efa",
          "pattern": {
           "shape": ""
          }
         },
         "name": "39",
         "offsetgroup": "39",
         "orientation": "v",
         "showlegend": true,
         "type": "histogram",
         "x": [
          "E. Frankfurt"
         ],
         "xaxis": "x",
         "yaxis": "y"
        },
        {
         "alignmentgroup": "True",
         "bingroup": "x",
         "hovertemplate": "age=38<br>club=%{x}<br>count=%{y}<extra></extra>",
         "legendgroup": "38",
         "marker": {
          "color": "#EF553B",
          "pattern": {
           "shape": ""
          }
         },
         "name": "38",
         "offsetgroup": "38",
         "orientation": "v",
         "showlegend": true,
         "type": "histogram",
         "x": [
          "TSG Hoffenheim",
          "Hertha BSC",
          "FC Schalke 04"
         ],
         "xaxis": "x",
         "yaxis": "y"
        },
        {
         "alignmentgroup": "True",
         "bingroup": "x",
         "hovertemplate": "age=36<br>club=%{x}<br>count=%{y}<extra></extra>",
         "legendgroup": "36",
         "marker": {
          "color": "#00cc96",
          "pattern": {
           "shape": ""
          }
         },
         "name": "36",
         "offsetgroup": "36",
         "orientation": "v",
         "showlegend": true,
         "type": "histogram",
         "x": [
          "Union Berlin",
          "Hertha BSC",
          "Hertha BSC"
         ],
         "xaxis": "x",
         "yaxis": "y"
        }
       ],
       "layout": {
        "autosize": true,
        "barmode": "relative",
        "legend": {
         "title": {
          "text": "age"
         },
         "tracegroupgap": 0
        },
        "template": {
         "data": {
          "bar": [
           {
            "error_x": {
             "color": "#2a3f5f"
            },
            "error_y": {
             "color": "#2a3f5f"
            },
            "marker": {
             "line": {
              "color": "#E5ECF6",
              "width": 0.5
             },
             "pattern": {
              "fillmode": "overlay",
              "size": 10,
              "solidity": 0.2
             }
            },
            "type": "bar"
           }
          ],
          "barpolar": [
           {
            "marker": {
             "line": {
              "color": "#E5ECF6",
              "width": 0.5
             },
             "pattern": {
              "fillmode": "overlay",
              "size": 10,
              "solidity": 0.2
             }
            },
            "type": "barpolar"
           }
          ],
          "carpet": [
           {
            "aaxis": {
             "endlinecolor": "#2a3f5f",
             "gridcolor": "white",
             "linecolor": "white",
             "minorgridcolor": "white",
             "startlinecolor": "#2a3f5f"
            },
            "baxis": {
             "endlinecolor": "#2a3f5f",
             "gridcolor": "white",
             "linecolor": "white",
             "minorgridcolor": "white",
             "startlinecolor": "#2a3f5f"
            },
            "type": "carpet"
           }
          ],
          "choropleth": [
           {
            "colorbar": {
             "outlinewidth": 0,
             "ticks": ""
            },
            "type": "choropleth"
           }
          ],
          "contour": [
           {
            "colorbar": {
             "outlinewidth": 0,
             "ticks": ""
            },
            "colorscale": [
             [
              0,
              "#0d0887"
             ],
             [
              0.1111111111111111,
              "#46039f"
             ],
             [
              0.2222222222222222,
              "#7201a8"
             ],
             [
              0.3333333333333333,
              "#9c179e"
             ],
             [
              0.4444444444444444,
              "#bd3786"
             ],
             [
              0.5555555555555556,
              "#d8576b"
             ],
             [
              0.6666666666666666,
              "#ed7953"
             ],
             [
              0.7777777777777778,
              "#fb9f3a"
             ],
             [
              0.8888888888888888,
              "#fdca26"
             ],
             [
              1,
              "#f0f921"
             ]
            ],
            "type": "contour"
           }
          ],
          "contourcarpet": [
           {
            "colorbar": {
             "outlinewidth": 0,
             "ticks": ""
            },
            "type": "contourcarpet"
           }
          ],
          "heatmap": [
           {
            "colorbar": {
             "outlinewidth": 0,
             "ticks": ""
            },
            "colorscale": [
             [
              0,
              "#0d0887"
             ],
             [
              0.1111111111111111,
              "#46039f"
             ],
             [
              0.2222222222222222,
              "#7201a8"
             ],
             [
              0.3333333333333333,
              "#9c179e"
             ],
             [
              0.4444444444444444,
              "#bd3786"
             ],
             [
              0.5555555555555556,
              "#d8576b"
             ],
             [
              0.6666666666666666,
              "#ed7953"
             ],
             [
              0.7777777777777778,
              "#fb9f3a"
             ],
             [
              0.8888888888888888,
              "#fdca26"
             ],
             [
              1,
              "#f0f921"
             ]
            ],
            "type": "heatmap"
           }
          ],
          "heatmapgl": [
           {
            "colorbar": {
             "outlinewidth": 0,
             "ticks": ""
            },
            "colorscale": [
             [
              0,
              "#0d0887"
             ],
             [
              0.1111111111111111,
              "#46039f"
             ],
             [
              0.2222222222222222,
              "#7201a8"
             ],
             [
              0.3333333333333333,
              "#9c179e"
             ],
             [
              0.4444444444444444,
              "#bd3786"
             ],
             [
              0.5555555555555556,
              "#d8576b"
             ],
             [
              0.6666666666666666,
              "#ed7953"
             ],
             [
              0.7777777777777778,
              "#fb9f3a"
             ],
             [
              0.8888888888888888,
              "#fdca26"
             ],
             [
              1,
              "#f0f921"
             ]
            ],
            "type": "heatmapgl"
           }
          ],
          "histogram": [
           {
            "marker": {
             "pattern": {
              "fillmode": "overlay",
              "size": 10,
              "solidity": 0.2
             }
            },
            "type": "histogram"
           }
          ],
          "histogram2d": [
           {
            "colorbar": {
             "outlinewidth": 0,
             "ticks": ""
            },
            "colorscale": [
             [
              0,
              "#0d0887"
             ],
             [
              0.1111111111111111,
              "#46039f"
             ],
             [
              0.2222222222222222,
              "#7201a8"
             ],
             [
              0.3333333333333333,
              "#9c179e"
             ],
             [
              0.4444444444444444,
              "#bd3786"
             ],
             [
              0.5555555555555556,
              "#d8576b"
             ],
             [
              0.6666666666666666,
              "#ed7953"
             ],
             [
              0.7777777777777778,
              "#fb9f3a"
             ],
             [
              0.8888888888888888,
              "#fdca26"
             ],
             [
              1,
              "#f0f921"
             ]
            ],
            "type": "histogram2d"
           }
          ],
          "histogram2dcontour": [
           {
            "colorbar": {
             "outlinewidth": 0,
             "ticks": ""
            },
            "colorscale": [
             [
              0,
              "#0d0887"
             ],
             [
              0.1111111111111111,
              "#46039f"
             ],
             [
              0.2222222222222222,
              "#7201a8"
             ],
             [
              0.3333333333333333,
              "#9c179e"
             ],
             [
              0.4444444444444444,
              "#bd3786"
             ],
             [
              0.5555555555555556,
              "#d8576b"
             ],
             [
              0.6666666666666666,
              "#ed7953"
             ],
             [
              0.7777777777777778,
              "#fb9f3a"
             ],
             [
              0.8888888888888888,
              "#fdca26"
             ],
             [
              1,
              "#f0f921"
             ]
            ],
            "type": "histogram2dcontour"
           }
          ],
          "mesh3d": [
           {
            "colorbar": {
             "outlinewidth": 0,
             "ticks": ""
            },
            "type": "mesh3d"
           }
          ],
          "parcoords": [
           {
            "line": {
             "colorbar": {
              "outlinewidth": 0,
              "ticks": ""
             }
            },
            "type": "parcoords"
           }
          ],
          "pie": [
           {
            "automargin": true,
            "type": "pie"
           }
          ],
          "scatter": [
           {
            "fillpattern": {
             "fillmode": "overlay",
             "size": 10,
             "solidity": 0.2
            },
            "type": "scatter"
           }
          ],
          "scatter3d": [
           {
            "line": {
             "colorbar": {
              "outlinewidth": 0,
              "ticks": ""
             }
            },
            "marker": {
             "colorbar": {
              "outlinewidth": 0,
              "ticks": ""
             }
            },
            "type": "scatter3d"
           }
          ],
          "scattercarpet": [
           {
            "marker": {
             "colorbar": {
              "outlinewidth": 0,
              "ticks": ""
             }
            },
            "type": "scattercarpet"
           }
          ],
          "scattergeo": [
           {
            "marker": {
             "colorbar": {
              "outlinewidth": 0,
              "ticks": ""
             }
            },
            "type": "scattergeo"
           }
          ],
          "scattergl": [
           {
            "marker": {
             "colorbar": {
              "outlinewidth": 0,
              "ticks": ""
             }
            },
            "type": "scattergl"
           }
          ],
          "scattermapbox": [
           {
            "marker": {
             "colorbar": {
              "outlinewidth": 0,
              "ticks": ""
             }
            },
            "type": "scattermapbox"
           }
          ],
          "scatterpolar": [
           {
            "marker": {
             "colorbar": {
              "outlinewidth": 0,
              "ticks": ""
             }
            },
            "type": "scatterpolar"
           }
          ],
          "scatterpolargl": [
           {
            "marker": {
             "colorbar": {
              "outlinewidth": 0,
              "ticks": ""
             }
            },
            "type": "scatterpolargl"
           }
          ],
          "scatterternary": [
           {
            "marker": {
             "colorbar": {
              "outlinewidth": 0,
              "ticks": ""
             }
            },
            "type": "scatterternary"
           }
          ],
          "surface": [
           {
            "colorbar": {
             "outlinewidth": 0,
             "ticks": ""
            },
            "colorscale": [
             [
              0,
              "#0d0887"
             ],
             [
              0.1111111111111111,
              "#46039f"
             ],
             [
              0.2222222222222222,
              "#7201a8"
             ],
             [
              0.3333333333333333,
              "#9c179e"
             ],
             [
              0.4444444444444444,
              "#bd3786"
             ],
             [
              0.5555555555555556,
              "#d8576b"
             ],
             [
              0.6666666666666666,
              "#ed7953"
             ],
             [
              0.7777777777777778,
              "#fb9f3a"
             ],
             [
              0.8888888888888888,
              "#fdca26"
             ],
             [
              1,
              "#f0f921"
             ]
            ],
            "type": "surface"
           }
          ],
          "table": [
           {
            "cells": {
             "fill": {
              "color": "#EBF0F8"
             },
             "line": {
              "color": "white"
             }
            },
            "header": {
             "fill": {
              "color": "#C8D4E3"
             },
             "line": {
              "color": "white"
             }
            },
            "type": "table"
           }
          ]
         },
         "layout": {
          "annotationdefaults": {
           "arrowcolor": "#2a3f5f",
           "arrowhead": 0,
           "arrowwidth": 1
          },
          "autotypenumbers": "strict",
          "coloraxis": {
           "colorbar": {
            "outlinewidth": 0,
            "ticks": ""
           }
          },
          "colorscale": {
           "diverging": [
            [
             0,
             "#8e0152"
            ],
            [
             0.1,
             "#c51b7d"
            ],
            [
             0.2,
             "#de77ae"
            ],
            [
             0.3,
             "#f1b6da"
            ],
            [
             0.4,
             "#fde0ef"
            ],
            [
             0.5,
             "#f7f7f7"
            ],
            [
             0.6,
             "#e6f5d0"
            ],
            [
             0.7,
             "#b8e186"
            ],
            [
             0.8,
             "#7fbc41"
            ],
            [
             0.9,
             "#4d9221"
            ],
            [
             1,
             "#276419"
            ]
           ],
           "sequential": [
            [
             0,
             "#0d0887"
            ],
            [
             0.1111111111111111,
             "#46039f"
            ],
            [
             0.2222222222222222,
             "#7201a8"
            ],
            [
             0.3333333333333333,
             "#9c179e"
            ],
            [
             0.4444444444444444,
             "#bd3786"
            ],
            [
             0.5555555555555556,
             "#d8576b"
            ],
            [
             0.6666666666666666,
             "#ed7953"
            ],
            [
             0.7777777777777778,
             "#fb9f3a"
            ],
            [
             0.8888888888888888,
             "#fdca26"
            ],
            [
             1,
             "#f0f921"
            ]
           ],
           "sequentialminus": [
            [
             0,
             "#0d0887"
            ],
            [
             0.1111111111111111,
             "#46039f"
            ],
            [
             0.2222222222222222,
             "#7201a8"
            ],
            [
             0.3333333333333333,
             "#9c179e"
            ],
            [
             0.4444444444444444,
             "#bd3786"
            ],
            [
             0.5555555555555556,
             "#d8576b"
            ],
            [
             0.6666666666666666,
             "#ed7953"
            ],
            [
             0.7777777777777778,
             "#fb9f3a"
            ],
            [
             0.8888888888888888,
             "#fdca26"
            ],
            [
             1,
             "#f0f921"
            ]
           ]
          },
          "colorway": [
           "#636efa",
           "#EF553B",
           "#00cc96",
           "#ab63fa",
           "#FFA15A",
           "#19d3f3",
           "#FF6692",
           "#B6E880",
           "#FF97FF",
           "#FECB52"
          ],
          "font": {
           "color": "#2a3f5f"
          },
          "geo": {
           "bgcolor": "white",
           "lakecolor": "white",
           "landcolor": "#E5ECF6",
           "showlakes": true,
           "showland": true,
           "subunitcolor": "white"
          },
          "hoverlabel": {
           "align": "left"
          },
          "hovermode": "closest",
          "mapbox": {
           "style": "light"
          },
          "paper_bgcolor": "white",
          "plot_bgcolor": "#E5ECF6",
          "polar": {
           "angularaxis": {
            "gridcolor": "white",
            "linecolor": "white",
            "ticks": ""
           },
           "bgcolor": "#E5ECF6",
           "radialaxis": {
            "gridcolor": "white",
            "linecolor": "white",
            "ticks": ""
           }
          },
          "scene": {
           "xaxis": {
            "backgroundcolor": "#E5ECF6",
            "gridcolor": "white",
            "gridwidth": 2,
            "linecolor": "white",
            "showbackground": true,
            "ticks": "",
            "zerolinecolor": "white"
           },
           "yaxis": {
            "backgroundcolor": "#E5ECF6",
            "gridcolor": "white",
            "gridwidth": 2,
            "linecolor": "white",
            "showbackground": true,
            "ticks": "",
            "zerolinecolor": "white"
           },
           "zaxis": {
            "backgroundcolor": "#E5ECF6",
            "gridcolor": "white",
            "gridwidth": 2,
            "linecolor": "white",
            "showbackground": true,
            "ticks": "",
            "zerolinecolor": "white"
           }
          },
          "shapedefaults": {
           "line": {
            "color": "#2a3f5f"
           }
          },
          "ternary": {
           "aaxis": {
            "gridcolor": "white",
            "linecolor": "white",
            "ticks": ""
           },
           "baxis": {
            "gridcolor": "white",
            "linecolor": "white",
            "ticks": ""
           },
           "bgcolor": "#E5ECF6",
           "caxis": {
            "gridcolor": "white",
            "linecolor": "white",
            "ticks": ""
           }
          },
          "title": {
           "x": 0.05
          },
          "xaxis": {
           "automargin": true,
           "gridcolor": "white",
           "linecolor": "white",
           "ticks": "",
           "title": {
            "standoff": 15
           },
           "zerolinecolor": "white",
           "zerolinewidth": 2
          },
          "yaxis": {
           "automargin": true,
           "gridcolor": "white",
           "linecolor": "white",
           "ticks": "",
           "title": {
            "standoff": 15
           },
           "zerolinecolor": "white",
           "zerolinewidth": 2
          }
         }
        },
        "title": {
         "text": "Idade dos Jogadores por Clube"
        },
        "xaxis": {
         "anchor": "y",
         "autorange": true,
         "domain": [
          0,
          1
         ],
         "range": [
          -0.5,
          27.5
         ],
         "title": {
          "text": "club"
         },
         "type": "category"
        },
        "yaxis": {
         "anchor": "x",
         "autorange": true,
         "domain": [
          0,
          1
         ],
         "range": [
          0,
          32.631578947368425
         ],
         "title": {
          "text": "count"
         }
        }
       }
      },
      "image/png": "[encoded data removed]",
      "text/html": [
       "<div>                            <div id=\"864bde78-6585-40b0-881e-c46babd2662a\" class=\"plotly-graph-div\" style=\"height:525px; width:100%;\"></div>            <script type=\"text/javascript\">                require([\"plotly\"], function(Plotly) {                    window.PLOTLYENV=window.PLOTLYENV || {};                                    if (document.getElementById(\"864bde78-6585-40b0-881e-c46babd2662a\")) {                    Plotly.newPlot(                        \"864bde78-6585-40b0-881e-c46babd2662a\",                        [{\"alignmentgroup\":\"True\",\"bingroup\":\"x\",\"hovertemplate\":\"age=37\\u003cbr\\u003eclub=%{x}\\u003cbr\\u003ecount=%{y}\\u003cextra\\u003e\\u003c\\u002fextra\\u003e\",\"legendgroup\":\"37\",\"marker\":{\"color\":\"#636efa\",\"pattern\":{\"shape\":\"\"}},\"name\":\"37\",\"offsetgroup\":\"37\",\"orientation\":\"v\",\"showlegend\":true,\"x\":[\"Bayern Munich\",\"VfL Bochum\"],\"xaxis\":\"x\",\"yaxis\":\"y\",\"type\":\"histogram\"},{\"alignmentgroup\":\"True\",\"bingroup\":\"x\",\"hovertemplate\":\"age=34\\u003cbr\\u003eclub=%{x}\\u003cbr\\u003ecount=%{y}\\u003cextra\\u003e\\u003c\\u002fextra\\u003e\",\"legendgroup\":\"34\",\"marker\":{\"color\":\"#EF553B\",\"pattern\":{\"shape\":\"\"}},\"name\":\"34\",\"offsetgroup\":\"34\",\"orientation\":\"v\",\"showlegend\":true,\"x\":[\"Bayern Munich\",\"Bayern Munich\",\"Bayern Munich\",\"Bor. Dortmund\",\"E. Frankfurt\",\"Bor. M'gladbach\",\"SC Freiburg\",\"Werder Bremen\",\"FC Schalke 04\",\"FC Schalke 04\",\"VfL Bochum\"],\"xaxis\":\"x\",\"yaxis\":\"y\",\"type\":\"histogram\"},{\"alignmentgroup\":\"True\",\"bingroup\":\"x\",\"hovertemplate\":\"age=20\\u003cbr\\u003eclub=%{x}\\u003cbr\\u003ecount=%{y}\\u003cextra\\u003e\\u003c\\u002fextra\\u003e\",\"legendgroup\":\"20\",\"marker\":{\"color\":\"#00cc96\",\"pattern\":{\"shape\":\"\"}},\"name\":\"20\",\"offsetgroup\":\"20\",\"orientation\":\"v\",\"showlegend\":true,\"x\":[\"Bayern Munich\",\"Bayern Munich\",\"Bayern Munich\",\"Bor. Dortmund\",\"B. Dortmund II\",\"B. Leverkusen\",\"B. Leverkusen\",\"B. Leverkusen\",\"E. Frankfurt\",\"Bor. M'gladbach\",\"VfL Wolfsburg\",\"VfL Wolfsburg\",\"VfL Wolfsburg\",\"SC Freiburg\",\"SC Freiburg\",\"SC Freiburg\",\"SC Freiburg\",\"TSG Hoffenheim\",\"TSG Hoffenheim\",\"VfB Stuttgart\",\"VfB Stuttgart\",\"VfB Stuttgart\",\"VfB Stuttgart\",\"1.FC K\\u00f6ln\",\"1.FC K\\u00f6ln II\",\"Hertha BSC\",\"Hertha BSC\"],\"xaxis\":\"x\",\"yaxis\":\"y\",\"type\":\"histogram\"},{\"alignmentgroup\":\"True\",\"bingroup\":\"x\",\"hovertemplate\":\"age=23\\u003cbr\\u003eclub=%{x}\\u003cbr\\u003ecount=%{y}\\u003cextra\\u003e\\u003c\\u002fextra\\u003e\",\"legendgroup\":\"23\",\"marker\":{\"color\":\"#ab63fa\",\"pattern\":{\"shape\":\"\"}},\"name\":\"23\",\"offsetgroup\":\"23\",\"orientation\":\"v\",\"showlegend\":true,\"x\":[\"Bayern Munich\",\"Bayern Munich\",\"Bor. Dortmund\",\"B. Dortmund II\",\"Bor. Dortmund\",\"RB Leipzig\",\"B. Leverkusen\",\"B. Leverkusen\",\"E. Frankfurt\",\"E. Frankfurt\",\"E. Frankfurt\",\"Bor. M'gladbach\",\"VfL Wolfsburg\",\"VfL Wolfsburg\",\"SC Freiburg\",\"SC Freiburg\",\"TSG Hoffenheim\",\"TSG Hoffenheim\",\"FC Augsburg\",\"FC Augsburg\",\"VfB Stuttgart\",\"VfB Stuttgart\",\"VfB Stuttgart\",\"VfB Stuttgart\",\"1.FSV Mainz 05\",\"1.FC K\\u00f6ln\",\"1.FC K\\u00f6ln\",\"Werder Bremen\",\"Werder Bremen\",\"Werder Bremen\",\"Werder Bremen\",\"FC Schalke 04\",\"FC Schalke 04\",\"VfL Bochum\"],\"xaxis\":\"x\",\"yaxis\":\"y\",\"type\":\"histogram\"},{\"alignmentgroup\":\"True\",\"bingroup\":\"x\",\"hovertemplate\":\"age=24\\u003cbr\\u003eclub=%{x}\\u003cbr\\u003ecount=%{y}\\u003cextra\\u003e\\u003c\\u002fextra\\u003e\",\"legendgroup\":\"24\",\"marker\":{\"color\":\"#FFA15A\",\"pattern\":{\"shape\":\"\"}},\"name\":\"24\",\"offsetgroup\":\"24\",\"orientation\":\"v\",\"showlegend\":true,\"x\":[\"Bayern Munich\",\"Bor. Dortmund\",\"Bor. Dortmund\",\"B. Leverkusen\",\"B. Leverkusen\",\"E. Frankfurt\",\"Bor. M'gladbach\",\"Bor. M'gladbach\",\"VfL Wolfsburg\",\"VfL Wolfsburg\",\"VfL Wolfsburg\",\"VfL Wolfsburg\",\"VfL Wolfsburg\",\"VfL Wolfsburg\",\"SC Freiburg\",\"TSG Hoffenheim\",\"TSG Hoffenheim\",\"TSG Hoffenheim\",\"Union Berlin\",\"Union Berlin\",\"Union Berlin\",\"Union Berlin\",\"Union Berlin\",\"FC Augsburg\",\"FC Augsburg\",\"FC Augsburg\",\"FC Augsburg\",\"FC Augsburg\",\"VfB Stuttgart\",\"1.FSV Mainz 05\",\"1.FSV Mainz 05\",\"1.FSV Mainz 05\",\"1.FSV Mainz 05\",\"1.FC K\\u00f6ln\",\"1.FC K\\u00f6ln\",\"1.FC K\\u00f6ln\",\"Hertha BSC\",\"Werder Bremen\",\"FC Schalke 04\",\"FC Schalke 04\",\"VfL Bochum\",\"VfL Bochum\",\"VfL Bochum\"],\"xaxis\":\"x\",\"yaxis\":\"y\",\"type\":\"histogram\"},{\"alignmentgroup\":\"True\",\"bingroup\":\"x\",\"hovertemplate\":\"age=27\\u003cbr\\u003eclub=%{x}\\u003cbr\\u003ecount=%{y}\\u003cextra\\u003e\\u003c\\u002fextra\\u003e\",\"legendgroup\":\"27\",\"marker\":{\"color\":\"#19d3f3\",\"pattern\":{\"shape\":\"\"}},\"name\":\"27\",\"offsetgroup\":\"27\",\"orientation\":\"v\",\"showlegend\":true,\"x\":[\"Bayern Munich\",\"Bayern Munich\",\"Bayern Munich\",\"Bayern Munich\",\"Bor. Dortmund\",\"Bor. Dortmund\",\"Bor. Dortmund\",\"Bor. Dortmund\",\"RB Leipzig\",\"RB Leipzig\",\"RB Leipzig\",\"B. Leverkusen\",\"B. Leverkusen\",\"B. Leverkusen\",\"E. Frankfurt\",\"E. Frankfurt\",\"Bor. M'gladbach\",\"Bor. M'gladbach\",\"VfL Wolfsburg\",\"SC Freiburg\",\"Union Berlin\",\"Union Berlin\",\"Union Berlin\",\"Union Berlin\",\"Union Berlin\",\"VfB Stuttgart\",\"VfB Stuttgart\",\"1.FSV Mainz 05\",\"1.FSV Mainz 05\",\"Werder Bremen\",\"Werder Bremen\",\"FC Schalke 04\",\"VfL Bochum\",\"VfL Bochum\"],\"xaxis\":\"x\",\"yaxis\":\"y\",\"type\":\"histogram\"},{\"alignmentgroup\":\"True\",\"bingroup\":\"x\",\"hovertemplate\":\"age=22\\u003cbr\\u003eclub=%{x}\\u003cbr\\u003ecount=%{y}\\u003cextra\\u003e\\u003c\\u002fextra\\u003e\",\"legendgroup\":\"22\",\"marker\":{\"color\":\"#FF6692\",\"pattern\":{\"shape\":\"\"}},\"name\":\"22\",\"offsetgroup\":\"22\",\"orientation\":\"v\",\"showlegend\":true,\"x\":[\"Bayern Munich\",\"Bor. Dortmund\",\"RB Leipzig\",\"B. Leverkusen\",\"B. Leverkusen\",\"B. Leverkusen\",\"B. Leverkusen\",\"B. Leverkusen\",\"E. Frankfurt\",\"E. Frankfurt\",\"Bor. M'gladbach\",\"VfL Wolfsburg\",\"VfL Wolfsburg\",\"VfL Wolfsburg\",\"TSG Hoffenheim\",\"TSG Hoffenheim\",\"TSG Hoffenheim\",\"Union Berlin\",\"Union Berlin\",\"FC Augsburg\",\"FC Augsburg\",\"VfB Stuttgart\",\"VfB Stuttgart\",\"1.FSV Mainz 05\",\"1.FC K\\u00f6ln II\",\"1.FC K\\u00f6ln\",\"1.FC K\\u00f6ln II\",\"1.FC K\\u00f6ln\",\"Hertha BSC\",\"Werder Bremen\",\"FC Schalke 04\",\"FC Schalke 04\",\"FC Schalke 04\",\"FC Schalke 04\",\"VfL Bochum\",\"VfL Bochum\"],\"xaxis\":\"x\",\"yaxis\":\"y\",\"type\":\"histogram\"},{\"alignmentgroup\":\"True\",\"bingroup\":\"x\",\"hovertemplate\":\"age=33\\u003cbr\\u003eclub=%{x}\\u003cbr\\u003ecount=%{y}\\u003cextra\\u003e\\u003c\\u002fextra\\u003e\",\"legendgroup\":\"33\",\"marker\":{\"color\":\"#B6E880\",\"pattern\":{\"shape\":\"\"}},\"name\":\"33\",\"offsetgroup\":\"33\",\"orientation\":\"v\",\"showlegend\":true,\"x\":[\"Bayern Munich\",\"Bayern Munich\",\"Bor. Dortmund\",\"RB Leipzig\",\"B. Leverkusen\",\"B. Leverkusen\",\"E. Frankfurt\",\"Bor. M'gladbach\",\"SC Freiburg\",\"TSG Hoffenheim\",\"TSG Hoffenheim\",\"Hertha BSC\",\"FC Schalke 04\",\"VfL Bochum\",\"VfL Bochum\"],\"xaxis\":\"x\",\"yaxis\":\"y\",\"type\":\"histogram\"},{\"alignmentgroup\":\"True\",\"bingroup\":\"x\",\"hovertemplate\":\"age=28\\u003cbr\\u003eclub=%{x}\\u003cbr\\u003ecount=%{y}\\u003cextra\\u003e\\u003c\\u002fextra\\u003e\",\"legendgroup\":\"28\",\"marker\":{\"color\":\"#FF97FF\",\"pattern\":{\"shape\":\"\"}},\"name\":\"28\",\"offsetgroup\":\"28\",\"orientation\":\"v\",\"showlegend\":true,\"x\":[\"Bayern Munich\",\"Bayern Munich\",\"Bayern Munich\",\"Bor. Dortmund\",\"RB Leipzig\",\"B. Leverkusen\",\"B. Leverkusen\",\"E. Frankfurt\",\"Bor. M'gladbach\",\"VfL Wolfsburg\",\"VfL Wolfsburg\",\"SC Freiburg\",\"TSG Hoffenheim\",\"TSG Hoffenheim\",\"Union Berlin\",\"Union Berlin\",\"VfB Stuttgart\",\"1.FSV Mainz 05\",\"1.FC K\\u00f6ln\",\"1.FC K\\u00f6ln\",\"1.FC K\\u00f6ln\",\"1.FC K\\u00f6ln\",\"1.FC K\\u00f6ln\",\"Hertha BSC\",\"Werder Bremen\",\"FC Schalke 04\",\"FC Schalke 04\",\"VfL Bochum\",\"VfL Bochum\",\"VfL Bochum\"],\"xaxis\":\"x\",\"yaxis\":\"y\",\"type\":\"histogram\"},{\"alignmentgroup\":\"True\",\"bingroup\":\"x\",\"hovertemplate\":\"age=25\\u003cbr\\u003eclub=%{x}\\u003cbr\\u003ecount=%{y}\\u003cextra\\u003e\\u003c\\u002fextra\\u003e\",\"legendgroup\":\"25\",\"marker\":{\"color\":\"#FECB52\",\"pattern\":{\"shape\":\"\"}},\"name\":\"25\",\"offsetgroup\":\"25\",\"orientation\":\"v\",\"showlegend\":true,\"x\":[\"Bayern Munich\",\"Bor. Dortmund\",\"Bor. Dortmund\",\"Bor. Dortmund\",\"RB Leipzig\",\"RB Leipzig\",\"RB Leipzig\",\"RB Leipzig\",\"RB Leipzig\",\"RB Leipzig\",\"B. Leverkusen\",\"E. Frankfurt\",\"Bor. M'gladbach\",\"VfL Wolfsburg\",\"SC Freiburg\",\"TSG Hoffenheim\",\"FC Augsburg\",\"FC Augsburg\",\"FC Augsburg\",\"FC Augsburg\",\"FC Augsburg\",\"FC Augsburg\",\"FC Augsburg\",\"VfB Stuttgart\",\"VfB Stuttgart\",\"VfB Stuttgart\",\"VfB Stuttgart\",\"1.FSV Mainz 05\",\"1.FSV Mainz 05\",\"1.FC K\\u00f6ln\",\"1.FC K\\u00f6ln\",\"1.FC K\\u00f6ln\",\"Hertha BSC\",\"Hertha BSC\",\"Hertha BSC\",\"Hertha BSC\",\"Hertha BSC\",\"Werder Bremen\",\"Werder Bremen\",\"Werder Bremen\"],\"xaxis\":\"x\",\"yaxis\":\"y\",\"type\":\"histogram\"},{\"alignmentgroup\":\"True\",\"bingroup\":\"x\",\"hovertemplate\":\"age=31\\u003cbr\\u003eclub=%{x}\\u003cbr\\u003ecount=%{y}\\u003cextra\\u003e\\u003c\\u002fextra\\u003e\",\"legendgroup\":\"31\",\"marker\":{\"color\":\"#636efa\",\"pattern\":{\"shape\":\"\"}},\"name\":\"31\",\"offsetgroup\":\"31\",\"orientation\":\"v\",\"showlegend\":true,\"x\":[\"Bayern Munich\",\"Bayern Munich\",\"Bor. Dortmund\",\"RB Leipzig\",\"RB Leipzig\",\"B. Leverkusen\",\"TSG Hoffenheim\",\"TSG Hoffenheim\",\"TSG Hoffenheim\",\"TSG Hoffenheim\",\"Union Berlin\",\"FC Augsburg\",\"1.FSV Mainz 05\",\"1.FSV Mainz 05\",\"1.FC K\\u00f6ln\",\"1.FC K\\u00f6ln\",\"Hertha BSC\",\"Hertha BSC\",\"Werder Bremen\",\"Werder Bremen\",\"FC Schalke 04\",\"FC Schalke 04\",\"VfL Bochum\",\"VfL Bochum\"],\"xaxis\":\"x\",\"yaxis\":\"y\",\"type\":\"histogram\"},{\"alignmentgroup\":\"True\",\"bingroup\":\"x\",\"hovertemplate\":\"age=17\\u003cbr\\u003eclub=%{x}\\u003cbr\\u003ecount=%{y}\\u003cextra\\u003e\\u003c\\u002fextra\\u003e\",\"legendgroup\":\"17\",\"marker\":{\"color\":\"#EF553B\",\"pattern\":{\"shape\":\"\"}},\"name\":\"17\",\"offsetgroup\":\"17\",\"orientation\":\"v\",\"showlegend\":true,\"x\":[\"Bayern Munich\",\"Bayern Munich\",\"Bor. Dortmund\",\"RB Leipzig U17\",\"TSG Hoffenheim\",\"FC Augsburg U19\",\"1.FSV Mainz 05\",\"Hertha BSC U19\",\"Werder Bremen\"],\"xaxis\":\"x\",\"yaxis\":\"y\",\"type\":\"histogram\"},{\"alignmentgroup\":\"True\",\"bingroup\":\"x\",\"hovertemplate\":\"age=26\\u003cbr\\u003eclub=%{x}\\u003cbr\\u003ecount=%{y}\\u003cextra\\u003e\\u003c\\u002fextra\\u003e\",\"legendgroup\":\"26\",\"marker\":{\"color\":\"#00cc96\",\"pattern\":{\"shape\":\"\"}},\"name\":\"26\",\"offsetgroup\":\"26\",\"orientation\":\"v\",\"showlegend\":true,\"x\":[\"Bayern Munich\",\"RB Leipzig\",\"RB Leipzig\",\"B. Leverkusen\",\"B. Leverkusen\",\"E. Frankfurt\",\"E. Frankfurt\",\"E. Frankfurt\",\"Bor. M'gladbach\",\"Bor. M'gladbach\",\"Bor. M'gladbach\",\"VfL Wolfsburg\",\"SC Freiburg\",\"SC Freiburg\",\"TSG Hoffenheim\",\"TSG Hoffenheim\",\"Union Berlin\",\"Union Berlin\",\"FC Augsburg\",\"FC Augsburg\",\"FC Augsburg\",\"VfB Stuttgart\",\"VfB Stuttgart\",\"VfB Stuttgart\",\"VfB Stuttgart\",\"1.FSV Mainz 05\",\"1.FSV Mainz 05\",\"1.FC K\\u00f6ln\",\"Hertha BSC\",\"Hertha BSC\",\"Hertha BSC\",\"Hertha BSC\",\"Hertha BSC\",\"Hertha BSC\",\"Werder Bremen\",\"FC Schalke 04\",\"FC Schalke 04\",\"VfL Bochum\",\"VfL Bochum\"],\"xaxis\":\"x\",\"yaxis\":\"y\",\"type\":\"histogram\"},{\"alignmentgroup\":\"True\",\"bingroup\":\"x\",\"hovertemplate\":\"age=18\\u003cbr\\u003eclub=%{x}\\u003cbr\\u003ecount=%{y}\\u003cextra\\u003e\\u003c\\u002fextra\\u003e\",\"legendgroup\":\"18\",\"marker\":{\"color\":\"#ab63fa\",\"pattern\":{\"shape\":\"\"}},\"name\":\"18\",\"offsetgroup\":\"18\",\"orientation\":\"v\",\"showlegend\":true,\"x\":[\"Bayern Munich\",\"Bor. Dortmund\",\"B. Dortmund II\",\"Bor. Dortmund\",\"Bor. Dortmund\",\"RB Leipzig U19\",\"B. Leverkusen\",\"E. Frankfurt\",\"E. Frankfurt\",\"E. Frankfurt\",\"Bor. M'gladbach\",\"Bor. M'gladbach\",\"VfL Wolfsburg\",\"TSG Hoffenheim\",\"FC Augsburg\",\"VfB Stuttgart\",\"1.FSV Mainz 05\",\"1.FSV Mainz 05\",\"VfL Bochum\"],\"xaxis\":\"x\",\"yaxis\":\"y\",\"type\":\"histogram\"},{\"alignmentgroup\":\"True\",\"bingroup\":\"x\",\"hovertemplate\":\"age=21\\u003cbr\\u003eclub=%{x}\\u003cbr\\u003ecount=%{y}\\u003cextra\\u003e\\u003c\\u002fextra\\u003e\",\"legendgroup\":\"21\",\"marker\":{\"color\":\"#FFA15A\",\"pattern\":{\"shape\":\"\"}},\"name\":\"21\",\"offsetgroup\":\"21\",\"orientation\":\"v\",\"showlegend\":true,\"x\":[\"Bor. Dortmund\",\"Bor. Dortmund\",\"RB Leipzig\",\"B. Leverkusen\",\"E. Frankfurt\",\"E. Frankfurt\",\"E. Frankfurt\",\"Bor. M'gladbach\",\"Bor. M'gladbach\",\"VfL Wolfsburg\",\"SC Freiburg\",\"SC Freiburg\",\"TSG Hoffenheim\",\"FC Augsburg\",\"FC Augsburg\",\"VfB Stuttgart\",\"VfB Stuttgart\",\"VfB Stuttgart\",\"1.FSV Mainz 05\",\"1.FSV Mainz 05\",\"1.FC K\\u00f6ln\",\"1.FC K\\u00f6ln\",\"1.FC K\\u00f6ln II\",\"1.FC K\\u00f6ln\",\"Hertha BSC\",\"Hertha BSC\",\"Werder Bremen\",\"FC Schalke 04\",\"FC Schalke 04\",\"FC Schalke 04\",\"FC Schalke 04\"],\"xaxis\":\"x\",\"yaxis\":\"y\",\"type\":\"histogram\"},{\"alignmentgroup\":\"True\",\"bingroup\":\"x\",\"hovertemplate\":\"age=32\\u003cbr\\u003eclub=%{x}\\u003cbr\\u003ecount=%{y}\\u003cextra\\u003e\\u003c\\u002fextra\\u003e\",\"legendgroup\":\"32\",\"marker\":{\"color\":\"#19d3f3\",\"pattern\":{\"shape\":\"\"}},\"name\":\"32\",\"offsetgroup\":\"32\",\"orientation\":\"v\",\"showlegend\":true,\"x\":[\"Bor. Dortmund\",\"RB Leipzig\",\"RB Leipzig\",\"RB Leipzig\",\"E. Frankfurt\",\"E. Frankfurt\",\"Bor. M'gladbach\",\"Bor. M'gladbach\",\"VfL Wolfsburg\",\"SC Freiburg\",\"SC Freiburg\",\"TSG Hoffenheim\",\"Union Berlin\",\"Union Berlin\",\"FC Augsburg\",\"FC Augsburg\",\"VfB Stuttgart\",\"1.FC K\\u00f6ln\",\"Hertha BSC\",\"FC Schalke 04\",\"FC Schalke 04\"],\"xaxis\":\"x\",\"yaxis\":\"y\",\"type\":\"histogram\"},{\"alignmentgroup\":\"True\",\"bingroup\":\"x\",\"hovertemplate\":\"age=19\\u003cbr\\u003eclub=%{x}\\u003cbr\\u003ecount=%{y}\\u003cextra\\u003e\\u003c\\u002fextra\\u003e\",\"legendgroup\":\"19\",\"marker\":{\"color\":\"#FF6692\",\"pattern\":{\"shape\":\"\"}},\"name\":\"19\",\"offsetgroup\":\"19\",\"orientation\":\"v\",\"showlegend\":true,\"x\":[\"Bor. Dortmund\",\"Bor. Dortmund\",\"RB Leipzig\",\"RB Leipzig\",\"RB Leipzig\",\"E. Frankfurt\",\"E. Frankfurt\",\"Bor. M'gladbach\",\"Bor. M'gladbach\",\"SC Freiburg\",\"TSG Hoffenheim\",\"TSG Hoffenheim\",\"FC Augsburg\",\"FC Augsburg\",\"VfB Stuttgart\",\"1.FSV Mainz 05\",\"1.FC K\\u00f6ln II\",\"1.FC K\\u00f6ln U19\",\"Hertha BSC II\",\"Hertha BSC\",\"W. Bremen U19\",\"W. Bremen II\",\"Werder Bremen\"],\"xaxis\":\"x\",\"yaxis\":\"y\",\"type\":\"histogram\"},{\"alignmentgroup\":\"True\",\"bingroup\":\"x\",\"hovertemplate\":\"age=29\\u003cbr\\u003eclub=%{x}\\u003cbr\\u003ecount=%{y}\\u003cextra\\u003e\\u003c\\u002fextra\\u003e\",\"legendgroup\":\"29\",\"marker\":{\"color\":\"#B6E880\",\"pattern\":{\"shape\":\"\"}},\"name\":\"29\",\"offsetgroup\":\"29\",\"orientation\":\"v\",\"showlegend\":true,\"x\":[\"Bor. Dortmund\",\"Bor. Dortmund\",\"B. Leverkusen\",\"B. Leverkusen\",\"E. Frankfurt\",\"Bor. M'gladbach\",\"VfL Wolfsburg\",\"SC Freiburg\",\"SC Freiburg\",\"SC Freiburg\",\"SC Freiburg\",\"TSG Hoffenheim\",\"Union Berlin\",\"Union Berlin\",\"Union Berlin\",\"Union Berlin\",\"1.FSV Mainz 05\",\"1.FSV Mainz 05\",\"1.FSV Mainz 05\",\"1.FSV Mainz 05\",\"1.FC K\\u00f6ln\",\"1.FC K\\u00f6ln\",\"1.FC K\\u00f6ln\",\"Hertha BSC\",\"Werder Bremen\",\"Werder Bremen\",\"Werder Bremen\",\"Werder Bremen\",\"FC Schalke 04\",\"FC Schalke 04\",\"VfL Bochum\",\"VfL Bochum\",\"VfL Bochum\",\"VfL Bochum\"],\"xaxis\":\"x\",\"yaxis\":\"y\",\"type\":\"histogram\"},{\"alignmentgroup\":\"True\",\"bingroup\":\"x\",\"hovertemplate\":\"age=30\\u003cbr\\u003eclub=%{x}\\u003cbr\\u003ecount=%{y}\\u003cextra\\u003e\\u003c\\u002fextra\\u003e\",\"legendgroup\":\"30\",\"marker\":{\"color\":\"#FF97FF\",\"pattern\":{\"shape\":\"\"}},\"name\":\"30\",\"offsetgroup\":\"30\",\"orientation\":\"v\",\"showlegend\":true,\"x\":[\"Bor. Dortmund\",\"RB Leipzig\",\"E. Frankfurt\",\"E. Frankfurt\",\"Bor. M'gladbach\",\"Bor. M'gladbach\",\"Bor. M'gladbach\",\"VfL Wolfsburg\",\"SC Freiburg\",\"SC Freiburg\",\"SC Freiburg\",\"TSG Hoffenheim\",\"TSG Hoffenheim\",\"Union Berlin\",\"Union Berlin\",\"Union Berlin\",\"FC Augsburg\",\"VfB Stuttgart\",\"1.FSV Mainz 05\",\"1.FSV Mainz 05\",\"1.FC K\\u00f6ln\",\"Werder Bremen\",\"FC Schalke 04\",\"FC Schalke 04\",\"FC Schalke 04\",\"VfL Bochum\",\"VfL Bochum\",\"VfL Bochum\"],\"xaxis\":\"x\",\"yaxis\":\"y\",\"type\":\"histogram\"},{\"alignmentgroup\":\"True\",\"bingroup\":\"x\",\"hovertemplate\":\"age=35\\u003cbr\\u003eclub=%{x}\\u003cbr\\u003ecount=%{y}\\u003cextra\\u003e\\u003c\\u002fextra\\u003e\",\"legendgroup\":\"35\",\"marker\":{\"color\":\"#FECB52\",\"pattern\":{\"shape\":\"\"}},\"name\":\"35\",\"offsetgroup\":\"35\",\"orientation\":\"v\",\"showlegend\":true,\"x\":[\"Bor. Dortmund\",\"Bor. M'gladbach\",\"VfL Wolfsburg\",\"FC Augsburg\",\"FC Augsburg\",\"FC Augsburg\",\"FC Schalke 04\",\"VfL Bochum\"],\"xaxis\":\"x\",\"yaxis\":\"y\",\"type\":\"histogram\"},{\"alignmentgroup\":\"True\",\"bingroup\":\"x\",\"hovertemplate\":\"age=39\\u003cbr\\u003eclub=%{x}\\u003cbr\\u003ecount=%{y}\\u003cextra\\u003e\\u003c\\u002fextra\\u003e\",\"legendgroup\":\"39\",\"marker\":{\"color\":\"#636efa\",\"pattern\":{\"shape\":\"\"}},\"name\":\"39\",\"offsetgroup\":\"39\",\"orientation\":\"v\",\"showlegend\":true,\"x\":[\"E. Frankfurt\"],\"xaxis\":\"x\",\"yaxis\":\"y\",\"type\":\"histogram\"},{\"alignmentgroup\":\"True\",\"bingroup\":\"x\",\"hovertemplate\":\"age=38\\u003cbr\\u003eclub=%{x}\\u003cbr\\u003ecount=%{y}\\u003cextra\\u003e\\u003c\\u002fextra\\u003e\",\"legendgroup\":\"38\",\"marker\":{\"color\":\"#EF553B\",\"pattern\":{\"shape\":\"\"}},\"name\":\"38\",\"offsetgroup\":\"38\",\"orientation\":\"v\",\"showlegend\":true,\"x\":[\"TSG Hoffenheim\",\"Hertha BSC\",\"FC Schalke 04\"],\"xaxis\":\"x\",\"yaxis\":\"y\",\"type\":\"histogram\"},{\"alignmentgroup\":\"True\",\"bingroup\":\"x\",\"hovertemplate\":\"age=36\\u003cbr\\u003eclub=%{x}\\u003cbr\\u003ecount=%{y}\\u003cextra\\u003e\\u003c\\u002fextra\\u003e\",\"legendgroup\":\"36\",\"marker\":{\"color\":\"#00cc96\",\"pattern\":{\"shape\":\"\"}},\"name\":\"36\",\"offsetgroup\":\"36\",\"orientation\":\"v\",\"showlegend\":true,\"x\":[\"Union Berlin\",\"Hertha BSC\",\"Hertha BSC\"],\"xaxis\":\"x\",\"yaxis\":\"y\",\"type\":\"histogram\"}],                        {\"template\":{\"data\":{\"histogram2dcontour\":[{\"type\":\"histogram2dcontour\",\"colorbar\":{\"outlinewidth\":0,\"ticks\":\"\"},\"colorscale\":[[0.0,\"#0d0887\"],[0.1111111111111111,\"#46039f\"],[0.2222222222222222,\"#7201a8\"],[0.3333333333333333,\"#9c179e\"],[0.4444444444444444,\"#bd3786\"],[0.5555555555555556,\"#d8576b\"],[0.6666666666666666,\"#ed7953\"],[0.7777777777777778,\"#fb9f3a\"],[0.8888888888888888,\"#fdca26\"],[1.0,\"#f0f921\"]]}],\"choropleth\":[{\"type\":\"choropleth\",\"colorbar\":{\"outlinewidth\":0,\"ticks\":\"\"}}],\"histogram2d\":[{\"type\":\"histogram2d\",\"colorbar\":{\"outlinewidth\":0,\"ticks\":\"\"},\"colorscale\":[[0.0,\"#0d0887\"],[0.1111111111111111,\"#46039f\"],[0.2222222222222222,\"#7201a8\"],[0.3333333333333333,\"#9c179e\"],[0.4444444444444444,\"#bd3786\"],[0.5555555555555556,\"#d8576b\"],[0.6666666666666666,\"#ed7953\"],[0.7777777777777778,\"#fb9f3a\"],[0.8888888888888888,\"#fdca26\"],[1.0,\"#f0f921\"]]}],\"heatmap\":[{\"type\":\"heatmap\",\"colorbar\":{\"outlinewidth\":0,\"ticks\":\"\"},\"colorscale\":[[0.0,\"#0d0887\"],[0.1111111111111111,\"#46039f\"],[0.2222222222222222,\"#7201a8\"],[0.3333333333333333,\"#9c179e\"],[0.4444444444444444,\"#bd3786\"],[0.5555555555555556,\"#d8576b\"],[0.6666666666666666,\"#ed7953\"],[0.7777777777777778,\"#fb9f3a\"],[0.8888888888888888,\"#fdca26\"],[1.0,\"#f0f921\"]]}],\"heatmapgl\":[{\"type\":\"heatmapgl\",\"colorbar\":{\"outlinewidth\":0,\"ticks\":\"\"},\"colorscale\":[[0.0,\"#0d0887\"],[0.1111111111111111,\"#46039f\"],[0.2222222222222222,\"#7201a8\"],[0.3333333333333333,\"#9c179e\"],[0.4444444444444444,\"#bd3786\"],[0.5555555555555556,\"#d8576b\"],[0.6666666666666666,\"#ed7953\"],[0.7777777777777778,\"#fb9f3a\"],[0.8888888888888888,\"#fdca26\"],[1.0,\"#f0f921\"]]}],\"contourcarpet\":[{\"type\":\"contourcarpet\",\"colorbar\":{\"outlinewidth\":0,\"ticks\":\"\"}}],\"contour\":[{\"type\":\"contour\",\"colorbar\":{\"outlinewidth\":0,\"ticks\":\"\"},\"colorscale\":[[0.0,\"#0d0887\"],[0.1111111111111111,\"#46039f\"],[0.2222222222222222,\"#7201a8\"],[0.3333333333333333,\"#9c179e\"],[0.4444444444444444,\"#bd3786\"],[0.5555555555555556,\"#d8576b\"],[0.6666666666666666,\"#ed7953\"],[0.7777777777777778,\"#fb9f3a\"],[0.8888888888888888,\"#fdca26\"],[1.0,\"#f0f921\"]]}],\"surface\":[{\"type\":\"surface\",\"colorbar\":{\"outlinewidth\":0,\"ticks\":\"\"},\"colorscale\":[[0.0,\"#0d0887\"],[0.1111111111111111,\"#46039f\"],[0.2222222222222222,\"#7201a8\"],[0.3333333333333333,\"#9c179e\"],[0.4444444444444444,\"#bd3786\"],[0.5555555555555556,\"#d8576b\"],[0.6666666666666666,\"#ed7953\"],[0.7777777777777778,\"#fb9f3a\"],[0.8888888888888888,\"#fdca26\"],[1.0,\"#f0f921\"]]}],\"mesh3d\":[{\"type\":\"mesh3d\",\"colorbar\":{\"outlinewidth\":0,\"ticks\":\"\"}}],\"scatter\":[{\"fillpattern\":{\"fillmode\":\"overlay\",\"size\":10,\"solidity\":0.2},\"type\":\"scatter\"}],\"parcoords\":[{\"type\":\"parcoords\",\"line\":{\"colorbar\":{\"outlinewidth\":0,\"ticks\":\"\"}}}],\"scatterpolargl\":[{\"type\":\"scatterpolargl\",\"marker\":{\"colorbar\":{\"outlinewidth\":0,\"ticks\":\"\"}}}],\"bar\":[{\"error_x\":{\"color\":\"#2a3f5f\"},\"error_y\":{\"color\":\"#2a3f5f\"},\"marker\":{\"line\":{\"color\":\"#E5ECF6\",\"width\":0.5},\"pattern\":{\"fillmode\":\"overlay\",\"size\":10,\"solidity\":0.2}},\"type\":\"bar\"}],\"scattergeo\":[{\"type\":\"scattergeo\",\"marker\":{\"colorbar\":{\"outlinewidth\":0,\"ticks\":\"\"}}}],\"scatterpolar\":[{\"type\":\"scatterpolar\",\"marker\":{\"colorbar\":{\"outlinewidth\":0,\"ticks\":\"\"}}}],\"histogram\":[{\"marker\":{\"pattern\":{\"fillmode\":\"overlay\",\"size\":10,\"solidity\":0.2}},\"type\":\"histogram\"}],\"scattergl\":[{\"type\":\"scattergl\",\"marker\":{\"colorbar\":{\"outlinewidth\":0,\"ticks\":\"\"}}}],\"scatter3d\":[{\"type\":\"scatter3d\",\"line\":{\"colorbar\":{\"outlinewidth\":0,\"ticks\":\"\"}},\"marker\":{\"colorbar\":{\"outlinewidth\":0,\"ticks\":\"\"}}}],\"scattermapbox\":[{\"type\":\"scattermapbox\",\"marker\":{\"colorbar\":{\"outlinewidth\":0,\"ticks\":\"\"}}}],\"scatterternary\":[{\"type\":\"scatterternary\",\"marker\":{\"colorbar\":{\"outlinewidth\":0,\"ticks\":\"\"}}}],\"scattercarpet\":[{\"type\":\"scattercarpet\",\"marker\":{\"colorbar\":{\"outlinewidth\":0,\"ticks\":\"\"}}}],\"carpet\":[{\"aaxis\":{\"endlinecolor\":\"#2a3f5f\",\"gridcolor\":\"white\",\"linecolor\":\"white\",\"minorgridcolor\":\"white\",\"startlinecolor\":\"#2a3f5f\"},\"baxis\":{\"endlinecolor\":\"#2a3f5f\",\"gridcolor\":\"white\",\"linecolor\":\"white\",\"minorgridcolor\":\"white\",\"startlinecolor\":\"#2a3f5f\"},\"type\":\"carpet\"}],\"table\":[{\"cells\":{\"fill\":{\"color\":\"#EBF0F8\"},\"line\":{\"color\":\"white\"}},\"header\":{\"fill\":{\"color\":\"#C8D4E3\"},\"line\":{\"color\":\"white\"}},\"type\":\"table\"}],\"barpolar\":[{\"marker\":{\"line\":{\"color\":\"#E5ECF6\",\"width\":0.5},\"pattern\":{\"fillmode\":\"overlay\",\"size\":10,\"solidity\":0.2}},\"type\":\"barpolar\"}],\"pie\":[{\"automargin\":true,\"type\":\"pie\"}]},\"layout\":{\"autotypenumbers\":\"strict\",\"colorway\":[\"#636efa\",\"#EF553B\",\"#00cc96\",\"#ab63fa\",\"#FFA15A\",\"#19d3f3\",\"#FF6692\",\"#B6E880\",\"#FF97FF\",\"#FECB52\"],\"font\":{\"color\":\"#2a3f5f\"},\"hovermode\":\"closest\",\"hoverlabel\":{\"align\":\"left\"},\"paper_bgcolor\":\"white\",\"plot_bgcolor\":\"#E5ECF6\",\"polar\":{\"bgcolor\":\"#E5ECF6\",\"angularaxis\":{\"gridcolor\":\"white\",\"linecolor\":\"white\",\"ticks\":\"\"},\"radialaxis\":{\"gridcolor\":\"white\",\"linecolor\":\"white\",\"ticks\":\"\"}},\"ternary\":{\"bgcolor\":\"#E5ECF6\",\"aaxis\":{\"gridcolor\":\"white\",\"linecolor\":\"white\",\"ticks\":\"\"},\"baxis\":{\"gridcolor\":\"white\",\"linecolor\":\"white\",\"ticks\":\"\"},\"caxis\":{\"gridcolor\":\"white\",\"linecolor\":\"white\",\"ticks\":\"\"}},\"coloraxis\":{\"colorbar\":{\"outlinewidth\":0,\"ticks\":\"\"}},\"colorscale\":{\"sequential\":[[0.0,\"#0d0887\"],[0.1111111111111111,\"#46039f\"],[0.2222222222222222,\"#7201a8\"],[0.3333333333333333,\"#9c179e\"],[0.4444444444444444,\"#bd3786\"],[0.5555555555555556,\"#d8576b\"],[0.6666666666666666,\"#ed7953\"],[0.7777777777777778,\"#fb9f3a\"],[0.8888888888888888,\"#fdca26\"],[1.0,\"#f0f921\"]],\"sequentialminus\":[[0.0,\"#0d0887\"],[0.1111111111111111,\"#46039f\"],[0.2222222222222222,\"#7201a8\"],[0.3333333333333333,\"#9c179e\"],[0.4444444444444444,\"#bd3786\"],[0.5555555555555556,\"#d8576b\"],[0.6666666666666666,\"#ed7953\"],[0.7777777777777778,\"#fb9f3a\"],[0.8888888888888888,\"#fdca26\"],[1.0,\"#f0f921\"]],\"diverging\":[[0,\"#8e0152\"],[0.1,\"#c51b7d\"],[0.2,\"#de77ae\"],[0.3,\"#f1b6da\"],[0.4,\"#fde0ef\"],[0.5,\"#f7f7f7\"],[0.6,\"#e6f5d0\"],[0.7,\"#b8e186\"],[0.8,\"#7fbc41\"],[0.9,\"#4d9221\"],[1,\"#276419\"]]},\"xaxis\":{\"gridcolor\":\"white\",\"linecolor\":\"white\",\"ticks\":\"\",\"title\":{\"standoff\":15},\"zerolinecolor\":\"white\",\"automargin\":true,\"zerolinewidth\":2},\"yaxis\":{\"gridcolor\":\"white\",\"linecolor\":\"white\",\"ticks\":\"\",\"title\":{\"standoff\":15},\"zerolinecolor\":\"white\",\"automargin\":true,\"zerolinewidth\":2},\"scene\":{\"xaxis\":{\"backgroundcolor\":\"#E5ECF6\",\"gridcolor\":\"white\",\"linecolor\":\"white\",\"showbackground\":true,\"ticks\":\"\",\"zerolinecolor\":\"white\",\"gridwidth\":2},\"yaxis\":{\"backgroundcolor\":\"#E5ECF6\",\"gridcolor\":\"white\",\"linecolor\":\"white\",\"showbackground\":true,\"ticks\":\"\",\"zerolinecolor\":\"white\",\"gridwidth\":2},\"zaxis\":{\"backgroundcolor\":\"#E5ECF6\",\"gridcolor\":\"white\",\"linecolor\":\"white\",\"showbackground\":true,\"ticks\":\"\",\"zerolinecolor\":\"white\",\"gridwidth\":2}},\"shapedefaults\":{\"line\":{\"color\":\"#2a3f5f\"}},\"annotationdefaults\":{\"arrowcolor\":\"#2a3f5f\",\"arrowhead\":0,\"arrowwidth\":1},\"geo\":{\"bgcolor\":\"white\",\"landcolor\":\"#E5ECF6\",\"subunitcolor\":\"white\",\"showland\":true,\"showlakes\":true,\"lakecolor\":\"white\"},\"title\":{\"x\":0.05},\"mapbox\":{\"style\":\"light\"}}},\"xaxis\":{\"anchor\":\"y\",\"domain\":[0.0,1.0],\"title\":{\"text\":\"club\"}},\"yaxis\":{\"anchor\":\"x\",\"domain\":[0.0,1.0],\"title\":{\"text\":\"count\"}},\"legend\":{\"title\":{\"text\":\"age\"},\"tracegroupgap\":0},\"title\":{\"text\":\"Idade dos Jogadores por Clube\"},\"barmode\":\"relative\"},                        {\"responsive\": true}                    ).then(function(){\n",
       "                            \n",
       "var gd = document.getElementById('864bde78-6585-40b0-881e-c46babd2662a');\n",
       "var x = new MutationObserver(function (mutations, observer) {{\n",
       "        var display = window.getComputedStyle(gd).display;\n",
       "        if (!display || display === 'none') {{\n",
       "            console.log([gd, 'removed!']);\n",
       "            Plotly.purge(gd);\n",
       "            observer.disconnect();\n",
       "        }}\n",
       "}});\n",
       "\n",
       "// Listen for the removal of the full notebook cells\n",
       "var notebookContainer = gd.closest('#notebook-container');\n",
       "if (notebookContainer) {{\n",
       "    x.observe(notebookContainer, {childList: true});\n",
       "}}\n",
       "\n",
       "// Listen for the clearing of the current output cell\n",
       "var outputEl = gd.closest('.output');\n",
       "if (outputEl) {{\n",
       "    x.observe(outputEl, {childList: true});\n",
       "}}\n",
       "\n",
       "                        })                };                });            </script>        </div>"
      ]
     },
     "metadata": {},
     "output_type": "display_data"
    }
   ],
   "source": [
    "px.histogram(df, x='club', color='age', title='Idade dos Jogadores por Clube')"
   ]
  },
  {
   "cell_type": "code",
   "execution_count": 9,
   "id": "c38689ec-5de5-451f-b38d-2c5ff630115e",
   "metadata": {},
   "outputs": [
    {
     "data": {
      "application/vnd.plotly.v1+json": {
       "config": {
        "plotlyServerURL": "https://plot.ly"
       },
       "data": [
        {
         "alignmentgroup": "True",
         "bingroup": "x",
         "hovertemplate": "position=Goalkeeper<br>club=%{x}<br>count=%{y}<extra></extra>",
         "legendgroup": "Goalkeeper",
         "marker": {
          "color": "#636efa",
          "pattern": {
           "shape": ""
          }
         },
         "name": "Goalkeeper",
         "offsetgroup": "Goalkeeper",
         "orientation": "v",
         "showlegend": true,
         "type": "histogram",
         "x": [
          "Bayern Munich",
          "Bayern Munich",
          "Bayern Munich",
          "Bayern Munich",
          "Bor. Dortmund",
          "Bor. Dortmund",
          "Bor. Dortmund",
          "Bor. Dortmund",
          "RB Leipzig",
          "RB Leipzig",
          "RB Leipzig",
          "RB Leipzig U19",
          "RB Leipzig U17",
          "RB Leipzig",
          "B. Leverkusen",
          "B. Leverkusen",
          "B. Leverkusen",
          "B. Leverkusen",
          "E. Frankfurt",
          "E. Frankfurt",
          "E. Frankfurt",
          "E. Frankfurt",
          "Bor. M'gladbach",
          "Bor. M'gladbach",
          "Bor. M'gladbach",
          "VfL Wolfsburg",
          "VfL Wolfsburg",
          "VfL Wolfsburg",
          "VfL Wolfsburg",
          "SC Freiburg",
          "SC Freiburg",
          "SC Freiburg",
          "TSG Hoffenheim",
          "TSG Hoffenheim",
          "TSG Hoffenheim",
          "TSG Hoffenheim",
          "Union Berlin",
          "Union Berlin",
          "Union Berlin",
          "FC Augsburg",
          "FC Augsburg",
          "FC Augsburg",
          "FC Augsburg",
          "VfB Stuttgart",
          "VfB Stuttgart",
          "VfB Stuttgart",
          "1.FSV Mainz 05",
          "1.FSV Mainz 05",
          "1.FSV Mainz 05",
          "1.FC Köln",
          "1.FC Köln",
          "1.FC Köln II",
          "1.FC Köln",
          "Hertha BSC",
          "Hertha BSC",
          "Hertha BSC",
          "Werder Bremen",
          "Werder Bremen",
          "W. Bremen U19",
          "Werder Bremen",
          "W. Bremen II",
          "FC Schalke 04",
          "FC Schalke 04",
          "FC Schalke 04",
          "FC Schalke 04",
          "VfL Bochum",
          "VfL Bochum",
          "VfL Bochum",
          "VfL Bochum"
         ],
         "xaxis": "x",
         "yaxis": "y"
        },
        {
         "alignmentgroup": "True",
         "bingroup": "x",
         "hovertemplate": "position=Defender - Centre-Back<br>club=%{x}<br>count=%{y}<extra></extra>",
         "legendgroup": "Defender - Centre-Back",
         "marker": {
          "color": "#EF553B",
          "pattern": {
           "shape": ""
          }
         },
         "name": "Defender - Centre-Back",
         "offsetgroup": "Defender - Centre-Back",
         "orientation": "v",
         "showlegend": true,
         "type": "histogram",
         "x": [
          "Bayern Munich",
          "Bayern Munich",
          "Bayern Munich",
          "Bor. Dortmund",
          "Bor. Dortmund",
          "Bor. Dortmund",
          "Bor. Dortmund",
          "B. Dortmund II",
          "RB Leipzig",
          "RB Leipzig",
          "RB Leipzig",
          "RB Leipzig",
          "B. Leverkusen",
          "B. Leverkusen",
          "B. Leverkusen",
          "B. Leverkusen",
          "E. Frankfurt",
          "E. Frankfurt",
          "E. Frankfurt",
          "E. Frankfurt",
          "E. Frankfurt",
          "Bor. M'gladbach",
          "Bor. M'gladbach",
          "Bor. M'gladbach",
          "Bor. M'gladbach",
          "Bor. M'gladbach",
          "VfL Wolfsburg",
          "VfL Wolfsburg",
          "VfL Wolfsburg",
          "SC Freiburg",
          "SC Freiburg",
          "SC Freiburg",
          "SC Freiburg",
          "TSG Hoffenheim",
          "TSG Hoffenheim",
          "TSG Hoffenheim",
          "TSG Hoffenheim",
          "TSG Hoffenheim",
          "TSG Hoffenheim",
          "TSG Hoffenheim",
          "Union Berlin",
          "Union Berlin",
          "Union Berlin",
          "Union Berlin",
          "Union Berlin",
          "FC Augsburg",
          "FC Augsburg",
          "FC Augsburg",
          "FC Augsburg",
          "VfB Stuttgart",
          "VfB Stuttgart",
          "VfB Stuttgart",
          "VfB Stuttgart",
          "VfB Stuttgart",
          "1.FSV Mainz 05",
          "1.FSV Mainz 05",
          "1.FSV Mainz 05",
          "1.FSV Mainz 05",
          "1.FSV Mainz 05",
          "1.FC Köln",
          "1.FC Köln",
          "1.FC Köln",
          "1.FC Köln",
          "1.FC Köln II",
          "1.FC Köln U19",
          "Hertha BSC",
          "Hertha BSC",
          "Hertha BSC",
          "Hertha BSC",
          "Werder Bremen",
          "Werder Bremen",
          "Werder Bremen",
          "Werder Bremen",
          "Werder Bremen",
          "FC Schalke 04",
          "FC Schalke 04",
          "FC Schalke 04",
          "FC Schalke 04",
          "FC Schalke 04",
          "FC Schalke 04",
          "FC Schalke 04",
          "FC Schalke 04",
          "VfL Bochum",
          "VfL Bochum",
          "VfL Bochum",
          "VfL Bochum",
          "VfL Bochum",
          "VfL Bochum"
         ],
         "xaxis": "x",
         "yaxis": "y"
        },
        {
         "alignmentgroup": "True",
         "bingroup": "x",
         "hovertemplate": "position=Defender - Left-Back<br>club=%{x}<br>count=%{y}<extra></extra>",
         "legendgroup": "Defender - Left-Back",
         "marker": {
          "color": "#00cc96",
          "pattern": {
           "shape": ""
          }
         },
         "name": "Defender - Left-Back",
         "offsetgroup": "Defender - Left-Back",
         "orientation": "v",
         "showlegend": true,
         "type": "histogram",
         "x": [
          "Bayern Munich",
          "Bayern Munich",
          "Bor. Dortmund",
          "Bor. Dortmund",
          "Bor. Dortmund",
          "RB Leipzig",
          "RB Leipzig",
          "RB Leipzig",
          "B. Leverkusen",
          "B. Leverkusen",
          "E. Frankfurt",
          "E. Frankfurt",
          "E. Frankfurt",
          "Bor. M'gladbach",
          "Bor. M'gladbach",
          "VfL Wolfsburg",
          "VfL Wolfsburg",
          "SC Freiburg",
          "SC Freiburg",
          "TSG Hoffenheim",
          "Union Berlin",
          "Union Berlin",
          "FC Augsburg",
          "FC Augsburg",
          "FC Augsburg",
          "FC Augsburg",
          "VfB Stuttgart",
          "1.FSV Mainz 05",
          "1.FSV Mainz 05",
          "1.FC Köln",
          "1.FC Köln",
          "Hertha BSC",
          "Hertha BSC",
          "Hertha BSC II",
          "Werder Bremen",
          "Werder Bremen",
          "FC Schalke 04",
          "FC Schalke 04",
          "VfL Bochum",
          "VfL Bochum"
         ],
         "xaxis": "x",
         "yaxis": "y"
        },
        {
         "alignmentgroup": "True",
         "bingroup": "x",
         "hovertemplate": "position=Defender - Right-Back<br>club=%{x}<br>count=%{y}<extra></extra>",
         "legendgroup": "Defender - Right-Back",
         "marker": {
          "color": "#ab63fa",
          "pattern": {
           "shape": ""
          }
         },
         "name": "Defender - Right-Back",
         "offsetgroup": "Defender - Right-Back",
         "orientation": "v",
         "showlegend": true,
         "type": "histogram",
         "x": [
          "Bayern Munich",
          "Bayern Munich",
          "Bayern Munich",
          "Bayern Munich",
          "Bayern Munich",
          "Bor. Dortmund",
          "Bor. Dortmund",
          "Bor. Dortmund",
          "Bor. Dortmund",
          "Bor. Dortmund",
          "RB Leipzig",
          "RB Leipzig",
          "B. Leverkusen",
          "B. Leverkusen",
          "E. Frankfurt",
          "E. Frankfurt",
          "Bor. M'gladbach",
          "Bor. M'gladbach",
          "Bor. M'gladbach",
          "VfL Wolfsburg",
          "VfL Wolfsburg",
          "SC Freiburg",
          "SC Freiburg",
          "SC Freiburg",
          "TSG Hoffenheim",
          "TSG Hoffenheim",
          "Union Berlin",
          "Union Berlin",
          "FC Augsburg",
          "VfB Stuttgart",
          "VfB Stuttgart",
          "1.FSV Mainz 05",
          "1.FSV Mainz 05",
          "1.FC Köln",
          "Hertha BSC",
          "Hertha BSC",
          "Hertha BSC",
          "Werder Bremen",
          "Werder Bremen",
          "FC Schalke 04",
          "FC Schalke 04",
          "VfL Bochum",
          "VfL Bochum",
          "VfL Bochum"
         ],
         "xaxis": "x",
         "yaxis": "y"
        },
        {
         "alignmentgroup": "True",
         "bingroup": "x",
         "hovertemplate": "position=midfield - Defensive Midfield<br>club=%{x}<br>count=%{y}<extra></extra>",
         "legendgroup": "midfield - Defensive Midfield",
         "marker": {
          "color": "#FFA15A",
          "pattern": {
           "shape": ""
          }
         },
         "name": "midfield - Defensive Midfield",
         "offsetgroup": "midfield - Defensive Midfield",
         "orientation": "v",
         "showlegend": true,
         "type": "histogram",
         "x": [
          "Bayern Munich",
          "Bor. Dortmund",
          "Bor. Dortmund",
          "B. Dortmund II",
          "B. Leverkusen",
          "B. Leverkusen",
          "B. Leverkusen",
          "B. Leverkusen",
          "E. Frankfurt",
          "Bor. M'gladbach",
          "Bor. M'gladbach",
          "VfL Wolfsburg",
          "VfL Wolfsburg",
          "SC Freiburg",
          "SC Freiburg",
          "TSG Hoffenheim",
          "TSG Hoffenheim",
          "Union Berlin",
          "FC Augsburg",
          "FC Augsburg",
          "FC Augsburg",
          "FC Augsburg",
          "VfB Stuttgart",
          "VfB Stuttgart",
          "1.FSV Mainz 05",
          "1.FC Köln",
          "1.FC Köln",
          "1.FC Köln",
          "1.FC Köln II",
          "Hertha BSC",
          "Hertha BSC",
          "Hertha BSC",
          "Werder Bremen",
          "Werder Bremen",
          "Werder Bremen",
          "FC Schalke 04",
          "FC Schalke 04",
          "FC Schalke 04",
          "VfL Bochum",
          "VfL Bochum"
         ],
         "xaxis": "x",
         "yaxis": "y"
        },
        {
         "alignmentgroup": "True",
         "bingroup": "x",
         "hovertemplate": "position=midfield - Central Midfield<br>club=%{x}<br>count=%{y}<extra></extra>",
         "legendgroup": "midfield - Central Midfield",
         "marker": {
          "color": "#19d3f3",
          "pattern": {
           "shape": ""
          }
         },
         "name": "midfield - Central Midfield",
         "offsetgroup": "midfield - Central Midfield",
         "orientation": "v",
         "showlegend": true,
         "type": "histogram",
         "x": [
          "Bayern Munich",
          "Bayern Munich",
          "Bor. Dortmund",
          "Bor. Dortmund",
          "RB Leipzig",
          "RB Leipzig",
          "RB Leipzig",
          "RB Leipzig",
          "B. Leverkusen",
          "B. Leverkusen",
          "B. Leverkusen",
          "E. Frankfurt",
          "E. Frankfurt",
          "E. Frankfurt",
          "E. Frankfurt",
          "Bor. M'gladbach",
          "Bor. M'gladbach",
          "Bor. M'gladbach",
          "VfL Wolfsburg",
          "VfL Wolfsburg",
          "VfL Wolfsburg",
          "SC Freiburg",
          "SC Freiburg",
          "SC Freiburg",
          "TSG Hoffenheim",
          "TSG Hoffenheim",
          "TSG Hoffenheim",
          "TSG Hoffenheim",
          "TSG Hoffenheim",
          "Union Berlin",
          "Union Berlin",
          "Union Berlin",
          "Union Berlin",
          "Union Berlin",
          "Union Berlin",
          "Union Berlin",
          "FC Augsburg",
          "FC Augsburg",
          "FC Augsburg",
          "VfB Stuttgart",
          "VfB Stuttgart",
          "1.FSV Mainz 05",
          "1.FSV Mainz 05",
          "1.FSV Mainz 05",
          "1.FSV Mainz 05",
          "1.FSV Mainz 05",
          "1.FC Köln",
          "1.FC Köln",
          "1.FC Köln II",
          "Hertha BSC",
          "Werder Bremen",
          "Werder Bremen",
          "FC Schalke 04",
          "FC Schalke 04",
          "VfL Bochum",
          "VfL Bochum"
         ],
         "xaxis": "x",
         "yaxis": "y"
        },
        {
         "alignmentgroup": "True",
         "bingroup": "x",
         "hovertemplate": "position=midfield - Attacking Midfield<br>club=%{x}<br>count=%{y}<extra></extra>",
         "legendgroup": "midfield - Attacking Midfield",
         "marker": {
          "color": "#FF6692",
          "pattern": {
           "shape": ""
          }
         },
         "name": "midfield - Attacking Midfield",
         "offsetgroup": "midfield - Attacking Midfield",
         "orientation": "v",
         "showlegend": true,
         "type": "histogram",
         "x": [
          "Bayern Munich",
          "Bayern Munich",
          "Bayern Munich",
          "Bor. Dortmund",
          "Bor. Dortmund",
          "Bor. Dortmund",
          "B. Dortmund II",
          "RB Leipzig",
          "RB Leipzig",
          "RB Leipzig",
          "RB Leipzig",
          "B. Leverkusen",
          "E. Frankfurt",
          "E. Frankfurt",
          "E. Frankfurt",
          "E. Frankfurt",
          "Bor. M'gladbach",
          "Bor. M'gladbach",
          "VfL Wolfsburg",
          "SC Freiburg",
          "TSG Hoffenheim",
          "TSG Hoffenheim",
          "TSG Hoffenheim",
          "Union Berlin",
          "FC Augsburg",
          "FC Augsburg U19",
          "VfB Stuttgart",
          "VfB Stuttgart",
          "VfB Stuttgart",
          "VfB Stuttgart",
          "1.FSV Mainz 05",
          "Hertha BSC",
          "Hertha BSC",
          "Werder Bremen",
          "Werder Bremen",
          "Werder Bremen",
          "FC Schalke 04",
          "FC Schalke 04",
          "VfL Bochum",
          "VfL Bochum"
         ],
         "xaxis": "x",
         "yaxis": "y"
        },
        {
         "alignmentgroup": "True",
         "bingroup": "x",
         "hovertemplate": "position=Attack - Left Winger<br>club=%{x}<br>count=%{y}<extra></extra>",
         "legendgroup": "Attack - Left Winger",
         "marker": {
          "color": "#B6E880",
          "pattern": {
           "shape": ""
          }
         },
         "name": "Attack - Left Winger",
         "offsetgroup": "Attack - Left Winger",
         "orientation": "v",
         "showlegend": true,
         "type": "histogram",
         "x": [
          "Bayern Munich",
          "Bayern Munich",
          "Bor. Dortmund",
          "Bor. Dortmund",
          "B. Leverkusen",
          "B. Leverkusen",
          "E. Frankfurt",
          "Bor. M'gladbach",
          "Bor. M'gladbach",
          "Bor. M'gladbach",
          "VfL Wolfsburg",
          "SC Freiburg",
          "SC Freiburg",
          "TSG Hoffenheim",
          "FC Augsburg",
          "FC Augsburg",
          "1.FSV Mainz 05",
          "1.FC Köln",
          "Hertha BSC",
          "FC Schalke 04",
          "VfL Bochum",
          "VfL Bochum"
         ],
         "xaxis": "x",
         "yaxis": "y"
        },
        {
         "alignmentgroup": "True",
         "bingroup": "x",
         "hovertemplate": "position=Attack - Right Winger<br>club=%{x}<br>count=%{y}<extra></extra>",
         "legendgroup": "Attack - Right Winger",
         "marker": {
          "color": "#FF97FF",
          "pattern": {
           "shape": ""
          }
         },
         "name": "Attack - Right Winger",
         "offsetgroup": "Attack - Right Winger",
         "orientation": "v",
         "showlegend": true,
         "type": "histogram",
         "x": [
          "Bayern Munich",
          "Bayern Munich",
          "Bor. Dortmund",
          "Bor. Dortmund",
          "B. Leverkusen",
          "B. Leverkusen",
          "E. Frankfurt",
          "Bor. M'gladbach",
          "Bor. M'gladbach",
          "Bor. M'gladbach",
          "VfL Wolfsburg",
          "SC Freiburg",
          "SC Freiburg",
          "Union Berlin",
          "FC Augsburg",
          "FC Augsburg",
          "FC Augsburg",
          "VfB Stuttgart",
          "VfB Stuttgart",
          "VfB Stuttgart",
          "VfB Stuttgart",
          "1.FSV Mainz 05",
          "1.FC Köln",
          "1.FC Köln",
          "1.FC Köln",
          "Hertha BSC",
          "Hertha BSC",
          "Hertha BSC",
          "FC Schalke 04",
          "VfL Bochum"
         ],
         "xaxis": "x",
         "yaxis": "y"
        },
        {
         "alignmentgroup": "True",
         "bingroup": "x",
         "hovertemplate": "position=Attack - Second Striker<br>club=%{x}<br>count=%{y}<extra></extra>",
         "legendgroup": "Attack - Second Striker",
         "marker": {
          "color": "#FECB52",
          "pattern": {
           "shape": ""
          }
         },
         "name": "Attack - Second Striker",
         "offsetgroup": "Attack - Second Striker",
         "orientation": "v",
         "showlegend": true,
         "type": "histogram",
         "x": [
          "Bayern Munich",
          "RB Leipzig",
          "VfL Wolfsburg",
          "SC Freiburg",
          "Union Berlin",
          "Union Berlin",
          "Werder Bremen"
         ],
         "xaxis": "x",
         "yaxis": "y"
        },
        {
         "alignmentgroup": "True",
         "bingroup": "x",
         "hovertemplate": "position=Attack - Centre-Forward<br>club=%{x}<br>count=%{y}<extra></extra>",
         "legendgroup": "Attack - Centre-Forward",
         "marker": {
          "color": "#636efa",
          "pattern": {
           "shape": ""
          }
         },
         "name": "Attack - Centre-Forward",
         "offsetgroup": "Attack - Centre-Forward",
         "orientation": "v",
         "showlegend": true,
         "type": "histogram",
         "x": [
          "Bayern Munich",
          "Bayern Munich",
          "Bor. Dortmund",
          "Bor. Dortmund",
          "Bor. Dortmund",
          "RB Leipzig",
          "RB Leipzig",
          "RB Leipzig",
          "B. Leverkusen",
          "B. Leverkusen",
          "B. Leverkusen",
          "E. Frankfurt",
          "E. Frankfurt",
          "E. Frankfurt",
          "E. Frankfurt",
          "Bor. M'gladbach",
          "VfL Wolfsburg",
          "VfL Wolfsburg",
          "VfL Wolfsburg",
          "VfL Wolfsburg",
          "SC Freiburg",
          "SC Freiburg",
          "SC Freiburg",
          "TSG Hoffenheim",
          "TSG Hoffenheim",
          "TSG Hoffenheim",
          "TSG Hoffenheim",
          "TSG Hoffenheim",
          "Union Berlin",
          "Union Berlin",
          "Union Berlin",
          "FC Augsburg",
          "FC Augsburg",
          "FC Augsburg",
          "FC Augsburg",
          "FC Augsburg",
          "VfB Stuttgart",
          "VfB Stuttgart",
          "VfB Stuttgart",
          "VfB Stuttgart",
          "VfB Stuttgart",
          "VfB Stuttgart",
          "1.FSV Mainz 05",
          "1.FSV Mainz 05",
          "1.FSV Mainz 05",
          "1.FSV Mainz 05",
          "1.FSV Mainz 05",
          "1.FSV Mainz 05",
          "1.FC Köln",
          "1.FC Köln",
          "1.FC Köln",
          "1.FC Köln",
          "1.FC Köln",
          "1.FC Köln",
          "1.FC Köln",
          "1.FC Köln II",
          "Hertha BSC",
          "Hertha BSC",
          "Hertha BSC",
          "Hertha BSC",
          "Hertha BSC",
          "Hertha BSC U19",
          "Werder Bremen",
          "Werder Bremen",
          "Werder Bremen",
          "FC Schalke 04",
          "FC Schalke 04",
          "FC Schalke 04",
          "FC Schalke 04",
          "VfL Bochum",
          "VfL Bochum",
          "VfL Bochum",
          "VfL Bochum"
         ],
         "xaxis": "x",
         "yaxis": "y"
        },
        {
         "alignmentgroup": "True",
         "bingroup": "x",
         "hovertemplate": "position=midfield - Right Midfield<br>club=%{x}<br>count=%{y}<extra></extra>",
         "legendgroup": "midfield - Right Midfield",
         "marker": {
          "color": "#EF553B",
          "pattern": {
           "shape": ""
          }
         },
         "name": "midfield - Right Midfield",
         "offsetgroup": "midfield - Right Midfield",
         "orientation": "v",
         "showlegend": true,
         "type": "histogram",
         "x": [
          "E. Frankfurt",
          "TSG Hoffenheim",
          "1.FC Köln",
          "FC Schalke 04"
         ],
         "xaxis": "x",
         "yaxis": "y"
        },
        {
         "alignmentgroup": "True",
         "bingroup": "x",
         "hovertemplate": "position=midfield - Left Midfield<br>club=%{x}<br>count=%{y}<extra></extra>",
         "legendgroup": "midfield - Left Midfield",
         "marker": {
          "color": "#00cc96",
          "pattern": {
           "shape": ""
          }
         },
         "name": "midfield - Left Midfield",
         "offsetgroup": "midfield - Left Midfield",
         "orientation": "v",
         "showlegend": true,
         "type": "histogram",
         "x": [
          "VfL Wolfsburg",
          "FC Schalke 04"
         ],
         "xaxis": "x",
         "yaxis": "y"
        }
       ],
       "layout": {
        "autosize": true,
        "barmode": "relative",
        "legend": {
         "title": {
          "text": "position"
         },
         "tracegroupgap": 0
        },
        "template": {
         "data": {
          "bar": [
           {
            "error_x": {
             "color": "#2a3f5f"
            },
            "error_y": {
             "color": "#2a3f5f"
            },
            "marker": {
             "line": {
              "color": "#E5ECF6",
              "width": 0.5
             },
             "pattern": {
              "fillmode": "overlay",
              "size": 10,
              "solidity": 0.2
             }
            },
            "type": "bar"
           }
          ],
          "barpolar": [
           {
            "marker": {
             "line": {
              "color": "#E5ECF6",
              "width": 0.5
             },
             "pattern": {
              "fillmode": "overlay",
              "size": 10,
              "solidity": 0.2
             }
            },
            "type": "barpolar"
           }
          ],
          "carpet": [
           {
            "aaxis": {
             "endlinecolor": "#2a3f5f",
             "gridcolor": "white",
             "linecolor": "white",
             "minorgridcolor": "white",
             "startlinecolor": "#2a3f5f"
            },
            "baxis": {
             "endlinecolor": "#2a3f5f",
             "gridcolor": "white",
             "linecolor": "white",
             "minorgridcolor": "white",
             "startlinecolor": "#2a3f5f"
            },
            "type": "carpet"
           }
          ],
          "choropleth": [
           {
            "colorbar": {
             "outlinewidth": 0,
             "ticks": ""
            },
            "type": "choropleth"
           }
          ],
          "contour": [
           {
            "colorbar": {
             "outlinewidth": 0,
             "ticks": ""
            },
            "colorscale": [
             [
              0,
              "#0d0887"
             ],
             [
              0.1111111111111111,
              "#46039f"
             ],
             [
              0.2222222222222222,
              "#7201a8"
             ],
             [
              0.3333333333333333,
              "#9c179e"
             ],
             [
              0.4444444444444444,
              "#bd3786"
             ],
             [
              0.5555555555555556,
              "#d8576b"
             ],
             [
              0.6666666666666666,
              "#ed7953"
             ],
             [
              0.7777777777777778,
              "#fb9f3a"
             ],
             [
              0.8888888888888888,
              "#fdca26"
             ],
             [
              1,
              "#f0f921"
             ]
            ],
            "type": "contour"
           }
          ],
          "contourcarpet": [
           {
            "colorbar": {
             "outlinewidth": 0,
             "ticks": ""
            },
            "type": "contourcarpet"
           }
          ],
          "heatmap": [
           {
            "colorbar": {
             "outlinewidth": 0,
             "ticks": ""
            },
            "colorscale": [
             [
              0,
              "#0d0887"
             ],
             [
              0.1111111111111111,
              "#46039f"
             ],
             [
              0.2222222222222222,
              "#7201a8"
             ],
             [
              0.3333333333333333,
              "#9c179e"
             ],
             [
              0.4444444444444444,
              "#bd3786"
             ],
             [
              0.5555555555555556,
              "#d8576b"
             ],
             [
              0.6666666666666666,
              "#ed7953"
             ],
             [
              0.7777777777777778,
              "#fb9f3a"
             ],
             [
              0.8888888888888888,
              "#fdca26"
             ],
             [
              1,
              "#f0f921"
             ]
            ],
            "type": "heatmap"
           }
          ],
          "heatmapgl": [
           {
            "colorbar": {
             "outlinewidth": 0,
             "ticks": ""
            },
            "colorscale": [
             [
              0,
              "#0d0887"
             ],
             [
              0.1111111111111111,
              "#46039f"
             ],
             [
              0.2222222222222222,
              "#7201a8"
             ],
             [
              0.3333333333333333,
              "#9c179e"
             ],
             [
              0.4444444444444444,
              "#bd3786"
             ],
             [
              0.5555555555555556,
              "#d8576b"
             ],
             [
              0.6666666666666666,
              "#ed7953"
             ],
             [
              0.7777777777777778,
              "#fb9f3a"
             ],
             [
              0.8888888888888888,
              "#fdca26"
             ],
             [
              1,
              "#f0f921"
             ]
            ],
            "type": "heatmapgl"
           }
          ],
          "histogram": [
           {
            "marker": {
             "pattern": {
              "fillmode": "overlay",
              "size": 10,
              "solidity": 0.2
             }
            },
            "type": "histogram"
           }
          ],
          "histogram2d": [
           {
            "colorbar": {
             "outlinewidth": 0,
             "ticks": ""
            },
            "colorscale": [
             [
              0,
              "#0d0887"
             ],
             [
              0.1111111111111111,
              "#46039f"
             ],
             [
              0.2222222222222222,
              "#7201a8"
             ],
             [
              0.3333333333333333,
              "#9c179e"
             ],
             [
              0.4444444444444444,
              "#bd3786"
             ],
             [
              0.5555555555555556,
              "#d8576b"
             ],
             [
              0.6666666666666666,
              "#ed7953"
             ],
             [
              0.7777777777777778,
              "#fb9f3a"
             ],
             [
              0.8888888888888888,
              "#fdca26"
             ],
             [
              1,
              "#f0f921"
             ]
            ],
            "type": "histogram2d"
           }
          ],
          "histogram2dcontour": [
           {
            "colorbar": {
             "outlinewidth": 0,
             "ticks": ""
            },
            "colorscale": [
             [
              0,
              "#0d0887"
             ],
             [
              0.1111111111111111,
              "#46039f"
             ],
             [
              0.2222222222222222,
              "#7201a8"
             ],
             [
              0.3333333333333333,
              "#9c179e"
             ],
             [
              0.4444444444444444,
              "#bd3786"
             ],
             [
              0.5555555555555556,
              "#d8576b"
             ],
             [
              0.6666666666666666,
              "#ed7953"
             ],
             [
              0.7777777777777778,
              "#fb9f3a"
             ],
             [
              0.8888888888888888,
              "#fdca26"
             ],
             [
              1,
              "#f0f921"
             ]
            ],
            "type": "histogram2dcontour"
           }
          ],
          "mesh3d": [
           {
            "colorbar": {
             "outlinewidth": 0,
             "ticks": ""
            },
            "type": "mesh3d"
           }
          ],
          "parcoords": [
           {
            "line": {
             "colorbar": {
              "outlinewidth": 0,
              "ticks": ""
             }
            },
            "type": "parcoords"
           }
          ],
          "pie": [
           {
            "automargin": true,
            "type": "pie"
           }
          ],
          "scatter": [
           {
            "fillpattern": {
             "fillmode": "overlay",
             "size": 10,
             "solidity": 0.2
            },
            "type": "scatter"
           }
          ],
          "scatter3d": [
           {
            "line": {
             "colorbar": {
              "outlinewidth": 0,
              "ticks": ""
             }
            },
            "marker": {
             "colorbar": {
              "outlinewidth": 0,
              "ticks": ""
             }
            },
            "type": "scatter3d"
           }
          ],
          "scattercarpet": [
           {
            "marker": {
             "colorbar": {
              "outlinewidth": 0,
              "ticks": ""
             }
            },
            "type": "scattercarpet"
           }
          ],
          "scattergeo": [
           {
            "marker": {
             "colorbar": {
              "outlinewidth": 0,
              "ticks": ""
             }
            },
            "type": "scattergeo"
           }
          ],
          "scattergl": [
           {
            "marker": {
             "colorbar": {
              "outlinewidth": 0,
              "ticks": ""
             }
            },
            "type": "scattergl"
           }
          ],
          "scattermapbox": [
           {
            "marker": {
             "colorbar": {
              "outlinewidth": 0,
              "ticks": ""
             }
            },
            "type": "scattermapbox"
           }
          ],
          "scatterpolar": [
           {
            "marker": {
             "colorbar": {
              "outlinewidth": 0,
              "ticks": ""
             }
            },
            "type": "scatterpolar"
           }
          ],
          "scatterpolargl": [
           {
            "marker": {
             "colorbar": {
              "outlinewidth": 0,
              "ticks": ""
             }
            },
            "type": "scatterpolargl"
           }
          ],
          "scatterternary": [
           {
            "marker": {
             "colorbar": {
              "outlinewidth": 0,
              "ticks": ""
             }
            },
            "type": "scatterternary"
           }
          ],
          "surface": [
           {
            "colorbar": {
             "outlinewidth": 0,
             "ticks": ""
            },
            "colorscale": [
             [
              0,
              "#0d0887"
             ],
             [
              0.1111111111111111,
              "#46039f"
             ],
             [
              0.2222222222222222,
              "#7201a8"
             ],
             [
              0.3333333333333333,
              "#9c179e"
             ],
             [
              0.4444444444444444,
              "#bd3786"
             ],
             [
              0.5555555555555556,
              "#d8576b"
             ],
             [
              0.6666666666666666,
              "#ed7953"
             ],
             [
              0.7777777777777778,
              "#fb9f3a"
             ],
             [
              0.8888888888888888,
              "#fdca26"
             ],
             [
              1,
              "#f0f921"
             ]
            ],
            "type": "surface"
           }
          ],
          "table": [
           {
            "cells": {
             "fill": {
              "color": "#EBF0F8"
             },
             "line": {
              "color": "white"
             }
            },
            "header": {
             "fill": {
              "color": "#C8D4E3"
             },
             "line": {
              "color": "white"
             }
            },
            "type": "table"
           }
          ]
         },
         "layout": {
          "annotationdefaults": {
           "arrowcolor": "#2a3f5f",
           "arrowhead": 0,
           "arrowwidth": 1
          },
          "autotypenumbers": "strict",
          "coloraxis": {
           "colorbar": {
            "outlinewidth": 0,
            "ticks": ""
           }
          },
          "colorscale": {
           "diverging": [
            [
             0,
             "#8e0152"
            ],
            [
             0.1,
             "#c51b7d"
            ],
            [
             0.2,
             "#de77ae"
            ],
            [
             0.3,
             "#f1b6da"
            ],
            [
             0.4,
             "#fde0ef"
            ],
            [
             0.5,
             "#f7f7f7"
            ],
            [
             0.6,
             "#e6f5d0"
            ],
            [
             0.7,
             "#b8e186"
            ],
            [
             0.8,
             "#7fbc41"
            ],
            [
             0.9,
             "#4d9221"
            ],
            [
             1,
             "#276419"
            ]
           ],
           "sequential": [
            [
             0,
             "#0d0887"
            ],
            [
             0.1111111111111111,
             "#46039f"
            ],
            [
             0.2222222222222222,
             "#7201a8"
            ],
            [
             0.3333333333333333,
             "#9c179e"
            ],
            [
             0.4444444444444444,
             "#bd3786"
            ],
            [
             0.5555555555555556,
             "#d8576b"
            ],
            [
             0.6666666666666666,
             "#ed7953"
            ],
            [
             0.7777777777777778,
             "#fb9f3a"
            ],
            [
             0.8888888888888888,
             "#fdca26"
            ],
            [
             1,
             "#f0f921"
            ]
           ],
           "sequentialminus": [
            [
             0,
             "#0d0887"
            ],
            [
             0.1111111111111111,
             "#46039f"
            ],
            [
             0.2222222222222222,
             "#7201a8"
            ],
            [
             0.3333333333333333,
             "#9c179e"
            ],
            [
             0.4444444444444444,
             "#bd3786"
            ],
            [
             0.5555555555555556,
             "#d8576b"
            ],
            [
             0.6666666666666666,
             "#ed7953"
            ],
            [
             0.7777777777777778,
             "#fb9f3a"
            ],
            [
             0.8888888888888888,
             "#fdca26"
            ],
            [
             1,
             "#f0f921"
            ]
           ]
          },
          "colorway": [
           "#636efa",
           "#EF553B",
           "#00cc96",
           "#ab63fa",
           "#FFA15A",
           "#19d3f3",
           "#FF6692",
           "#B6E880",
           "#FF97FF",
           "#FECB52"
          ],
          "font": {
           "color": "#2a3f5f"
          },
          "geo": {
           "bgcolor": "white",
           "lakecolor": "white",
           "landcolor": "#E5ECF6",
           "showlakes": true,
           "showland": true,
           "subunitcolor": "white"
          },
          "hoverlabel": {
           "align": "left"
          },
          "hovermode": "closest",
          "mapbox": {
           "style": "light"
          },
          "paper_bgcolor": "white",
          "plot_bgcolor": "#E5ECF6",
          "polar": {
           "angularaxis": {
            "gridcolor": "white",
            "linecolor": "white",
            "ticks": ""
           },
           "bgcolor": "#E5ECF6",
           "radialaxis": {
            "gridcolor": "white",
            "linecolor": "white",
            "ticks": ""
           }
          },
          "scene": {
           "xaxis": {
            "backgroundcolor": "#E5ECF6",
            "gridcolor": "white",
            "gridwidth": 2,
            "linecolor": "white",
            "showbackground": true,
            "ticks": "",
            "zerolinecolor": "white"
           },
           "yaxis": {
            "backgroundcolor": "#E5ECF6",
            "gridcolor": "white",
            "gridwidth": 2,
            "linecolor": "white",
            "showbackground": true,
            "ticks": "",
            "zerolinecolor": "white"
           },
           "zaxis": {
            "backgroundcolor": "#E5ECF6",
            "gridcolor": "white",
            "gridwidth": 2,
            "linecolor": "white",
            "showbackground": true,
            "ticks": "",
            "zerolinecolor": "white"
           }
          },
          "shapedefaults": {
           "line": {
            "color": "#2a3f5f"
           }
          },
          "ternary": {
           "aaxis": {
            "gridcolor": "white",
            "linecolor": "white",
            "ticks": ""
           },
           "baxis": {
            "gridcolor": "white",
            "linecolor": "white",
            "ticks": ""
           },
           "bgcolor": "#E5ECF6",
           "caxis": {
            "gridcolor": "white",
            "linecolor": "white",
            "ticks": ""
           }
          },
          "title": {
           "x": 0.05
          },
          "xaxis": {
           "automargin": true,
           "gridcolor": "white",
           "linecolor": "white",
           "ticks": "",
           "title": {
            "standoff": 15
           },
           "zerolinecolor": "white",
           "zerolinewidth": 2
          },
          "yaxis": {
           "automargin": true,
           "gridcolor": "white",
           "linecolor": "white",
           "ticks": "",
           "title": {
            "standoff": 15
           },
           "zerolinecolor": "white",
           "zerolinewidth": 2
          }
         }
        },
        "title": {
         "text": "Qtde dos Jogadores por Posição"
        },
        "xaxis": {
         "anchor": "y",
         "autorange": true,
         "domain": [
          0,
          1
         ],
         "range": [
          -0.5,
          27.5
         ],
         "title": {
          "text": "club"
         },
         "type": "category"
        },
        "yaxis": {
         "anchor": "x",
         "autorange": true,
         "domain": [
          0,
          1
         ],
         "range": [
          0,
          32.63157894736842
         ],
         "title": {
          "text": "count"
         }
        }
       }
      },
      "image/png": "[encoded data removed]",
      "text/html": [
       "<div>                            <div id=\"8050dab9-9365-4848-9168-db92f069e066\" class=\"plotly-graph-div\" style=\"height:525px; width:100%;\"></div>            <script type=\"text/javascript\">                require([\"plotly\"], function(Plotly) {                    window.PLOTLYENV=window.PLOTLYENV || {};                                    if (document.getElementById(\"8050dab9-9365-4848-9168-db92f069e066\")) {                    Plotly.newPlot(                        \"8050dab9-9365-4848-9168-db92f069e066\",                        [{\"alignmentgroup\":\"True\",\"bingroup\":\"x\",\"hovertemplate\":\"position=Goalkeeper\\u003cbr\\u003eclub=%{x}\\u003cbr\\u003ecount=%{y}\\u003cextra\\u003e\\u003c\\u002fextra\\u003e\",\"legendgroup\":\"Goalkeeper\",\"marker\":{\"color\":\"#636efa\",\"pattern\":{\"shape\":\"\"}},\"name\":\"Goalkeeper\",\"offsetgroup\":\"Goalkeeper\",\"orientation\":\"v\",\"showlegend\":true,\"x\":[\"Bayern Munich\",\"Bayern Munich\",\"Bayern Munich\",\"Bayern Munich\",\"Bor. Dortmund\",\"Bor. Dortmund\",\"Bor. Dortmund\",\"Bor. Dortmund\",\"RB Leipzig\",\"RB Leipzig\",\"RB Leipzig\",\"RB Leipzig U19\",\"RB Leipzig U17\",\"RB Leipzig\",\"B. Leverkusen\",\"B. Leverkusen\",\"B. Leverkusen\",\"B. Leverkusen\",\"E. Frankfurt\",\"E. Frankfurt\",\"E. Frankfurt\",\"E. Frankfurt\",\"Bor. M'gladbach\",\"Bor. M'gladbach\",\"Bor. M'gladbach\",\"VfL Wolfsburg\",\"VfL Wolfsburg\",\"VfL Wolfsburg\",\"VfL Wolfsburg\",\"SC Freiburg\",\"SC Freiburg\",\"SC Freiburg\",\"TSG Hoffenheim\",\"TSG Hoffenheim\",\"TSG Hoffenheim\",\"TSG Hoffenheim\",\"Union Berlin\",\"Union Berlin\",\"Union Berlin\",\"FC Augsburg\",\"FC Augsburg\",\"FC Augsburg\",\"FC Augsburg\",\"VfB Stuttgart\",\"VfB Stuttgart\",\"VfB Stuttgart\",\"1.FSV Mainz 05\",\"1.FSV Mainz 05\",\"1.FSV Mainz 05\",\"1.FC K\\u00f6ln\",\"1.FC K\\u00f6ln\",\"1.FC K\\u00f6ln II\",\"1.FC K\\u00f6ln\",\"Hertha BSC\",\"Hertha BSC\",\"Hertha BSC\",\"Werder Bremen\",\"Werder Bremen\",\"W. Bremen U19\",\"Werder Bremen\",\"W. Bremen II\",\"FC Schalke 04\",\"FC Schalke 04\",\"FC Schalke 04\",\"FC Schalke 04\",\"VfL Bochum\",\"VfL Bochum\",\"VfL Bochum\",\"VfL Bochum\"],\"xaxis\":\"x\",\"yaxis\":\"y\",\"type\":\"histogram\"},{\"alignmentgroup\":\"True\",\"bingroup\":\"x\",\"hovertemplate\":\"position=Defender - Centre-Back\\u003cbr\\u003eclub=%{x}\\u003cbr\\u003ecount=%{y}\\u003cextra\\u003e\\u003c\\u002fextra\\u003e\",\"legendgroup\":\"Defender - Centre-Back\",\"marker\":{\"color\":\"#EF553B\",\"pattern\":{\"shape\":\"\"}},\"name\":\"Defender - Centre-Back\",\"offsetgroup\":\"Defender - Centre-Back\",\"orientation\":\"v\",\"showlegend\":true,\"x\":[\"Bayern Munich\",\"Bayern Munich\",\"Bayern Munich\",\"Bor. Dortmund\",\"Bor. Dortmund\",\"Bor. Dortmund\",\"Bor. Dortmund\",\"B. Dortmund II\",\"RB Leipzig\",\"RB Leipzig\",\"RB Leipzig\",\"RB Leipzig\",\"B. Leverkusen\",\"B. Leverkusen\",\"B. Leverkusen\",\"B. Leverkusen\",\"E. Frankfurt\",\"E. Frankfurt\",\"E. Frankfurt\",\"E. Frankfurt\",\"E. Frankfurt\",\"Bor. M'gladbach\",\"Bor. M'gladbach\",\"Bor. M'gladbach\",\"Bor. M'gladbach\",\"Bor. M'gladbach\",\"VfL Wolfsburg\",\"VfL Wolfsburg\",\"VfL Wolfsburg\",\"SC Freiburg\",\"SC Freiburg\",\"SC Freiburg\",\"SC Freiburg\",\"TSG Hoffenheim\",\"TSG Hoffenheim\",\"TSG Hoffenheim\",\"TSG Hoffenheim\",\"TSG Hoffenheim\",\"TSG Hoffenheim\",\"TSG Hoffenheim\",\"Union Berlin\",\"Union Berlin\",\"Union Berlin\",\"Union Berlin\",\"Union Berlin\",\"FC Augsburg\",\"FC Augsburg\",\"FC Augsburg\",\"FC Augsburg\",\"VfB Stuttgart\",\"VfB Stuttgart\",\"VfB Stuttgart\",\"VfB Stuttgart\",\"VfB Stuttgart\",\"1.FSV Mainz 05\",\"1.FSV Mainz 05\",\"1.FSV Mainz 05\",\"1.FSV Mainz 05\",\"1.FSV Mainz 05\",\"1.FC K\\u00f6ln\",\"1.FC K\\u00f6ln\",\"1.FC K\\u00f6ln\",\"1.FC K\\u00f6ln\",\"1.FC K\\u00f6ln II\",\"1.FC K\\u00f6ln U19\",\"Hertha BSC\",\"Hertha BSC\",\"Hertha BSC\",\"Hertha BSC\",\"Werder Bremen\",\"Werder Bremen\",\"Werder Bremen\",\"Werder Bremen\",\"Werder Bremen\",\"FC Schalke 04\",\"FC Schalke 04\",\"FC Schalke 04\",\"FC Schalke 04\",\"FC Schalke 04\",\"FC Schalke 04\",\"FC Schalke 04\",\"FC Schalke 04\",\"VfL Bochum\",\"VfL Bochum\",\"VfL Bochum\",\"VfL Bochum\",\"VfL Bochum\",\"VfL Bochum\"],\"xaxis\":\"x\",\"yaxis\":\"y\",\"type\":\"histogram\"},{\"alignmentgroup\":\"True\",\"bingroup\":\"x\",\"hovertemplate\":\"position=Defender - Left-Back\\u003cbr\\u003eclub=%{x}\\u003cbr\\u003ecount=%{y}\\u003cextra\\u003e\\u003c\\u002fextra\\u003e\",\"legendgroup\":\"Defender - Left-Back\",\"marker\":{\"color\":\"#00cc96\",\"pattern\":{\"shape\":\"\"}},\"name\":\"Defender - Left-Back\",\"offsetgroup\":\"Defender - Left-Back\",\"orientation\":\"v\",\"showlegend\":true,\"x\":[\"Bayern Munich\",\"Bayern Munich\",\"Bor. Dortmund\",\"Bor. Dortmund\",\"Bor. Dortmund\",\"RB Leipzig\",\"RB Leipzig\",\"RB Leipzig\",\"B. Leverkusen\",\"B. Leverkusen\",\"E. Frankfurt\",\"E. Frankfurt\",\"E. Frankfurt\",\"Bor. M'gladbach\",\"Bor. M'gladbach\",\"VfL Wolfsburg\",\"VfL Wolfsburg\",\"SC Freiburg\",\"SC Freiburg\",\"TSG Hoffenheim\",\"Union Berlin\",\"Union Berlin\",\"FC Augsburg\",\"FC Augsburg\",\"FC Augsburg\",\"FC Augsburg\",\"VfB Stuttgart\",\"1.FSV Mainz 05\",\"1.FSV Mainz 05\",\"1.FC K\\u00f6ln\",\"1.FC K\\u00f6ln\",\"Hertha BSC\",\"Hertha BSC\",\"Hertha BSC II\",\"Werder Bremen\",\"Werder Bremen\",\"FC Schalke 04\",\"FC Schalke 04\",\"VfL Bochum\",\"VfL Bochum\"],\"xaxis\":\"x\",\"yaxis\":\"y\",\"type\":\"histogram\"},{\"alignmentgroup\":\"True\",\"bingroup\":\"x\",\"hovertemplate\":\"position=Defender - Right-Back\\u003cbr\\u003eclub=%{x}\\u003cbr\\u003ecount=%{y}\\u003cextra\\u003e\\u003c\\u002fextra\\u003e\",\"legendgroup\":\"Defender - Right-Back\",\"marker\":{\"color\":\"#ab63fa\",\"pattern\":{\"shape\":\"\"}},\"name\":\"Defender - Right-Back\",\"offsetgroup\":\"Defender - Right-Back\",\"orientation\":\"v\",\"showlegend\":true,\"x\":[\"Bayern Munich\",\"Bayern Munich\",\"Bayern Munich\",\"Bayern Munich\",\"Bayern Munich\",\"Bor. Dortmund\",\"Bor. Dortmund\",\"Bor. Dortmund\",\"Bor. Dortmund\",\"Bor. Dortmund\",\"RB Leipzig\",\"RB Leipzig\",\"B. Leverkusen\",\"B. Leverkusen\",\"E. Frankfurt\",\"E. Frankfurt\",\"Bor. M'gladbach\",\"Bor. M'gladbach\",\"Bor. M'gladbach\",\"VfL Wolfsburg\",\"VfL Wolfsburg\",\"SC Freiburg\",\"SC Freiburg\",\"SC Freiburg\",\"TSG Hoffenheim\",\"TSG Hoffenheim\",\"Union Berlin\",\"Union Berlin\",\"FC Augsburg\",\"VfB Stuttgart\",\"VfB Stuttgart\",\"1.FSV Mainz 05\",\"1.FSV Mainz 05\",\"1.FC K\\u00f6ln\",\"Hertha BSC\",\"Hertha BSC\",\"Hertha BSC\",\"Werder Bremen\",\"Werder Bremen\",\"FC Schalke 04\",\"FC Schalke 04\",\"VfL Bochum\",\"VfL Bochum\",\"VfL Bochum\"],\"xaxis\":\"x\",\"yaxis\":\"y\",\"type\":\"histogram\"},{\"alignmentgroup\":\"True\",\"bingroup\":\"x\",\"hovertemplate\":\"position=midfield - Defensive Midfield\\u003cbr\\u003eclub=%{x}\\u003cbr\\u003ecount=%{y}\\u003cextra\\u003e\\u003c\\u002fextra\\u003e\",\"legendgroup\":\"midfield - Defensive Midfield\",\"marker\":{\"color\":\"#FFA15A\",\"pattern\":{\"shape\":\"\"}},\"name\":\"midfield - Defensive Midfield\",\"offsetgroup\":\"midfield - Defensive Midfield\",\"orientation\":\"v\",\"showlegend\":true,\"x\":[\"Bayern Munich\",\"Bor. Dortmund\",\"Bor. Dortmund\",\"B. Dortmund II\",\"B. Leverkusen\",\"B. Leverkusen\",\"B. Leverkusen\",\"B. Leverkusen\",\"E. Frankfurt\",\"Bor. M'gladbach\",\"Bor. M'gladbach\",\"VfL Wolfsburg\",\"VfL Wolfsburg\",\"SC Freiburg\",\"SC Freiburg\",\"TSG Hoffenheim\",\"TSG Hoffenheim\",\"Union Berlin\",\"FC Augsburg\",\"FC Augsburg\",\"FC Augsburg\",\"FC Augsburg\",\"VfB Stuttgart\",\"VfB Stuttgart\",\"1.FSV Mainz 05\",\"1.FC K\\u00f6ln\",\"1.FC K\\u00f6ln\",\"1.FC K\\u00f6ln\",\"1.FC K\\u00f6ln II\",\"Hertha BSC\",\"Hertha BSC\",\"Hertha BSC\",\"Werder Bremen\",\"Werder Bremen\",\"Werder Bremen\",\"FC Schalke 04\",\"FC Schalke 04\",\"FC Schalke 04\",\"VfL Bochum\",\"VfL Bochum\"],\"xaxis\":\"x\",\"yaxis\":\"y\",\"type\":\"histogram\"},{\"alignmentgroup\":\"True\",\"bingroup\":\"x\",\"hovertemplate\":\"position=midfield - Central Midfield\\u003cbr\\u003eclub=%{x}\\u003cbr\\u003ecount=%{y}\\u003cextra\\u003e\\u003c\\u002fextra\\u003e\",\"legendgroup\":\"midfield - Central Midfield\",\"marker\":{\"color\":\"#19d3f3\",\"pattern\":{\"shape\":\"\"}},\"name\":\"midfield - Central Midfield\",\"offsetgroup\":\"midfield - Central Midfield\",\"orientation\":\"v\",\"showlegend\":true,\"x\":[\"Bayern Munich\",\"Bayern Munich\",\"Bor. Dortmund\",\"Bor. Dortmund\",\"RB Leipzig\",\"RB Leipzig\",\"RB Leipzig\",\"RB Leipzig\",\"B. Leverkusen\",\"B. Leverkusen\",\"B. Leverkusen\",\"E. Frankfurt\",\"E. Frankfurt\",\"E. Frankfurt\",\"E. Frankfurt\",\"Bor. M'gladbach\",\"Bor. M'gladbach\",\"Bor. M'gladbach\",\"VfL Wolfsburg\",\"VfL Wolfsburg\",\"VfL Wolfsburg\",\"SC Freiburg\",\"SC Freiburg\",\"SC Freiburg\",\"TSG Hoffenheim\",\"TSG Hoffenheim\",\"TSG Hoffenheim\",\"TSG Hoffenheim\",\"TSG Hoffenheim\",\"Union Berlin\",\"Union Berlin\",\"Union Berlin\",\"Union Berlin\",\"Union Berlin\",\"Union Berlin\",\"Union Berlin\",\"FC Augsburg\",\"FC Augsburg\",\"FC Augsburg\",\"VfB Stuttgart\",\"VfB Stuttgart\",\"1.FSV Mainz 05\",\"1.FSV Mainz 05\",\"1.FSV Mainz 05\",\"1.FSV Mainz 05\",\"1.FSV Mainz 05\",\"1.FC K\\u00f6ln\",\"1.FC K\\u00f6ln\",\"1.FC K\\u00f6ln II\",\"Hertha BSC\",\"Werder Bremen\",\"Werder Bremen\",\"FC Schalke 04\",\"FC Schalke 04\",\"VfL Bochum\",\"VfL Bochum\"],\"xaxis\":\"x\",\"yaxis\":\"y\",\"type\":\"histogram\"},{\"alignmentgroup\":\"True\",\"bingroup\":\"x\",\"hovertemplate\":\"position=midfield - Attacking Midfield\\u003cbr\\u003eclub=%{x}\\u003cbr\\u003ecount=%{y}\\u003cextra\\u003e\\u003c\\u002fextra\\u003e\",\"legendgroup\":\"midfield - Attacking Midfield\",\"marker\":{\"color\":\"#FF6692\",\"pattern\":{\"shape\":\"\"}},\"name\":\"midfield - Attacking Midfield\",\"offsetgroup\":\"midfield - Attacking Midfield\",\"orientation\":\"v\",\"showlegend\":true,\"x\":[\"Bayern Munich\",\"Bayern Munich\",\"Bayern Munich\",\"Bor. Dortmund\",\"Bor. Dortmund\",\"Bor. Dortmund\",\"B. Dortmund II\",\"RB Leipzig\",\"RB Leipzig\",\"RB Leipzig\",\"RB Leipzig\",\"B. Leverkusen\",\"E. Frankfurt\",\"E. Frankfurt\",\"E. Frankfurt\",\"E. Frankfurt\",\"Bor. M'gladbach\",\"Bor. M'gladbach\",\"VfL Wolfsburg\",\"SC Freiburg\",\"TSG Hoffenheim\",\"TSG Hoffenheim\",\"TSG Hoffenheim\",\"Union Berlin\",\"FC Augsburg\",\"FC Augsburg U19\",\"VfB Stuttgart\",\"VfB Stuttgart\",\"VfB Stuttgart\",\"VfB Stuttgart\",\"1.FSV Mainz 05\",\"Hertha BSC\",\"Hertha BSC\",\"Werder Bremen\",\"Werder Bremen\",\"Werder Bremen\",\"FC Schalke 04\",\"FC Schalke 04\",\"VfL Bochum\",\"VfL Bochum\"],\"xaxis\":\"x\",\"yaxis\":\"y\",\"type\":\"histogram\"},{\"alignmentgroup\":\"True\",\"bingroup\":\"x\",\"hovertemplate\":\"position=Attack - Left Winger\\u003cbr\\u003eclub=%{x}\\u003cbr\\u003ecount=%{y}\\u003cextra\\u003e\\u003c\\u002fextra\\u003e\",\"legendgroup\":\"Attack - Left Winger\",\"marker\":{\"color\":\"#B6E880\",\"pattern\":{\"shape\":\"\"}},\"name\":\"Attack - Left Winger\",\"offsetgroup\":\"Attack - Left Winger\",\"orientation\":\"v\",\"showlegend\":true,\"x\":[\"Bayern Munich\",\"Bayern Munich\",\"Bor. Dortmund\",\"Bor. Dortmund\",\"B. Leverkusen\",\"B. Leverkusen\",\"E. Frankfurt\",\"Bor. M'gladbach\",\"Bor. M'gladbach\",\"Bor. M'gladbach\",\"VfL Wolfsburg\",\"SC Freiburg\",\"SC Freiburg\",\"TSG Hoffenheim\",\"FC Augsburg\",\"FC Augsburg\",\"1.FSV Mainz 05\",\"1.FC K\\u00f6ln\",\"Hertha BSC\",\"FC Schalke 04\",\"VfL Bochum\",\"VfL Bochum\"],\"xaxis\":\"x\",\"yaxis\":\"y\",\"type\":\"histogram\"},{\"alignmentgroup\":\"True\",\"bingroup\":\"x\",\"hovertemplate\":\"position=Attack - Right Winger\\u003cbr\\u003eclub=%{x}\\u003cbr\\u003ecount=%{y}\\u003cextra\\u003e\\u003c\\u002fextra\\u003e\",\"legendgroup\":\"Attack - Right Winger\",\"marker\":{\"color\":\"#FF97FF\",\"pattern\":{\"shape\":\"\"}},\"name\":\"Attack - Right Winger\",\"offsetgroup\":\"Attack - Right Winger\",\"orientation\":\"v\",\"showlegend\":true,\"x\":[\"Bayern Munich\",\"Bayern Munich\",\"Bor. Dortmund\",\"Bor. Dortmund\",\"B. Leverkusen\",\"B. Leverkusen\",\"E. Frankfurt\",\"Bor. M'gladbach\",\"Bor. M'gladbach\",\"Bor. M'gladbach\",\"VfL Wolfsburg\",\"SC Freiburg\",\"SC Freiburg\",\"Union Berlin\",\"FC Augsburg\",\"FC Augsburg\",\"FC Augsburg\",\"VfB Stuttgart\",\"VfB Stuttgart\",\"VfB Stuttgart\",\"VfB Stuttgart\",\"1.FSV Mainz 05\",\"1.FC K\\u00f6ln\",\"1.FC K\\u00f6ln\",\"1.FC K\\u00f6ln\",\"Hertha BSC\",\"Hertha BSC\",\"Hertha BSC\",\"FC Schalke 04\",\"VfL Bochum\"],\"xaxis\":\"x\",\"yaxis\":\"y\",\"type\":\"histogram\"},{\"alignmentgroup\":\"True\",\"bingroup\":\"x\",\"hovertemplate\":\"position=Attack - Second Striker\\u003cbr\\u003eclub=%{x}\\u003cbr\\u003ecount=%{y}\\u003cextra\\u003e\\u003c\\u002fextra\\u003e\",\"legendgroup\":\"Attack - Second Striker\",\"marker\":{\"color\":\"#FECB52\",\"pattern\":{\"shape\":\"\"}},\"name\":\"Attack - Second Striker\",\"offsetgroup\":\"Attack - Second Striker\",\"orientation\":\"v\",\"showlegend\":true,\"x\":[\"Bayern Munich\",\"RB Leipzig\",\"VfL Wolfsburg\",\"SC Freiburg\",\"Union Berlin\",\"Union Berlin\",\"Werder Bremen\"],\"xaxis\":\"x\",\"yaxis\":\"y\",\"type\":\"histogram\"},{\"alignmentgroup\":\"True\",\"bingroup\":\"x\",\"hovertemplate\":\"position=Attack - Centre-Forward\\u003cbr\\u003eclub=%{x}\\u003cbr\\u003ecount=%{y}\\u003cextra\\u003e\\u003c\\u002fextra\\u003e\",\"legendgroup\":\"Attack - Centre-Forward\",\"marker\":{\"color\":\"#636efa\",\"pattern\":{\"shape\":\"\"}},\"name\":\"Attack - Centre-Forward\",\"offsetgroup\":\"Attack - Centre-Forward\",\"orientation\":\"v\",\"showlegend\":true,\"x\":[\"Bayern Munich\",\"Bayern Munich\",\"Bor. Dortmund\",\"Bor. Dortmund\",\"Bor. Dortmund\",\"RB Leipzig\",\"RB Leipzig\",\"RB Leipzig\",\"B. Leverkusen\",\"B. Leverkusen\",\"B. Leverkusen\",\"E. Frankfurt\",\"E. Frankfurt\",\"E. Frankfurt\",\"E. Frankfurt\",\"Bor. M'gladbach\",\"VfL Wolfsburg\",\"VfL Wolfsburg\",\"VfL Wolfsburg\",\"VfL Wolfsburg\",\"SC Freiburg\",\"SC Freiburg\",\"SC Freiburg\",\"TSG Hoffenheim\",\"TSG Hoffenheim\",\"TSG Hoffenheim\",\"TSG Hoffenheim\",\"TSG Hoffenheim\",\"Union Berlin\",\"Union Berlin\",\"Union Berlin\",\"FC Augsburg\",\"FC Augsburg\",\"FC Augsburg\",\"FC Augsburg\",\"FC Augsburg\",\"VfB Stuttgart\",\"VfB Stuttgart\",\"VfB Stuttgart\",\"VfB Stuttgart\",\"VfB Stuttgart\",\"VfB Stuttgart\",\"1.FSV Mainz 05\",\"1.FSV Mainz 05\",\"1.FSV Mainz 05\",\"1.FSV Mainz 05\",\"1.FSV Mainz 05\",\"1.FSV Mainz 05\",\"1.FC K\\u00f6ln\",\"1.FC K\\u00f6ln\",\"1.FC K\\u00f6ln\",\"1.FC K\\u00f6ln\",\"1.FC K\\u00f6ln\",\"1.FC K\\u00f6ln\",\"1.FC K\\u00f6ln\",\"1.FC K\\u00f6ln II\",\"Hertha BSC\",\"Hertha BSC\",\"Hertha BSC\",\"Hertha BSC\",\"Hertha BSC\",\"Hertha BSC U19\",\"Werder Bremen\",\"Werder Bremen\",\"Werder Bremen\",\"FC Schalke 04\",\"FC Schalke 04\",\"FC Schalke 04\",\"FC Schalke 04\",\"VfL Bochum\",\"VfL Bochum\",\"VfL Bochum\",\"VfL Bochum\"],\"xaxis\":\"x\",\"yaxis\":\"y\",\"type\":\"histogram\"},{\"alignmentgroup\":\"True\",\"bingroup\":\"x\",\"hovertemplate\":\"position=midfield - Right Midfield\\u003cbr\\u003eclub=%{x}\\u003cbr\\u003ecount=%{y}\\u003cextra\\u003e\\u003c\\u002fextra\\u003e\",\"legendgroup\":\"midfield - Right Midfield\",\"marker\":{\"color\":\"#EF553B\",\"pattern\":{\"shape\":\"\"}},\"name\":\"midfield - Right Midfield\",\"offsetgroup\":\"midfield - Right Midfield\",\"orientation\":\"v\",\"showlegend\":true,\"x\":[\"E. Frankfurt\",\"TSG Hoffenheim\",\"1.FC K\\u00f6ln\",\"FC Schalke 04\"],\"xaxis\":\"x\",\"yaxis\":\"y\",\"type\":\"histogram\"},{\"alignmentgroup\":\"True\",\"bingroup\":\"x\",\"hovertemplate\":\"position=midfield - Left Midfield\\u003cbr\\u003eclub=%{x}\\u003cbr\\u003ecount=%{y}\\u003cextra\\u003e\\u003c\\u002fextra\\u003e\",\"legendgroup\":\"midfield - Left Midfield\",\"marker\":{\"color\":\"#00cc96\",\"pattern\":{\"shape\":\"\"}},\"name\":\"midfield - Left Midfield\",\"offsetgroup\":\"midfield - Left Midfield\",\"orientation\":\"v\",\"showlegend\":true,\"x\":[\"VfL Wolfsburg\",\"FC Schalke 04\"],\"xaxis\":\"x\",\"yaxis\":\"y\",\"type\":\"histogram\"}],                        {\"template\":{\"data\":{\"histogram2dcontour\":[{\"type\":\"histogram2dcontour\",\"colorbar\":{\"outlinewidth\":0,\"ticks\":\"\"},\"colorscale\":[[0.0,\"#0d0887\"],[0.1111111111111111,\"#46039f\"],[0.2222222222222222,\"#7201a8\"],[0.3333333333333333,\"#9c179e\"],[0.4444444444444444,\"#bd3786\"],[0.5555555555555556,\"#d8576b\"],[0.6666666666666666,\"#ed7953\"],[0.7777777777777778,\"#fb9f3a\"],[0.8888888888888888,\"#fdca26\"],[1.0,\"#f0f921\"]]}],\"choropleth\":[{\"type\":\"choropleth\",\"colorbar\":{\"outlinewidth\":0,\"ticks\":\"\"}}],\"histogram2d\":[{\"type\":\"histogram2d\",\"colorbar\":{\"outlinewidth\":0,\"ticks\":\"\"},\"colorscale\":[[0.0,\"#0d0887\"],[0.1111111111111111,\"#46039f\"],[0.2222222222222222,\"#7201a8\"],[0.3333333333333333,\"#9c179e\"],[0.4444444444444444,\"#bd3786\"],[0.5555555555555556,\"#d8576b\"],[0.6666666666666666,\"#ed7953\"],[0.7777777777777778,\"#fb9f3a\"],[0.8888888888888888,\"#fdca26\"],[1.0,\"#f0f921\"]]}],\"heatmap\":[{\"type\":\"heatmap\",\"colorbar\":{\"outlinewidth\":0,\"ticks\":\"\"},\"colorscale\":[[0.0,\"#0d0887\"],[0.1111111111111111,\"#46039f\"],[0.2222222222222222,\"#7201a8\"],[0.3333333333333333,\"#9c179e\"],[0.4444444444444444,\"#bd3786\"],[0.5555555555555556,\"#d8576b\"],[0.6666666666666666,\"#ed7953\"],[0.7777777777777778,\"#fb9f3a\"],[0.8888888888888888,\"#fdca26\"],[1.0,\"#f0f921\"]]}],\"heatmapgl\":[{\"type\":\"heatmapgl\",\"colorbar\":{\"outlinewidth\":0,\"ticks\":\"\"},\"colorscale\":[[0.0,\"#0d0887\"],[0.1111111111111111,\"#46039f\"],[0.2222222222222222,\"#7201a8\"],[0.3333333333333333,\"#9c179e\"],[0.4444444444444444,\"#bd3786\"],[0.5555555555555556,\"#d8576b\"],[0.6666666666666666,\"#ed7953\"],[0.7777777777777778,\"#fb9f3a\"],[0.8888888888888888,\"#fdca26\"],[1.0,\"#f0f921\"]]}],\"contourcarpet\":[{\"type\":\"contourcarpet\",\"colorbar\":{\"outlinewidth\":0,\"ticks\":\"\"}}],\"contour\":[{\"type\":\"contour\",\"colorbar\":{\"outlinewidth\":0,\"ticks\":\"\"},\"colorscale\":[[0.0,\"#0d0887\"],[0.1111111111111111,\"#46039f\"],[0.2222222222222222,\"#7201a8\"],[0.3333333333333333,\"#9c179e\"],[0.4444444444444444,\"#bd3786\"],[0.5555555555555556,\"#d8576b\"],[0.6666666666666666,\"#ed7953\"],[0.7777777777777778,\"#fb9f3a\"],[0.8888888888888888,\"#fdca26\"],[1.0,\"#f0f921\"]]}],\"surface\":[{\"type\":\"surface\",\"colorbar\":{\"outlinewidth\":0,\"ticks\":\"\"},\"colorscale\":[[0.0,\"#0d0887\"],[0.1111111111111111,\"#46039f\"],[0.2222222222222222,\"#7201a8\"],[0.3333333333333333,\"#9c179e\"],[0.4444444444444444,\"#bd3786\"],[0.5555555555555556,\"#d8576b\"],[0.6666666666666666,\"#ed7953\"],[0.7777777777777778,\"#fb9f3a\"],[0.8888888888888888,\"#fdca26\"],[1.0,\"#f0f921\"]]}],\"mesh3d\":[{\"type\":\"mesh3d\",\"colorbar\":{\"outlinewidth\":0,\"ticks\":\"\"}}],\"scatter\":[{\"fillpattern\":{\"fillmode\":\"overlay\",\"size\":10,\"solidity\":0.2},\"type\":\"scatter\"}],\"parcoords\":[{\"type\":\"parcoords\",\"line\":{\"colorbar\":{\"outlinewidth\":0,\"ticks\":\"\"}}}],\"scatterpolargl\":[{\"type\":\"scatterpolargl\",\"marker\":{\"colorbar\":{\"outlinewidth\":0,\"ticks\":\"\"}}}],\"bar\":[{\"error_x\":{\"color\":\"#2a3f5f\"},\"error_y\":{\"color\":\"#2a3f5f\"},\"marker\":{\"line\":{\"color\":\"#E5ECF6\",\"width\":0.5},\"pattern\":{\"fillmode\":\"overlay\",\"size\":10,\"solidity\":0.2}},\"type\":\"bar\"}],\"scattergeo\":[{\"type\":\"scattergeo\",\"marker\":{\"colorbar\":{\"outlinewidth\":0,\"ticks\":\"\"}}}],\"scatterpolar\":[{\"type\":\"scatterpolar\",\"marker\":{\"colorbar\":{\"outlinewidth\":0,\"ticks\":\"\"}}}],\"histogram\":[{\"marker\":{\"pattern\":{\"fillmode\":\"overlay\",\"size\":10,\"solidity\":0.2}},\"type\":\"histogram\"}],\"scattergl\":[{\"type\":\"scattergl\",\"marker\":{\"colorbar\":{\"outlinewidth\":0,\"ticks\":\"\"}}}],\"scatter3d\":[{\"type\":\"scatter3d\",\"line\":{\"colorbar\":{\"outlinewidth\":0,\"ticks\":\"\"}},\"marker\":{\"colorbar\":{\"outlinewidth\":0,\"ticks\":\"\"}}}],\"scattermapbox\":[{\"type\":\"scattermapbox\",\"marker\":{\"colorbar\":{\"outlinewidth\":0,\"ticks\":\"\"}}}],\"scatterternary\":[{\"type\":\"scatterternary\",\"marker\":{\"colorbar\":{\"outlinewidth\":0,\"ticks\":\"\"}}}],\"scattercarpet\":[{\"type\":\"scattercarpet\",\"marker\":{\"colorbar\":{\"outlinewidth\":0,\"ticks\":\"\"}}}],\"carpet\":[{\"aaxis\":{\"endlinecolor\":\"#2a3f5f\",\"gridcolor\":\"white\",\"linecolor\":\"white\",\"minorgridcolor\":\"white\",\"startlinecolor\":\"#2a3f5f\"},\"baxis\":{\"endlinecolor\":\"#2a3f5f\",\"gridcolor\":\"white\",\"linecolor\":\"white\",\"minorgridcolor\":\"white\",\"startlinecolor\":\"#2a3f5f\"},\"type\":\"carpet\"}],\"table\":[{\"cells\":{\"fill\":{\"color\":\"#EBF0F8\"},\"line\":{\"color\":\"white\"}},\"header\":{\"fill\":{\"color\":\"#C8D4E3\"},\"line\":{\"color\":\"white\"}},\"type\":\"table\"}],\"barpolar\":[{\"marker\":{\"line\":{\"color\":\"#E5ECF6\",\"width\":0.5},\"pattern\":{\"fillmode\":\"overlay\",\"size\":10,\"solidity\":0.2}},\"type\":\"barpolar\"}],\"pie\":[{\"automargin\":true,\"type\":\"pie\"}]},\"layout\":{\"autotypenumbers\":\"strict\",\"colorway\":[\"#636efa\",\"#EF553B\",\"#00cc96\",\"#ab63fa\",\"#FFA15A\",\"#19d3f3\",\"#FF6692\",\"#B6E880\",\"#FF97FF\",\"#FECB52\"],\"font\":{\"color\":\"#2a3f5f\"},\"hovermode\":\"closest\",\"hoverlabel\":{\"align\":\"left\"},\"paper_bgcolor\":\"white\",\"plot_bgcolor\":\"#E5ECF6\",\"polar\":{\"bgcolor\":\"#E5ECF6\",\"angularaxis\":{\"gridcolor\":\"white\",\"linecolor\":\"white\",\"ticks\":\"\"},\"radialaxis\":{\"gridcolor\":\"white\",\"linecolor\":\"white\",\"ticks\":\"\"}},\"ternary\":{\"bgcolor\":\"#E5ECF6\",\"aaxis\":{\"gridcolor\":\"white\",\"linecolor\":\"white\",\"ticks\":\"\"},\"baxis\":{\"gridcolor\":\"white\",\"linecolor\":\"white\",\"ticks\":\"\"},\"caxis\":{\"gridcolor\":\"white\",\"linecolor\":\"white\",\"ticks\":\"\"}},\"coloraxis\":{\"colorbar\":{\"outlinewidth\":0,\"ticks\":\"\"}},\"colorscale\":{\"sequential\":[[0.0,\"#0d0887\"],[0.1111111111111111,\"#46039f\"],[0.2222222222222222,\"#7201a8\"],[0.3333333333333333,\"#9c179e\"],[0.4444444444444444,\"#bd3786\"],[0.5555555555555556,\"#d8576b\"],[0.6666666666666666,\"#ed7953\"],[0.7777777777777778,\"#fb9f3a\"],[0.8888888888888888,\"#fdca26\"],[1.0,\"#f0f921\"]],\"sequentialminus\":[[0.0,\"#0d0887\"],[0.1111111111111111,\"#46039f\"],[0.2222222222222222,\"#7201a8\"],[0.3333333333333333,\"#9c179e\"],[0.4444444444444444,\"#bd3786\"],[0.5555555555555556,\"#d8576b\"],[0.6666666666666666,\"#ed7953\"],[0.7777777777777778,\"#fb9f3a\"],[0.8888888888888888,\"#fdca26\"],[1.0,\"#f0f921\"]],\"diverging\":[[0,\"#8e0152\"],[0.1,\"#c51b7d\"],[0.2,\"#de77ae\"],[0.3,\"#f1b6da\"],[0.4,\"#fde0ef\"],[0.5,\"#f7f7f7\"],[0.6,\"#e6f5d0\"],[0.7,\"#b8e186\"],[0.8,\"#7fbc41\"],[0.9,\"#4d9221\"],[1,\"#276419\"]]},\"xaxis\":{\"gridcolor\":\"white\",\"linecolor\":\"white\",\"ticks\":\"\",\"title\":{\"standoff\":15},\"zerolinecolor\":\"white\",\"automargin\":true,\"zerolinewidth\":2},\"yaxis\":{\"gridcolor\":\"white\",\"linecolor\":\"white\",\"ticks\":\"\",\"title\":{\"standoff\":15},\"zerolinecolor\":\"white\",\"automargin\":true,\"zerolinewidth\":2},\"scene\":{\"xaxis\":{\"backgroundcolor\":\"#E5ECF6\",\"gridcolor\":\"white\",\"linecolor\":\"white\",\"showbackground\":true,\"ticks\":\"\",\"zerolinecolor\":\"white\",\"gridwidth\":2},\"yaxis\":{\"backgroundcolor\":\"#E5ECF6\",\"gridcolor\":\"white\",\"linecolor\":\"white\",\"showbackground\":true,\"ticks\":\"\",\"zerolinecolor\":\"white\",\"gridwidth\":2},\"zaxis\":{\"backgroundcolor\":\"#E5ECF6\",\"gridcolor\":\"white\",\"linecolor\":\"white\",\"showbackground\":true,\"ticks\":\"\",\"zerolinecolor\":\"white\",\"gridwidth\":2}},\"shapedefaults\":{\"line\":{\"color\":\"#2a3f5f\"}},\"annotationdefaults\":{\"arrowcolor\":\"#2a3f5f\",\"arrowhead\":0,\"arrowwidth\":1},\"geo\":{\"bgcolor\":\"white\",\"landcolor\":\"#E5ECF6\",\"subunitcolor\":\"white\",\"showland\":true,\"showlakes\":true,\"lakecolor\":\"white\"},\"title\":{\"x\":0.05},\"mapbox\":{\"style\":\"light\"}}},\"xaxis\":{\"anchor\":\"y\",\"domain\":[0.0,1.0],\"title\":{\"text\":\"club\"}},\"yaxis\":{\"anchor\":\"x\",\"domain\":[0.0,1.0],\"title\":{\"text\":\"count\"}},\"legend\":{\"title\":{\"text\":\"position\"},\"tracegroupgap\":0},\"title\":{\"text\":\"Qtde dos Jogadores por Posi\\u00e7\\u00e3o\"},\"barmode\":\"relative\"},                        {\"responsive\": true}                    ).then(function(){\n",
       "                            \n",
       "var gd = document.getElementById('8050dab9-9365-4848-9168-db92f069e066');\n",
       "var x = new MutationObserver(function (mutations, observer) {{\n",
       "        var display = window.getComputedStyle(gd).display;\n",
       "        if (!display || display === 'none') {{\n",
       "            console.log([gd, 'removed!']);\n",
       "            Plotly.purge(gd);\n",
       "            observer.disconnect();\n",
       "        }}\n",
       "}});\n",
       "\n",
       "// Listen for the removal of the full notebook cells\n",
       "var notebookContainer = gd.closest('#notebook-container');\n",
       "if (notebookContainer) {{\n",
       "    x.observe(notebookContainer, {childList: true});\n",
       "}}\n",
       "\n",
       "// Listen for the clearing of the current output cell\n",
       "var outputEl = gd.closest('.output');\n",
       "if (outputEl) {{\n",
       "    x.observe(outputEl, {childList: true});\n",
       "}}\n",
       "\n",
       "                        })                };                });            </script>        </div>"
      ]
     },
     "metadata": {},
     "output_type": "display_data"
    }
   ],
   "source": [
    "px.histogram(df, x='club', color='position', title='Qtde dos Jogadores por Posição')"
   ]
  },
  {
   "cell_type": "code",
   "execution_count": 11,
   "id": "001f6b9c-de27-4c52-84db-84395a993a0d",
   "metadata": {},
   "outputs": [
    {
     "name": "stdout",
     "output_type": "stream",
     "text": [
      "Top 10 Jogadores Mais Valiosos da Liga\n",
      "                   name           club  price\n",
      "47      Jude Bellingham  Bor. Dortmund  120.0\n",
      "17        Jamal Musiala  Bayern Munich  110.0\n",
      "106       Florian Wirtz  B. Leverkusen   85.0\n",
      "83   Christopher Nkunku     RB Leipzig   80.0\n",
      "14       Joshua Kimmich  Bayern Munich   80.0\n",
      "66       Josko Gvardiol     RB Leipzig   75.0\n",
      "4      Matthijs de Ligt  Bayern Munich   75.0\n",
      "22           Leroy Sané  Bayern Munich   70.0\n",
      "7       Alphonso Davies  Bayern Munich   70.0\n",
      "140   Randal Kolo Muani   E. Frankfurt   65.0\n"
     ]
    }
   ],
   "source": [
    "# Top 10 Jogadores mais Valiosos\n",
    "top_10_players = df[['name', 'club', 'price']].sort_values(by='price', ascending=False).head(10)\n",
    "print(\"Top 10 Jogadores Mais Valiosos da Liga\")\n",
    "print(top_10_players)"
   ]
  },
  {
   "cell_type": "code",
   "execution_count": 13,
   "id": "9471bbf6-c609-49b5-904c-63c9f977d11c",
   "metadata": {},
   "outputs": [
    {
     "data": {
      "image/png": "[encoded data removed]",
      "text/plain": [
       "<Figure size 1008x504 with 1 Axes>"
      ]
     },
     "metadata": {
      "needs_background": "light"
     },
     "output_type": "display_data"
    }
   ],
   "source": [
    "plt.figure(figsize=(14,7))\n",
    "sns.barplot(x='price', y='name', data=top_10_players, palette='viridis')\n",
    "plt.title('Top 10 Jogadores Mais Valiosos da Liga')\n",
    "plt.xlabel('Valor de Mercado (Milhões)')\n",
    "plt.ylabel('Nome Jogador')\n",
    "plt.tight_layout()\n",
    "plt.show()"
   ]
  },
  {
   "cell_type": "code",
   "execution_count": 15,
   "id": "29cca81b-f165-41bb-a1c2-f537d9dce79e",
   "metadata": {},
   "outputs": [
    {
     "name": "stdout",
     "output_type": "stream",
     "text": [
      "\n",
      "Clubes Mais Valiosos da Liga: \n",
      "club\n",
      "Bayern Munich      36.285185\n",
      "RB Leipzig         20.287500\n",
      "Bor. Dortmund      18.193333\n",
      "B. Leverkusen      15.624074\n",
      "E. Frankfurt       10.153448\n",
      "Bor. M'gladbach     8.576923\n",
      "VfL Wolfsburg       8.028000\n",
      "SC Freiburg         6.226923\n",
      "TSG Hoffenheim      4.988710\n",
      "Union Berlin        4.670370\n",
      "1.FSV Mainz 05      4.211111\n",
      "VfB Stuttgart       3.998276\n",
      "FC Augsburg         3.779032\n",
      "1.FC Köln           3.723148\n",
      "Hertha BSC          3.383333\n",
      "Werder Bremen       3.337500\n",
      "FC Schalke 04       1.935484\n",
      "VfL Bochum          1.705357\n",
      "Hertha BSC II       0.750000\n",
      "B. Dortmund II      0.633333\n",
      "W. Bremen U19       0.300000\n",
      "Hertha BSC U19      0.250000\n",
      "RB Leipzig U19      0.200000\n",
      "RB Leipzig U17      0.200000\n",
      "1.FC Köln II        0.180000\n",
      "W. Bremen II        0.150000\n",
      "1.FC Köln U19            NaN\n",
      "FC Augsburg U19          NaN\n",
      "Name: price, dtype: float64\n"
     ]
    }
   ],
   "source": [
    "# Clubes mais Valiosos da Liga\n",
    "avg_club_value = df.groupby('club')['price'].mean().sort_values(ascending=False)\n",
    "print(\"\\nClubes Mais Valiosos da Liga: \")\n",
    "print(avg_club_value)"
   ]
  },
  {
   "cell_type": "code",
   "execution_count": 16,
   "id": "00fcde9b-be87-4bd6-b8e0-396f37106429",
   "metadata": {},
   "outputs": [
    {
     "data": {
      "image/png": "[encoded data removed]",
      "text/plain": [
       "<Figure size 1008x504 with 1 Axes>"
      ]
     },
     "metadata": {
      "needs_background": "light"
     },
     "output_type": "display_data"
    }
   ],
   "source": [
    "plt.figure(figsize=(14,7))\n",
    "avg_club_value.sort_values().plot(kind='barh', color='skyblue')\n",
    "plt.title('Clubes Mais Valiosos da Liga')\n",
    "plt.xlabel('Valor no Mercado (Milhões)')\n",
    "plt.ylabel('Nome do Clube')\n",
    "plt.tight_layout()\n",
    "plt.show()"
   ]
  }
 ],
 "metadata": {
  "kernelspec": {
   "display_name": "Python 3",
   "language": "python",
   "name": "python3"
  },
  "language_info": {
   "codemirror_mode": {
    "name": "ipython",
    "version": 3
   },
   "file_extension": ".py",
   "mimetype": "text/x-python",
   "name": "python",
   "nbconvert_exporter": "python",
   "pygments_lexer": "ipython3",
   "version": "3.8.8"
  }
 },
 "nbformat": 4,
 "nbformat_minor": 5
}
