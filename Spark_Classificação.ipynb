{
  "nbformat": 4,
  "nbformat_minor": 0,
  "metadata": {
    "colab": {
      "provenance": [],
      "authorship_tag": "ABX9TyMjN8bLrDE3IF3yq+PagHTD",
      "include_colab_link": true
    },
    "kernelspec": {
      "name": "python3",
      "display_name": "Python 3"
    },
    "language_info": {
      "name": "python"
    }
  },
  "cells": [
    {
      "cell_type": "markdown",
      "metadata": {
        "id": "view-in-github",
        "colab_type": "text"
      },
      "source": [
        "<a href=\"https://colab.research.google.com/github/EB28/DataScience/blob/main/Spark_Classifica%C3%A7%C3%A3o.ipynb\" target=\"_parent\"><img src=\"https://colab.research.google.com/assets/colab-badge.svg\" alt=\"Open In Colab\"/></a>"
      ]
    },
    {
      "cell_type": "code",
      "execution_count": 1,
      "metadata": {
        "id": "DAYtJMJ26wxU"
      },
      "outputs": [],
      "source": [
        "!apt-get install -y openjdk-8-jdk-headless -qq > /dev/null"
      ]
    },
    {
      "cell_type": "code",
      "source": [
        "!java -version"
      ],
      "metadata": {
        "colab": {
          "base_uri": "https://localhost:8080/"
        },
        "id": "PN-ve_6I60pw",
        "outputId": "da43d420-8efe-4d7d-9c8e-2282fbc2f077"
      },
      "execution_count": 2,
      "outputs": [
        {
          "output_type": "stream",
          "name": "stdout",
          "text": [
            "openjdk version \"11.0.18\" 2023-01-17\n",
            "OpenJDK Runtime Environment (build 11.0.18+10-post-Ubuntu-0ubuntu120.04.1)\n",
            "OpenJDK 64-Bit Server VM (build 11.0.18+10-post-Ubuntu-0ubuntu120.04.1, mixed mode, sharing)\n"
          ]
        }
      ]
    },
    {
      "cell_type": "code",
      "source": [
        "pip install findspark"
      ],
      "metadata": {
        "colab": {
          "base_uri": "https://localhost:8080/"
        },
        "id": "Lkuv1CKa60sZ",
        "outputId": "e101fbd4-6a26-4563-8050-aa7dbc254570"
      },
      "execution_count": 3,
      "outputs": [
        {
          "output_type": "stream",
          "name": "stdout",
          "text": [
            "Looking in indexes: https://pypi.org/simple, https://us-python.pkg.dev/colab-wheels/public/simple/\n",
            "Collecting findspark\n",
            "  Downloading findspark-2.0.1-py2.py3-none-any.whl (4.4 kB)\n",
            "Installing collected packages: findspark\n",
            "Successfully installed findspark-2.0.1\n"
          ]
        }
      ]
    },
    {
      "cell_type": "code",
      "source": [
        "pip install pyspark"
      ],
      "metadata": {
        "colab": {
          "base_uri": "https://localhost:8080/"
        },
        "id": "-QMeYxpK60vL",
        "outputId": "f09bbe5e-df2b-40cc-b731-eb3ca7204074"
      },
      "execution_count": 4,
      "outputs": [
        {
          "output_type": "stream",
          "name": "stdout",
          "text": [
            "Looking in indexes: https://pypi.org/simple, https://us-python.pkg.dev/colab-wheels/public/simple/\n",
            "Collecting pyspark\n",
            "  Downloading pyspark-3.4.0.tar.gz (310.8 MB)\n",
            "\u001b[2K     \u001b[90m━━━━━━━━━━━━━━━━━━━━━━━━━━━━━━━━━━━━━━━\u001b[0m \u001b[32m310.8/310.8 MB\u001b[0m \u001b[31m3.8 MB/s\u001b[0m eta \u001b[36m0:00:00\u001b[0m\n",
            "\u001b[?25h  Preparing metadata (setup.py) ... \u001b[?25l\u001b[?25hdone\n",
            "Requirement already satisfied: py4j==0.10.9.7 in /usr/local/lib/python3.9/dist-packages (from pyspark) (0.10.9.7)\n",
            "Building wheels for collected packages: pyspark\n",
            "  Building wheel for pyspark (setup.py) ... \u001b[?25l\u001b[?25hdone\n",
            "  Created wheel for pyspark: filename=pyspark-3.4.0-py2.py3-none-any.whl size=311317145 sha256=f616700627327cd812720813610bdcc93aabed7a7436453a3351fdfae3844d34\n",
            "  Stored in directory: /root/.cache/pip/wheels/9f/34/a4/159aa12d0a510d5ff7c8f0220abbea42e5d81ecf588c4fd884\n",
            "Successfully built pyspark\n",
            "Installing collected packages: pyspark\n",
            "Successfully installed pyspark-3.4.0\n"
          ]
        }
      ]
    },
    {
      "cell_type": "code",
      "source": [
        "from pyspark.sql import SparkSession\n",
        "\n",
        "spark = SparkSession.builder \\\n",
        "  .master('local[*]') \\\n",
        "  .appName(\"Classificação com Spark\") \\\n",
        "  .getOrCreate()\n",
        "spark"
      ],
      "metadata": {
        "colab": {
          "base_uri": "https://localhost:8080/",
          "height": 222
        },
        "id": "Pba9Lati60x-",
        "outputId": "dc10f20c-0dfc-4099-fce3-7987ad9bb474"
      },
      "execution_count": 5,
      "outputs": [
        {
          "output_type": "execute_result",
          "data": {
            "text/plain": [
              "<pyspark.sql.session.SparkSession at 0x7fe7a594c4c0>"
            ],
            "text/html": [
              "\n",
              "            <div>\n",
              "                <p><b>SparkSession - in-memory</b></p>\n",
              "                \n",
              "        <div>\n",
              "            <p><b>SparkContext</b></p>\n",
              "\n",
              "            <p><a href=\"http://c082bea9e8d1:4040\">Spark UI</a></p>\n",
              "\n",
              "            <dl>\n",
              "              <dt>Version</dt>\n",
              "                <dd><code>v3.4.0</code></dd>\n",
              "              <dt>Master</dt>\n",
              "                <dd><code>local[*]</code></dd>\n",
              "              <dt>AppName</dt>\n",
              "                <dd><code>Classificação com Spark</code></dd>\n",
              "            </dl>\n",
              "        </div>\n",
              "        \n",
              "            </div>\n",
              "        "
            ]
          },
          "metadata": {},
          "execution_count": 5
        }
      ]
    },
    {
      "cell_type": "code",
      "source": [
        "dados = spark.read.csv('dados_clientes.csv', sep=',', header=True, inferSchema=True)"
      ],
      "metadata": {
        "id": "e5fPOuEa600l"
      },
      "execution_count": 7,
      "outputs": []
    },
    {
      "cell_type": "code",
      "source": [
        "dados"
      ],
      "metadata": {
        "colab": {
          "base_uri": "https://localhost:8080/"
        },
        "id": "SeqhuL-2603E",
        "outputId": "e63d1ca6-9eac-41b5-f96c-ea662a2c38cd"
      },
      "execution_count": 8,
      "outputs": [
        {
          "output_type": "execute_result",
          "data": {
            "text/plain": [
              "DataFrame[id: int, Churn: string, Mais65anos: int, Conjuge: string, Dependentes: string, MesesDeContrato: int, TelefoneFixo: string, MaisDeUmaLinhaTelefonica: string, Internet: string, SegurancaOnline: string, BackupOnline: string, SeguroDispositivo: string, SuporteTecnico: string, TVaCabo: string, StreamingFilmes: string, TipoContrato: string, ContaCorreio: string, MetodoPagamento: string, MesesCobrados: double]"
            ]
          },
          "metadata": {},
          "execution_count": 8
        }
      ]
    },
    {
      "cell_type": "code",
      "source": [
        "dados.show()"
      ],
      "metadata": {
        "colab": {
          "base_uri": "https://localhost:8080/"
        },
        "id": "8ZeBZsqG6056",
        "outputId": "efed4d78-7799-415a-a7bd-17a109dc9685"
      },
      "execution_count": 9,
      "outputs": [
        {
          "output_type": "stream",
          "name": "stdout",
          "text": [
            "+---+-----+----------+-------+-----------+---------------+------------+------------------------+-----------+------------------+------------------+------------------+------------------+------------------+------------------+------------+------------+----------------+-------------+\n",
            "| id|Churn|Mais65anos|Conjuge|Dependentes|MesesDeContrato|TelefoneFixo|MaisDeUmaLinhaTelefonica|   Internet|   SegurancaOnline|      BackupOnline| SeguroDispositivo|    SuporteTecnico|           TVaCabo|   StreamingFilmes|TipoContrato|ContaCorreio| MetodoPagamento|MesesCobrados|\n",
            "+---+-----+----------+-------+-----------+---------------+------------+------------------------+-----------+------------------+------------------+------------------+------------------+------------------+------------------+------------+------------+----------------+-------------+\n",
            "|  0|  Nao|         0|    Sim|        Nao|              1|         Nao|    SemServicoTelefonico|        DSL|               Nao|               Sim|               Nao|               Nao|               Nao|               Nao| Mensalmente|         Sim|BoletoEletronico|        29.85|\n",
            "|  1|  Nao|         0|    Nao|        Nao|             34|         Sim|                     Nao|        DSL|               Sim|               Nao|               Sim|               Nao|               Nao|               Nao|       UmAno|         Nao|          Boleto|        56.95|\n",
            "|  2|  Sim|         0|    Nao|        Nao|              2|         Sim|                     Nao|        DSL|               Sim|               Sim|               Nao|               Nao|               Nao|               Nao| Mensalmente|         Sim|          Boleto|        53.85|\n",
            "|  3|  Nao|         0|    Nao|        Nao|             45|         Nao|    SemServicoTelefonico|        DSL|               Sim|               Nao|               Sim|               Sim|               Nao|               Nao|       UmAno|         Nao|   DebitoEmConta|         42.3|\n",
            "|  4|  Sim|         0|    Nao|        Nao|              2|         Sim|                     Nao|FibraOptica|               Nao|               Nao|               Nao|               Nao|               Nao|               Nao| Mensalmente|         Sim|BoletoEletronico|         70.7|\n",
            "|  5|  Sim|         0|    Nao|        Nao|              8|         Sim|                     Sim|FibraOptica|               Nao|               Nao|               Sim|               Nao|               Sim|               Sim| Mensalmente|         Sim|BoletoEletronico|        99.65|\n",
            "|  6|  Nao|         0|    Nao|        Sim|             22|         Sim|                     Sim|FibraOptica|               Nao|               Sim|               Nao|               Nao|               Sim|               Nao| Mensalmente|         Sim|   CartaoCredito|         89.1|\n",
            "|  7|  Nao|         0|    Nao|        Nao|             10|         Nao|    SemServicoTelefonico|        DSL|               Sim|               Nao|               Nao|               Nao|               Nao|               Nao| Mensalmente|         Nao|          Boleto|        29.75|\n",
            "|  8|  Sim|         0|    Sim|        Nao|             28|         Sim|                     Sim|FibraOptica|               Nao|               Nao|               Sim|               Sim|               Sim|               Sim| Mensalmente|         Sim|BoletoEletronico|        104.8|\n",
            "|  9|  Nao|         0|    Nao|        Sim|             62|         Sim|                     Nao|        DSL|               Sim|               Sim|               Nao|               Nao|               Nao|               Nao|       UmAno|         Nao|   DebitoEmConta|        56.15|\n",
            "| 10|  Nao|         0|    Sim|        Sim|             13|         Sim|                     Nao|        DSL|               Sim|               Nao|               Nao|               Nao|               Nao|               Nao| Mensalmente|         Sim|          Boleto|        49.95|\n",
            "| 11|  Nao|         0|    Nao|        Nao|             16|         Sim|                     Nao|        Nao|SemServicoInternet|SemServicoInternet|SemServicoInternet|SemServicoInternet|SemServicoInternet|SemServicoInternet|    DoisAnos|         Nao|   CartaoCredito|        18.95|\n",
            "| 12|  Nao|         0|    Sim|        Nao|             58|         Sim|                     Sim|FibraOptica|               Nao|               Nao|               Sim|               Nao|               Sim|               Sim|       UmAno|         Nao|   CartaoCredito|       100.35|\n",
            "| 13|  Sim|         0|    Nao|        Nao|             49|         Sim|                     Sim|FibraOptica|               Nao|               Sim|               Sim|               Nao|               Sim|               Sim| Mensalmente|         Sim|   DebitoEmConta|        103.7|\n",
            "| 14|  Nao|         0|    Nao|        Nao|             25|         Sim|                     Nao|FibraOptica|               Sim|               Nao|               Sim|               Sim|               Sim|               Sim| Mensalmente|         Sim|BoletoEletronico|        105.5|\n",
            "| 15|  Nao|         0|    Sim|        Sim|             69|         Sim|                     Sim|FibraOptica|               Sim|               Sim|               Sim|               Sim|               Sim|               Sim|    DoisAnos|         Nao|   CartaoCredito|       113.25|\n",
            "| 16|  Nao|         0|    Nao|        Nao|             52|         Sim|                     Nao|        Nao|SemServicoInternet|SemServicoInternet|SemServicoInternet|SemServicoInternet|SemServicoInternet|SemServicoInternet|       UmAno|         Nao|          Boleto|        20.65|\n",
            "| 17|  Nao|         0|    Nao|        Sim|             71|         Sim|                     Sim|FibraOptica|               Sim|               Nao|               Sim|               Nao|               Sim|               Sim|    DoisAnos|         Nao|   DebitoEmConta|        106.7|\n",
            "| 18|  Sim|         0|    Sim|        Sim|             10|         Sim|                     Nao|        DSL|               Nao|               Nao|               Sim|               Sim|               Nao|               Nao| Mensalmente|         Nao|   CartaoCredito|         55.2|\n",
            "| 19|  Nao|         0|    Nao|        Nao|             21|         Sim|                     Nao|FibraOptica|               Nao|               Sim|               Sim|               Nao|               Nao|               Sim| Mensalmente|         Sim|BoletoEletronico|        90.05|\n",
            "+---+-----+----------+-------+-----------+---------------+------------+------------------------+-----------+------------------+------------------+------------------+------------------+------------------+------------------+------------+------------+----------------+-------------+\n",
            "only showing top 20 rows\n",
            "\n"
          ]
        }
      ]
    },
    {
      "cell_type": "code",
      "source": [
        "dados.count()"
      ],
      "metadata": {
        "colab": {
          "base_uri": "https://localhost:8080/"
        },
        "id": "FhZBha7G608f",
        "outputId": "26962168-cbbd-423e-8377-a70e184bad0e"
      },
      "execution_count": 10,
      "outputs": [
        {
          "output_type": "execute_result",
          "data": {
            "text/plain": [
              "10348"
            ]
          },
          "metadata": {},
          "execution_count": 10
        }
      ]
    },
    {
      "cell_type": "code",
      "source": [
        "dados.groupBy('Churn').count().show()"
      ],
      "metadata": {
        "colab": {
          "base_uri": "https://localhost:8080/"
        },
        "id": "A8qEaicn8gEG",
        "outputId": "631c215d-10ad-480b-e432-8e48b0eef0c7"
      },
      "execution_count": 11,
      "outputs": [
        {
          "output_type": "stream",
          "name": "stdout",
          "text": [
            "+-----+-----+\n",
            "|Churn|count|\n",
            "+-----+-----+\n",
            "|  Sim| 5174|\n",
            "|  Nao| 5174|\n",
            "+-----+-----+\n",
            "\n"
          ]
        }
      ]
    },
    {
      "cell_type": "code",
      "source": [
        "dados.printSchema()"
      ],
      "metadata": {
        "colab": {
          "base_uri": "https://localhost:8080/"
        },
        "id": "JCcyGvb98gJK",
        "outputId": "9b57c05b-0e37-426a-e97a-66976d2433a8"
      },
      "execution_count": 12,
      "outputs": [
        {
          "output_type": "stream",
          "name": "stdout",
          "text": [
            "root\n",
            " |-- id: integer (nullable = true)\n",
            " |-- Churn: string (nullable = true)\n",
            " |-- Mais65anos: integer (nullable = true)\n",
            " |-- Conjuge: string (nullable = true)\n",
            " |-- Dependentes: string (nullable = true)\n",
            " |-- MesesDeContrato: integer (nullable = true)\n",
            " |-- TelefoneFixo: string (nullable = true)\n",
            " |-- MaisDeUmaLinhaTelefonica: string (nullable = true)\n",
            " |-- Internet: string (nullable = true)\n",
            " |-- SegurancaOnline: string (nullable = true)\n",
            " |-- BackupOnline: string (nullable = true)\n",
            " |-- SeguroDispositivo: string (nullable = true)\n",
            " |-- SuporteTecnico: string (nullable = true)\n",
            " |-- TVaCabo: string (nullable = true)\n",
            " |-- StreamingFilmes: string (nullable = true)\n",
            " |-- TipoContrato: string (nullable = true)\n",
            " |-- ContaCorreio: string (nullable = true)\n",
            " |-- MetodoPagamento: string (nullable = true)\n",
            " |-- MesesCobrados: double (nullable = true)\n",
            "\n"
          ]
        }
      ]
    },
    {
      "cell_type": "code",
      "source": [
        "colunasBinarias = [\n",
        "    'Churn',\n",
        "    'Conjuge',\n",
        "    'Dependentes',\n",
        "    'TelefoneFixo',\n",
        "    'MaisDeUmaLinhaTelefonica',\n",
        "    'SegurancaOnline',\n",
        "    'BackupOnline',\n",
        "    'SeguroDispositivo',\n",
        "    'SuporteTecnico',\n",
        "    'TVaCabo',\n",
        "    'StreamingFilmes',\n",
        "    'ContaCorreio'\n",
        "]"
      ],
      "metadata": {
        "id": "bm5YrgA_8gL8"
      },
      "execution_count": 13,
      "outputs": []
    },
    {
      "cell_type": "code",
      "source": [
        "from pyspark.sql import functions as f"
      ],
      "metadata": {
        "id": "sHNZ-mm2Ol3o"
      },
      "execution_count": 14,
      "outputs": []
    },
    {
      "cell_type": "code",
      "source": [
        "todasColunas = [f.when(f.col(c)=='Sim', 1).otherwise(0).alias(c) for c in colunasBinarias]"
      ],
      "metadata": {
        "id": "UK35GYcN8gOy"
      },
      "execution_count": 15,
      "outputs": []
    },
    {
      "cell_type": "code",
      "source": [
        "for coluna in reversed(dados.columns):\n",
        "  if coluna not in colunasBinarias:\n",
        "    todasColunas.insert(0, coluna)\n",
        "todasColunas"
      ],
      "metadata": {
        "colab": {
          "base_uri": "https://localhost:8080/"
        },
        "id": "Ger28DD18gRp",
        "outputId": "ba46bc8f-4ffd-403d-f529-ae93e8960d28"
      },
      "execution_count": 16,
      "outputs": [
        {
          "output_type": "execute_result",
          "data": {
            "text/plain": [
              "['id',\n",
              " 'Mais65anos',\n",
              " 'MesesDeContrato',\n",
              " 'Internet',\n",
              " 'TipoContrato',\n",
              " 'MetodoPagamento',\n",
              " 'MesesCobrados',\n",
              " Column<'CASE WHEN (Churn = Sim) THEN 1 ELSE 0 END AS Churn'>,\n",
              " Column<'CASE WHEN (Conjuge = Sim) THEN 1 ELSE 0 END AS Conjuge'>,\n",
              " Column<'CASE WHEN (Dependentes = Sim) THEN 1 ELSE 0 END AS Dependentes'>,\n",
              " Column<'CASE WHEN (TelefoneFixo = Sim) THEN 1 ELSE 0 END AS TelefoneFixo'>,\n",
              " Column<'CASE WHEN (MaisDeUmaLinhaTelefonica = Sim) THEN 1 ELSE 0 END AS MaisDeUmaLinhaTelefonica'>,\n",
              " Column<'CASE WHEN (SegurancaOnline = Sim) THEN 1 ELSE 0 END AS SegurancaOnline'>,\n",
              " Column<'CASE WHEN (BackupOnline = Sim) THEN 1 ELSE 0 END AS BackupOnline'>,\n",
              " Column<'CASE WHEN (SeguroDispositivo = Sim) THEN 1 ELSE 0 END AS SeguroDispositivo'>,\n",
              " Column<'CASE WHEN (SuporteTecnico = Sim) THEN 1 ELSE 0 END AS SuporteTecnico'>,\n",
              " Column<'CASE WHEN (TVaCabo = Sim) THEN 1 ELSE 0 END AS TVaCabo'>,\n",
              " Column<'CASE WHEN (StreamingFilmes = Sim) THEN 1 ELSE 0 END AS StreamingFilmes'>,\n",
              " Column<'CASE WHEN (ContaCorreio = Sim) THEN 1 ELSE 0 END AS ContaCorreio'>]"
            ]
          },
          "metadata": {},
          "execution_count": 16
        }
      ]
    },
    {
      "cell_type": "code",
      "source": [
        " dados.select(todasColunas).show()"
      ],
      "metadata": {
        "colab": {
          "base_uri": "https://localhost:8080/"
        },
        "id": "-LG7tJk28gUs",
        "outputId": "96f74a13-5317-4466-a8e9-3b04c1995f6c"
      },
      "execution_count": 17,
      "outputs": [
        {
          "output_type": "stream",
          "name": "stdout",
          "text": [
            "+---+----------+---------------+-----------+------------+----------------+-------------+-----+-------+-----------+------------+------------------------+---------------+------------+-----------------+--------------+-------+---------------+------------+\n",
            "| id|Mais65anos|MesesDeContrato|   Internet|TipoContrato| MetodoPagamento|MesesCobrados|Churn|Conjuge|Dependentes|TelefoneFixo|MaisDeUmaLinhaTelefonica|SegurancaOnline|BackupOnline|SeguroDispositivo|SuporteTecnico|TVaCabo|StreamingFilmes|ContaCorreio|\n",
            "+---+----------+---------------+-----------+------------+----------------+-------------+-----+-------+-----------+------------+------------------------+---------------+------------+-----------------+--------------+-------+---------------+------------+\n",
            "|  0|         0|              1|        DSL| Mensalmente|BoletoEletronico|        29.85|    0|      1|          0|           0|                       0|              0|           1|                0|             0|      0|              0|           1|\n",
            "|  1|         0|             34|        DSL|       UmAno|          Boleto|        56.95|    0|      0|          0|           1|                       0|              1|           0|                1|             0|      0|              0|           0|\n",
            "|  2|         0|              2|        DSL| Mensalmente|          Boleto|        53.85|    1|      0|          0|           1|                       0|              1|           1|                0|             0|      0|              0|           1|\n",
            "|  3|         0|             45|        DSL|       UmAno|   DebitoEmConta|         42.3|    0|      0|          0|           0|                       0|              1|           0|                1|             1|      0|              0|           0|\n",
            "|  4|         0|              2|FibraOptica| Mensalmente|BoletoEletronico|         70.7|    1|      0|          0|           1|                       0|              0|           0|                0|             0|      0|              0|           1|\n",
            "|  5|         0|              8|FibraOptica| Mensalmente|BoletoEletronico|        99.65|    1|      0|          0|           1|                       1|              0|           0|                1|             0|      1|              1|           1|\n",
            "|  6|         0|             22|FibraOptica| Mensalmente|   CartaoCredito|         89.1|    0|      0|          1|           1|                       1|              0|           1|                0|             0|      1|              0|           1|\n",
            "|  7|         0|             10|        DSL| Mensalmente|          Boleto|        29.75|    0|      0|          0|           0|                       0|              1|           0|                0|             0|      0|              0|           0|\n",
            "|  8|         0|             28|FibraOptica| Mensalmente|BoletoEletronico|        104.8|    1|      1|          0|           1|                       1|              0|           0|                1|             1|      1|              1|           1|\n",
            "|  9|         0|             62|        DSL|       UmAno|   DebitoEmConta|        56.15|    0|      0|          1|           1|                       0|              1|           1|                0|             0|      0|              0|           0|\n",
            "| 10|         0|             13|        DSL| Mensalmente|          Boleto|        49.95|    0|      1|          1|           1|                       0|              1|           0|                0|             0|      0|              0|           1|\n",
            "| 11|         0|             16|        Nao|    DoisAnos|   CartaoCredito|        18.95|    0|      0|          0|           1|                       0|              0|           0|                0|             0|      0|              0|           0|\n",
            "| 12|         0|             58|FibraOptica|       UmAno|   CartaoCredito|       100.35|    0|      1|          0|           1|                       1|              0|           0|                1|             0|      1|              1|           0|\n",
            "| 13|         0|             49|FibraOptica| Mensalmente|   DebitoEmConta|        103.7|    1|      0|          0|           1|                       1|              0|           1|                1|             0|      1|              1|           1|\n",
            "| 14|         0|             25|FibraOptica| Mensalmente|BoletoEletronico|        105.5|    0|      0|          0|           1|                       0|              1|           0|                1|             1|      1|              1|           1|\n",
            "| 15|         0|             69|FibraOptica|    DoisAnos|   CartaoCredito|       113.25|    0|      1|          1|           1|                       1|              1|           1|                1|             1|      1|              1|           0|\n",
            "| 16|         0|             52|        Nao|       UmAno|          Boleto|        20.65|    0|      0|          0|           1|                       0|              0|           0|                0|             0|      0|              0|           0|\n",
            "| 17|         0|             71|FibraOptica|    DoisAnos|   DebitoEmConta|        106.7|    0|      0|          1|           1|                       1|              1|           0|                1|             0|      1|              1|           0|\n",
            "| 18|         0|             10|        DSL| Mensalmente|   CartaoCredito|         55.2|    1|      1|          1|           1|                       0|              0|           0|                1|             1|      0|              0|           0|\n",
            "| 19|         0|             21|FibraOptica| Mensalmente|BoletoEletronico|        90.05|    0|      0|          0|           1|                       0|              0|           1|                1|             0|      0|              1|           1|\n",
            "+---+----------+---------------+-----------+------------+----------------+-------------+-----+-------+-----------+------------+------------------------+---------------+------------+-----------------+--------------+-------+---------------+------------+\n",
            "only showing top 20 rows\n",
            "\n"
          ]
        }
      ]
    },
    {
      "cell_type": "code",
      "source": [
        "dataset = dados.select(todasColunas)"
      ],
      "metadata": {
        "id": "7iS6DcVS8gXi"
      },
      "execution_count": 18,
      "outputs": []
    },
    {
      "cell_type": "code",
      "source": [
        "dados.select(['Internet', 'TipoContrato', 'MetodoPagamento']).show()"
      ],
      "metadata": {
        "colab": {
          "base_uri": "https://localhost:8080/"
        },
        "id": "lJ63GUdt60_a",
        "outputId": "a1896a55-8276-4dff-c369-d79a51d7b513"
      },
      "execution_count": 19,
      "outputs": [
        {
          "output_type": "stream",
          "name": "stdout",
          "text": [
            "+-----------+------------+----------------+\n",
            "|   Internet|TipoContrato| MetodoPagamento|\n",
            "+-----------+------------+----------------+\n",
            "|        DSL| Mensalmente|BoletoEletronico|\n",
            "|        DSL|       UmAno|          Boleto|\n",
            "|        DSL| Mensalmente|          Boleto|\n",
            "|        DSL|       UmAno|   DebitoEmConta|\n",
            "|FibraOptica| Mensalmente|BoletoEletronico|\n",
            "|FibraOptica| Mensalmente|BoletoEletronico|\n",
            "|FibraOptica| Mensalmente|   CartaoCredito|\n",
            "|        DSL| Mensalmente|          Boleto|\n",
            "|FibraOptica| Mensalmente|BoletoEletronico|\n",
            "|        DSL|       UmAno|   DebitoEmConta|\n",
            "|        DSL| Mensalmente|          Boleto|\n",
            "|        Nao|    DoisAnos|   CartaoCredito|\n",
            "|FibraOptica|       UmAno|   CartaoCredito|\n",
            "|FibraOptica| Mensalmente|   DebitoEmConta|\n",
            "|FibraOptica| Mensalmente|BoletoEletronico|\n",
            "|FibraOptica|    DoisAnos|   CartaoCredito|\n",
            "|        Nao|       UmAno|          Boleto|\n",
            "|FibraOptica|    DoisAnos|   DebitoEmConta|\n",
            "|        DSL| Mensalmente|   CartaoCredito|\n",
            "|FibraOptica| Mensalmente|BoletoEletronico|\n",
            "+-----------+------------+----------------+\n",
            "only showing top 20 rows\n",
            "\n"
          ]
        }
      ]
    },
    {
      "cell_type": "markdown",
      "source": [
        "Criação de Dummies\n"
      ],
      "metadata": {
        "id": "PkoAg8i5S3WU"
      }
    },
    {
      "cell_type": "code",
      "source": [
        "dataset.groupBy('id').pivot('Internet').agg(f.lit(1)).na.fill(0).show()"
      ],
      "metadata": {
        "colab": {
          "base_uri": "https://localhost:8080/"
        },
        "id": "r8utvRzCSSXF",
        "outputId": "03b4259f-4711-4724-9770-84aeaf125e20"
      },
      "execution_count": 20,
      "outputs": [
        {
          "output_type": "stream",
          "name": "stdout",
          "text": [
            "+----+---+-----------+---+\n",
            "|  id|DSL|FibraOptica|Nao|\n",
            "+----+---+-----------+---+\n",
            "|7982|  1|          0|  0|\n",
            "|9465|  0|          1|  0|\n",
            "|2122|  1|          0|  0|\n",
            "|3997|  1|          0|  0|\n",
            "|6654|  0|          1|  0|\n",
            "|7880|  0|          1|  0|\n",
            "|4519|  0|          1|  0|\n",
            "|6466|  0|          1|  0|\n",
            "| 496|  1|          0|  0|\n",
            "|7833|  0|          1|  0|\n",
            "|1591|  0|          0|  1|\n",
            "|2866|  0|          1|  0|\n",
            "|8592|  0|          1|  0|\n",
            "|1829|  0|          1|  0|\n",
            "| 463|  0|          1|  0|\n",
            "|4900|  0|          1|  0|\n",
            "|4818|  0|          1|  0|\n",
            "|7554|  1|          0|  0|\n",
            "|1342|  0|          0|  1|\n",
            "|5300|  0|          1|  0|\n",
            "+----+---+-----------+---+\n",
            "only showing top 20 rows\n",
            "\n"
          ]
        }
      ]
    },
    {
      "cell_type": "code",
      "source": [
        "Internet = dataset.groupBy('id').pivot('Internet').agg(f.lit(1)).na.fill(0)\n",
        "TipoContrato = dataset.groupBy('id').pivot('TipoContrato').agg(f.lit(1)).na.fill(0)\n",
        "MetodoPagamento = dataset.groupBy('id').pivot('MetodoPagamento').agg(f.lit(1)).na.fill(0)"
      ],
      "metadata": {
        "id": "tgWgpa0DSSaU"
      },
      "execution_count": 21,
      "outputs": []
    },
    {
      "cell_type": "code",
      "source": [
        "dataset = dataset\\\n",
        "  .join(Internet, 'id', how='inner')\\\n",
        "  .join(TipoContrato, 'id', how='inner')\\\n",
        "  .join(MetodoPagamento, 'id', how='inner')\\\n",
        "  .select(\n",
        "      '*',\n",
        "      f.col('DSL').alias('Internet_DSL'),\n",
        "      f.col('FibraOptica').alias('Internet_FibraOptica'),\n",
        "      f.col('Nao').alias('Internet_Nao'),\n",
        "      f.col('Mensalmente').alias('TipoContrato_Mensalmente'),\n",
        "      f.col('UmAno').alias('TipoContrato_UmAno'),\n",
        "      f.col('DoisAnos').alias('TipoContrato_DoisAnos'),\n",
        "      f.col('DebitoEmConta').alias('MetodoPagamento_DebitoEmConta'),\n",
        "      f.col('CartaoCredito').alias('MetodoPagamento_CartaoCredito'),\n",
        "      f.col('BoletoEletronico').alias('MetodoPagamento_BoletoEletronico'),\n",
        "      f.col('Boleto').alias('MetodoPagamento_Boleto')\n",
        "  )\\\n",
        "  .drop(\n",
        "      'Internet', 'TipoContrato', 'MetodoPagamento', 'DSL',\n",
        "      'FibraOptica', 'Nao', 'Mensalmente', 'UmAno', 'DoisAnos',\n",
        "      'DebitoEmConta', 'CartaoCredito', 'BoletoEletronico', 'Boleto'\n",
        "  )\n"
      ],
      "metadata": {
        "id": "vAuMYLKhSSdH"
      },
      "execution_count": 22,
      "outputs": []
    },
    {
      "cell_type": "code",
      "source": [
        "dataset.show()"
      ],
      "metadata": {
        "colab": {
          "base_uri": "https://localhost:8080/"
        },
        "id": "LYdupEHzSSfw",
        "outputId": "f5815cf2-10f2-48f0-fbb1-cbb010e72531"
      },
      "execution_count": 23,
      "outputs": [
        {
          "output_type": "stream",
          "name": "stdout",
          "text": [
            "+----+----------+---------------+-----------------+-----+-------+-----------+------------+------------------------+---------------+------------+-----------------+--------------+-------+---------------+------------+------------+--------------------+------------+------------------------+------------------+---------------------+-----------------------------+-----------------------------+--------------------------------+----------------------+\n",
            "|  id|Mais65anos|MesesDeContrato|    MesesCobrados|Churn|Conjuge|Dependentes|TelefoneFixo|MaisDeUmaLinhaTelefonica|SegurancaOnline|BackupOnline|SeguroDispositivo|SuporteTecnico|TVaCabo|StreamingFilmes|ContaCorreio|Internet_DSL|Internet_FibraOptica|Internet_Nao|TipoContrato_Mensalmente|TipoContrato_UmAno|TipoContrato_DoisAnos|MetodoPagamento_DebitoEmConta|MetodoPagamento_CartaoCredito|MetodoPagamento_BoletoEletronico|MetodoPagamento_Boleto|\n",
            "+----+----------+---------------+-----------------+-----+-------+-----------+------------+------------------------+---------------+------------+-----------------+--------------+-------+---------------+------------+------------+--------------------+------------+------------------------+------------------+---------------------+-----------------------------+-----------------------------+--------------------------------+----------------------+\n",
            "|7982|         0|              1|45.30540797610398|    1|      0|          0|           0|                       0|              0|           0|                0|             0|      1|              1|           1|           1|                   0|           0|                       1|                 0|                    0|                            0|                            0|                               1|                     0|\n",
            "|9465|         0|             60|103.6142230120257|    1|      1|          0|           1|                       1|              0|           1|                1|             0|      1|              1|           1|           0|                   1|           0|                       1|                 0|                    0|                            0|                            0|                               1|                     0|\n",
            "|2122|         0|             12|            75.85|    0|      0|          0|           1|                       1|              0|           0|                0|             1|      1|              1|           1|           1|                   0|           0|                       0|                 1|                    0|                            0|                            0|                               0|                     1|\n",
            "|3997|         0|             69|            61.45|    0|      1|          0|           1|                       0|              0|           1|                0|             0|      0|              1|           1|           1|                   0|           0|                       0|                 0|                    1|                            0|                            1|                               0|                     0|\n",
            "|6654|         0|              7|             86.5|    1|      1|          0|           1|                       1|              0|           0|                0|             0|      1|              0|           1|           0|                   1|           0|                       1|                 0|                    0|                            0|                            0|                               1|                     0|\n",
            "|7880|         0|             14|85.03742670311915|    1|      0|          0|           1|                       1|              0|           0|                0|             0|      0|              1|           1|           0|                   1|           0|                       1|                 0|                    0|                            0|                            0|                               1|                     0|\n",
            "|4519|         0|             57|            109.4|    0|      1|          0|           1|                       1|              0|           1|                1|             1|      1|              1|           1|           0|                   1|           0|                       0|                 1|                    0|                            1|                            0|                               0|                     0|\n",
            "|6466|         0|             18|            74.15|    0|      0|          0|           1|                       1|              0|           0|                0|             0|      0|              0|           0|           0|                   1|           0|                       1|                 0|                    0|                            0|                            0|                               0|                     1|\n",
            "| 496|         0|             28|             60.9|    0|      1|          0|           1|                       0|              1|           1|                0|             1|      0|              0|           0|           1|                   0|           0|                       1|                 0|                    0|                            0|                            0|                               0|                     1|\n",
            "|7833|         0|             46| 80.8824189403559|    1|      1|          0|           1|                       0|              0|           0|                0|             0|      0|              1|           1|           0|                   1|           0|                       1|                 0|                    0|                            0|                            0|                               1|                     0|\n",
            "|1591|         0|             17|             21.1|    0|      0|          0|           1|                       0|              0|           0|                0|             0|      0|              0|           0|           0|                   0|           1|                       1|                 0|                    0|                            0|                            1|                               0|                     0|\n",
            "|2866|         0|             12|             84.6|    0|      0|          0|           1|                       0|              0|           1|                0|             0|      0|              1|           1|           0|                   1|           0|                       1|                 0|                    0|                            0|                            0|                               1|                     0|\n",
            "|8592|         0|              5|82.71735660557214|    1|      1|          0|           1|                       1|              0|           0|                0|             0|      1|              0|           1|           0|                   1|           0|                       1|                 0|                    0|                            0|                            0|                               1|                     0|\n",
            "|1829|         0|              8|            74.85|    0|      0|          0|           1|                       1|              0|           0|                0|             0|      0|              0|           1|           0|                   1|           0|                       1|                 0|                    0|                            0|                            0|                               1|                     0|\n",
            "| 463|         0|              7|             99.8|    1|      0|          0|           1|                       1|              0|           1|                0|             0|      1|              1|           1|           0|                   1|           0|                       1|                 0|                    0|                            0|                            0|                               1|                     0|\n",
            "|4900|         1|             37|             85.7|    1|      1|          0|           1|                       1|              0|           0|                0|             0|      1|              0|           1|           0|                   1|           0|                       1|                 0|                    0|                            0|                            0|                               1|                     0|\n",
            "|4818|         1|             64|             80.3|    0|      1|          0|           1|                       0|              1|           0|                1|             0|      0|              0|           0|           0|                   1|           0|                       0|                 1|                    0|                            0|                            1|                               0|                     0|\n",
            "|7554|         0|              1|50.74303124820026|    1|      0|          0|           1|                       0|              0|           1|                0|             0|      0|              0|           0|           1|                   0|           0|                       1|                 0|                    0|                            0|                            0|                               1|                     0|\n",
            "|1342|         0|              8|             20.0|    0|      0|          0|           1|                       0|              0|           0|                0|             0|      0|              0|           0|           0|                   0|           1|                       0|                 0|                    1|                            0|                            0|                               0|                     1|\n",
            "|5300|         0|              1|            80.05|    1|      1|          1|           1|                       0|              0|           0|                0|             0|      1|              0|           1|           0|                   1|           0|                       1|                 0|                    0|                            0|                            0|                               0|                     1|\n",
            "+----+----------+---------------+-----------------+-----+-------+-----------+------------+------------------------+---------------+------------+-----------------+--------------+-------+---------------+------------+------------+--------------------+------------+------------------------+------------------+---------------------+-----------------------------+-----------------------------+--------------------------------+----------------------+\n",
            "only showing top 20 rows\n",
            "\n"
          ]
        }
      ]
    },
    {
      "cell_type": "code",
      "source": [
        "from pyspark.ml.feature import VectorAssembler"
      ],
      "metadata": {
        "id": "aya3keABSSi2"
      },
      "execution_count": 24,
      "outputs": []
    },
    {
      "cell_type": "code",
      "source": [
        "dataset = dataset.withColumnRenamed('Churn', 'label')"
      ],
      "metadata": {
        "id": "1amp4oHoSSl1"
      },
      "execution_count": 25,
      "outputs": []
    },
    {
      "cell_type": "code",
      "source": [
        "X = dataset.columns\n",
        "X.remove('label')\n",
        "X.remove('id')\n",
        "X"
      ],
      "metadata": {
        "colab": {
          "base_uri": "https://localhost:8080/"
        },
        "id": "xOxmsiTMbXT_",
        "outputId": "6910c968-9e90-406c-ada9-5b4294d9e8b4"
      },
      "execution_count": 26,
      "outputs": [
        {
          "output_type": "execute_result",
          "data": {
            "text/plain": [
              "['Mais65anos',\n",
              " 'MesesDeContrato',\n",
              " 'MesesCobrados',\n",
              " 'Conjuge',\n",
              " 'Dependentes',\n",
              " 'TelefoneFixo',\n",
              " 'MaisDeUmaLinhaTelefonica',\n",
              " 'SegurancaOnline',\n",
              " 'BackupOnline',\n",
              " 'SeguroDispositivo',\n",
              " 'SuporteTecnico',\n",
              " 'TVaCabo',\n",
              " 'StreamingFilmes',\n",
              " 'ContaCorreio',\n",
              " 'Internet_DSL',\n",
              " 'Internet_FibraOptica',\n",
              " 'Internet_Nao',\n",
              " 'TipoContrato_Mensalmente',\n",
              " 'TipoContrato_UmAno',\n",
              " 'TipoContrato_DoisAnos',\n",
              " 'MetodoPagamento_DebitoEmConta',\n",
              " 'MetodoPagamento_CartaoCredito',\n",
              " 'MetodoPagamento_BoletoEletronico',\n",
              " 'MetodoPagamento_Boleto']"
            ]
          },
          "metadata": {},
          "execution_count": 26
        }
      ]
    },
    {
      "cell_type": "code",
      "source": [
        "assembler = VectorAssembler(inputCols=X, outputCol='features')"
      ],
      "metadata": {
        "id": "l_RsTbXTbXW8"
      },
      "execution_count": 27,
      "outputs": []
    },
    {
      "cell_type": "code",
      "source": [
        "dataset_prep = assembler.transform(dataset).select('features', 'label')"
      ],
      "metadata": {
        "id": "5NehCkM4bXZr"
      },
      "execution_count": 28,
      "outputs": []
    },
    {
      "cell_type": "code",
      "source": [
        "dataset_prep.show()"
      ],
      "metadata": {
        "colab": {
          "base_uri": "https://localhost:8080/"
        },
        "id": "ZyZnyt9IbXco",
        "outputId": "7722e0f1-0937-499c-f1f1-84d064250382"
      },
      "execution_count": 29,
      "outputs": [
        {
          "output_type": "stream",
          "name": "stdout",
          "text": [
            "+--------------------+-----+\n",
            "|            features|label|\n",
            "+--------------------+-----+\n",
            "|(24,[1,2,11,12,13...|    1|\n",
            "|(24,[1,2,3,5,6,8,...|    1|\n",
            "|(24,[1,2,5,6,10,1...|    0|\n",
            "|(24,[1,2,3,5,8,12...|    0|\n",
            "|(24,[1,2,3,5,6,11...|    1|\n",
            "|(24,[1,2,5,6,12,1...|    1|\n",
            "|(24,[1,2,3,5,6,8,...|    0|\n",
            "|(24,[1,2,5,6,15,1...|    0|\n",
            "|(24,[1,2,3,5,7,8,...|    0|\n",
            "|(24,[1,2,3,5,12,1...|    1|\n",
            "|(24,[1,2,5,16,17,...|    0|\n",
            "|(24,[1,2,5,8,12,1...|    0|\n",
            "|(24,[1,2,3,5,6,11...|    1|\n",
            "|(24,[1,2,5,6,13,1...|    0|\n",
            "|(24,[1,2,5,6,8,11...|    1|\n",
            "|(24,[0,1,2,3,5,6,...|    1|\n",
            "|(24,[0,1,2,3,5,7,...|    0|\n",
            "|(24,[1,2,5,8,14,1...|    1|\n",
            "|(24,[1,2,5,16,19,...|    0|\n",
            "|(24,[1,2,3,4,5,11...|    1|\n",
            "+--------------------+-----+\n",
            "only showing top 20 rows\n",
            "\n"
          ]
        }
      ]
    },
    {
      "cell_type": "markdown",
      "source": [
        "Ajuste e Previsão"
      ],
      "metadata": {
        "id": "ZaBgsbZ9dnvy"
      }
    },
    {
      "cell_type": "code",
      "source": [
        "SEED = 101"
      ],
      "metadata": {
        "id": "lrBI0L4ZbXfS"
      },
      "execution_count": 30,
      "outputs": []
    },
    {
      "cell_type": "code",
      "source": [
        "treino, teste = dataset_prep.randomSplit([0.7, 0.3], seed=SEED)"
      ],
      "metadata": {
        "id": "H7bSuEsHbXh7"
      },
      "execution_count": 31,
      "outputs": []
    },
    {
      "cell_type": "code",
      "source": [
        "treino.count()"
      ],
      "metadata": {
        "colab": {
          "base_uri": "https://localhost:8080/"
        },
        "id": "vAlzSnWhbXkf",
        "outputId": "355e04a4-a81c-40f7-a351-d53230f450a1"
      },
      "execution_count": 32,
      "outputs": [
        {
          "output_type": "execute_result",
          "data": {
            "text/plain": [
              "7206"
            ]
          },
          "metadata": {},
          "execution_count": 32
        }
      ]
    },
    {
      "cell_type": "code",
      "source": [
        "teste.count()"
      ],
      "metadata": {
        "colab": {
          "base_uri": "https://localhost:8080/"
        },
        "id": "rTaDmcllbXnM",
        "outputId": "e59b5954-32e5-4bc7-e0c6-6d0ff4908e9b"
      },
      "execution_count": 33,
      "outputs": [
        {
          "output_type": "execute_result",
          "data": {
            "text/plain": [
              "3142"
            ]
          },
          "metadata": {},
          "execution_count": 33
        }
      ]
    },
    {
      "cell_type": "code",
      "source": [
        "from pyspark.ml.classification import LogisticRegression"
      ],
      "metadata": {
        "id": "Gd4WoVfrbXp_"
      },
      "execution_count": 34,
      "outputs": []
    },
    {
      "cell_type": "code",
      "source": [
        "lr = LogisticRegression()"
      ],
      "metadata": {
        "id": "lFmu3zSVeUqS"
      },
      "execution_count": 35,
      "outputs": []
    },
    {
      "cell_type": "code",
      "source": [
        "modelo_lr = lr.fit(treino)"
      ],
      "metadata": {
        "id": "LPLkUUvSeUtR"
      },
      "execution_count": 36,
      "outputs": []
    },
    {
      "cell_type": "code",
      "source": [
        "previsoes_lr_teste = modelo_lr.transform(teste)"
      ],
      "metadata": {
        "id": "NadW47S7eUwN"
      },
      "execution_count": 37,
      "outputs": []
    },
    {
      "cell_type": "code",
      "source": [
        "previsoes_lr_teste.show()"
      ],
      "metadata": {
        "colab": {
          "base_uri": "https://localhost:8080/"
        },
        "id": "WRygAZI4eUyp",
        "outputId": "8e9425dc-c1d8-4c6e-8dff-92c272d097eb"
      },
      "execution_count": 38,
      "outputs": [
        {
          "output_type": "stream",
          "name": "stdout",
          "text": [
            "+--------------------+-----+--------------------+--------------------+----------+\n",
            "|            features|label|       rawPrediction|         probability|prediction|\n",
            "+--------------------+-----+--------------------+--------------------+----------+\n",
            "|(24,[0,1,2,3,4,5,...|    0|[3.02174179751551...|[0.95354674000282...|       0.0|\n",
            "|(24,[0,1,2,3,4,5,...|    0|[-0.0922192966076...|[0.47696150091605...|       1.0|\n",
            "|(24,[0,1,2,3,4,5,...|    1|[0.18744121711361...|[0.54672358463156...|       0.0|\n",
            "|(24,[0,1,2,3,4,5,...|    1|[0.91716501260103...|[0.71446410549163...|       0.0|\n",
            "|(24,[0,1,2,3,4,5,...|    0|[-0.1495904711610...|[0.46267196467801...|       1.0|\n",
            "|(24,[0,1,2,3,4,5,...|    0|[-0.1680594619286...|[0.45808374494006...|       1.0|\n",
            "|(24,[0,1,2,3,4,5,...|    0|[-1.4170949608173...|[0.19511740608882...|       1.0|\n",
            "|(24,[0,1,2,3,4,5,...|    0|[0.14194260698794...|[0.53542619200881...|       0.0|\n",
            "|(24,[0,1,2,3,4,5,...|    0|[0.67046644011599...|[0.66160759507905...|       0.0|\n",
            "|(24,[0,1,2,3,4,5,...|    0|[1.46841036244999...|[0.81281564870727...|       0.0|\n",
            "|(24,[0,1,2,3,4,5,...|    1|[-0.2187083605333...|[0.44553982138394...|       1.0|\n",
            "|(24,[0,1,2,3,4,5,...|    1|[-1.0342537570067...|[0.26226025614667...|       1.0|\n",
            "|(24,[0,1,2,3,4,5,...|    0|[5.50017227754075...|[0.99593056056380...|       0.0|\n",
            "|(24,[0,1,2,3,4,8,...|    0|[0.78512618330368...|[0.68678387079939...|       0.0|\n",
            "|(24,[0,1,2,3,4,8,...|    0|[0.84647423373263...|[0.69982700991647...|       0.0|\n",
            "|(24,[0,1,2,3,4,8,...|    0|[2.71891428132878...|[0.93813354968549...|       0.0|\n",
            "|(24,[0,1,2,3,5,6,...|    0|[4.47635640497720...|[0.98875314765919...|       0.0|\n",
            "|(24,[0,1,2,3,5,6,...|    0|[1.61650336401316...|[0.83431233628064...|       0.0|\n",
            "|(24,[0,1,2,3,5,6,...|    0|[3.44539231448552...|[0.96909343212403...|       0.0|\n",
            "|(24,[0,1,2,3,5,6,...|    0|[3.42849251731228...|[0.96858322780664...|       0.0|\n",
            "+--------------------+-----+--------------------+--------------------+----------+\n",
            "only showing top 20 rows\n",
            "\n"
          ]
        }
      ]
    },
    {
      "cell_type": "markdown",
      "source": [
        "Métricas"
      ],
      "metadata": {
        "id": "wjnQxESZfQ5-"
      }
    },
    {
      "cell_type": "code",
      "source": [
        "resumo_lr_treino = modelo_lr.summary"
      ],
      "metadata": {
        "id": "SUcsCrQyeU1V"
      },
      "execution_count": 39,
      "outputs": []
    },
    {
      "cell_type": "code",
      "source": [
        "print(\"Acurácia: %f\" %resumo_lr_treino.accuracy)\n",
        "print(\"Precisão: %f\" %resumo_lr_treino.precisionByLabel[1])\n",
        "print(\"Recall: %f\" %resumo_lr_treino.recallByLabel[1])\n",
        "print(\"F1: %f\" %resumo_lr_treino.fMeasureByLabel()[1])"
      ],
      "metadata": {
        "colab": {
          "base_uri": "https://localhost:8080/"
        },
        "id": "i8hPkFMoeU3-",
        "outputId": "65ec290f-f1d9-4e3b-b743-76c097a5b329"
      },
      "execution_count": 40,
      "outputs": [
        {
          "output_type": "stream",
          "name": "stdout",
          "text": [
            "Acurácia: 0.784901\n",
            "Precisão: 0.770686\n",
            "Recall: 0.812517\n",
            "F1: 0.791049\n"
          ]
        }
      ]
    },
    {
      "cell_type": "code",
      "source": [
        "previsoes_lr_teste.select('label', 'prediction').where((f.col('label') == 1) & (f.col('prediction') == 1)).count()"
      ],
      "metadata": {
        "colab": {
          "base_uri": "https://localhost:8080/"
        },
        "id": "Ie0AdN-ZeU6n",
        "outputId": "e4e7e6b1-c06c-46c1-f3f4-4349e22398d0"
      },
      "execution_count": 41,
      "outputs": [
        {
          "output_type": "execute_result",
          "data": {
            "text/plain": [
              "1256"
            ]
          },
          "metadata": {},
          "execution_count": 41
        }
      ]
    },
    {
      "cell_type": "code",
      "source": [
        "tp = previsoes_lr_teste.select('label', 'prediction').where((f.col('label') == 1) & (f.col('prediction') == 1)).count()\n",
        "tn = previsoes_lr_teste.select('label', 'prediction').where((f.col('label') == 0) & (f.col('prediction') == 0)).count()\n",
        "fp = previsoes_lr_teste.select('label', 'prediction').where((f.col('label') == 0) & (f.col('prediction') == 1)).count()\n",
        "fn = previsoes_lr_teste.select('label', 'prediction').where((f.col('label') == 1) & (f.col('prediction') == 0)).count()\n",
        "print(tp, tn, fp, fn)"
      ],
      "metadata": {
        "colab": {
          "base_uri": "https://localhost:8080/"
        },
        "id": "Q5kTeALpiqlu",
        "outputId": "d9cb9262-473f-4566-e4b1-1f776122de16"
      },
      "execution_count": 42,
      "outputs": [
        {
          "output_type": "stream",
          "name": "stdout",
          "text": [
            "1256 1179 400 307\n"
          ]
        }
      ]
    },
    {
      "cell_type": "code",
      "source": [
        "def calcula_mostra_matriz_confusao(df_transform_modelo, normalize=False, percentage=True):\n",
        "\n",
        "  tp = previsoes_lr_teste.select('label', 'prediction').where((f.col('label') == 1) & (f.col('prediction') == 1)).count()\n",
        "  tn = previsoes_lr_teste.select('label', 'prediction').where((f.col('label') == 0) & (f.col('prediction') == 0)).count()\n",
        "  fp = previsoes_lr_teste.select('label', 'prediction').where((f.col('label') == 0) & (f.col('prediction') == 1)).count()\n",
        "  fn = previsoes_lr_teste.select('label', 'prediction').where((f.col('label') == 1) & (f.col('prediction') == 0)).count()\n",
        "\n",
        "  valorP = 1\n",
        "  valorN = 1\n",
        "\n",
        "  if normalize:\n",
        "    valorP = tp + fn\n",
        "    valorN = fp + tn\n",
        "\n",
        "    if percentage and normalize:\n",
        "      valorP = valorP /100\n",
        "      valorN = valorN / 100\n",
        "\n",
        "  print(' '*20, 'Previsto')\n",
        "  print(' '*15, 'Churn', ' '*5, 'Não-Churn')\n",
        "  print(' '*4, 'Churn', ' '*6, int(tp/valorP), ' '*7, int(fn/valorP))\n",
        "  print('Real')\n",
        "  print(' '*4, 'Não-Churn', ' '*2, int(fp/valorN), ' '*7, int(tn/valorN))"
      ],
      "metadata": {
        "id": "GW6TaH2ZeU9M"
      },
      "execution_count": 43,
      "outputs": []
    },
    {
      "cell_type": "code",
      "source": [
        "calcula_mostra_matriz_confusao(previsoes_lr_teste)"
      ],
      "metadata": {
        "colab": {
          "base_uri": "https://localhost:8080/"
        },
        "id": "Ykyn26_YeU_-",
        "outputId": "82cea8b3-bfc4-486d-d527-c71f528df63e"
      },
      "execution_count": 44,
      "outputs": [
        {
          "output_type": "stream",
          "name": "stdout",
          "text": [
            "                     Previsto\n",
            "                Churn       Não-Churn\n",
            "     Churn        1256         307\n",
            "Real\n",
            "     Não-Churn    400         1179\n"
          ]
        }
      ]
    },
    {
      "cell_type": "markdown",
      "source": [
        "Árvore de Decisão"
      ],
      "metadata": {
        "id": "u2hkHWCHMQTh"
      }
    },
    {
      "cell_type": "code",
      "source": [
        "from pyspark.ml.classification import DecisionTreeClassifier"
      ],
      "metadata": {
        "id": "RZ13eJw1bXs0"
      },
      "execution_count": 45,
      "outputs": []
    },
    {
      "cell_type": "code",
      "source": [
        "dtc = DecisionTreeClassifier(seed=SEED)"
      ],
      "metadata": {
        "id": "Pt7J5XZCL7gt"
      },
      "execution_count": 46,
      "outputs": []
    },
    {
      "cell_type": "code",
      "source": [
        "modelo_dtc = dtc.fit(treino)"
      ],
      "metadata": {
        "id": "OLklV9Q5L7ja"
      },
      "execution_count": 47,
      "outputs": []
    },
    {
      "cell_type": "code",
      "source": [
        "previsoes_dtc_treino = modelo_dtc.transform(treino)"
      ],
      "metadata": {
        "id": "LFWUD0XLL7mK"
      },
      "execution_count": 51,
      "outputs": []
    },
    {
      "cell_type": "code",
      "source": [
        "previsoes_dtc_treino.show()"
      ],
      "metadata": {
        "colab": {
          "base_uri": "https://localhost:8080/"
        },
        "id": "J2Z7Xn-7L7o5",
        "outputId": "7011498e-5161-4301-de43-04b8b8584a26"
      },
      "execution_count": 52,
      "outputs": [
        {
          "output_type": "stream",
          "name": "stdout",
          "text": [
            "+--------------------+-----+--------------+--------------------+----------+\n",
            "|            features|label| rawPrediction|         probability|prediction|\n",
            "+--------------------+-----+--------------+--------------------+----------+\n",
            "|(24,[0,1,2,3,4,5,...|    0|[2056.0,334.0]|[0.86025104602510...|       0.0|\n",
            "|(24,[0,1,2,3,4,5,...|    0|[2056.0,334.0]|[0.86025104602510...|       0.0|\n",
            "|(24,[0,1,2,3,4,5,...|    0|    [22.0,3.0]|         [0.88,0.12]|       0.0|\n",
            "|(24,[0,1,2,3,4,5,...|    0|    [22.0,3.0]|         [0.88,0.12]|       0.0|\n",
            "|(24,[0,1,2,3,4,5,...|    0|    [22.0,3.0]|         [0.88,0.12]|       0.0|\n",
            "|(24,[0,1,2,3,4,5,...|    1|[331.0,1951.0]|[0.14504820333041...|       1.0|\n",
            "|(24,[0,1,2,3,4,5,...|    0| [239.0,205.0]|[0.53828828828828...|       0.0|\n",
            "|(24,[0,1,2,3,4,5,...|    1|[331.0,1951.0]|[0.14504820333041...|       1.0|\n",
            "|(24,[0,1,2,3,4,5,...|    0|[331.0,1951.0]|[0.14504820333041...|       1.0|\n",
            "|(24,[0,1,2,3,4,5,...|    0|[331.0,1951.0]|[0.14504820333041...|       1.0|\n",
            "|(24,[0,1,2,3,4,5,...|    0|[331.0,1951.0]|[0.14504820333041...|       1.0|\n",
            "|(24,[0,1,2,3,4,5,...|    0|[2056.0,334.0]|[0.86025104602510...|       0.0|\n",
            "|(24,[0,1,2,3,4,5,...|    0|[331.0,1951.0]|[0.14504820333041...|       1.0|\n",
            "|(24,[0,1,2,3,4,5,...|    0|[2056.0,334.0]|[0.86025104602510...|       0.0|\n",
            "|(24,[0,1,2,3,4,5,...|    0| [239.0,205.0]|[0.53828828828828...|       0.0|\n",
            "|(24,[0,1,2,3,4,5,...|    1| [239.0,205.0]|[0.53828828828828...|       0.0|\n",
            "|(24,[0,1,2,3,4,5,...|    0|[2056.0,334.0]|[0.86025104602510...|       0.0|\n",
            "|(24,[0,1,2,3,4,5,...|    0|  [51.0,141.0]| [0.265625,0.734375]|       1.0|\n",
            "|(24,[0,1,2,3,4,5,...|    0|[2056.0,334.0]|[0.86025104602510...|       0.0|\n",
            "|(24,[0,1,2,3,4,5,...|    0|[2056.0,334.0]|[0.86025104602510...|       0.0|\n",
            "+--------------------+-----+--------------+--------------------+----------+\n",
            "only showing top 20 rows\n",
            "\n"
          ]
        }
      ]
    },
    {
      "cell_type": "markdown",
      "source": [
        "Métricas"
      ],
      "metadata": {
        "id": "fzEzrHtROS7B"
      }
    },
    {
      "cell_type": "code",
      "source": [
        "from pyspark.ml.evaluation import MulticlassClassificationEvaluator"
      ],
      "metadata": {
        "id": "qbTeULgeL7re"
      },
      "execution_count": 53,
      "outputs": []
    },
    {
      "cell_type": "code",
      "source": [
        "evaluator = MulticlassClassificationEvaluator()"
      ],
      "metadata": {
        "id": "ZCUQnj3dL7u2"
      },
      "execution_count": 54,
      "outputs": []
    },
    {
      "cell_type": "code",
      "source": [
        "evaluator.evaluate(previsoes_dtc_treino, {evaluator.metricName: 'accuracy'})"
      ],
      "metadata": {
        "colab": {
          "base_uri": "https://localhost:8080/"
        },
        "id": "8pgoYQvcOz0X",
        "outputId": "9f0081a8-48de-48d1-9a24-40d5236b6a55"
      },
      "execution_count": 55,
      "outputs": [
        {
          "output_type": "execute_result",
          "data": {
            "text/plain": [
              "0.7917013599777962"
            ]
          },
          "metadata": {},
          "execution_count": 55
        }
      ]
    },
    {
      "cell_type": "code",
      "source": [
        "print(\"Acurácia: %f\" % evaluator.evaluate(previsoes_dtc_treino, {evaluator.metricName: \"accuracy\"}))\n",
        "print(\"Precisão: %f\" % evaluator.evaluate(previsoes_dtc_treino, {evaluator.metricName: \"precisionByLabel\", evaluator.metricLabel: 1}))\n",
        "print(\"Recall: %f\" % evaluator.evaluate(previsoes_dtc_treino, {evaluator.metricName: \"recallByLabel\", evaluator.metricLabel: 1}))\n",
        "print(\"F1: %f\" % evaluator.evaluate(previsoes_dtc_treino, {evaluator.metricName: \"fMeasureByLabel\", evaluator.metricLabel: 1}))"
      ],
      "metadata": {
        "colab": {
          "base_uri": "https://localhost:8080/"
        },
        "id": "Efs9vBRiOsCe",
        "outputId": "3aa6b8a3-053e-4660-9e47-fc2e1f6716d7"
      },
      "execution_count": 60,
      "outputs": [
        {
          "output_type": "stream",
          "name": "stdout",
          "text": [
            "Acurácia: 0.791701\n",
            "Precisão: 0.805090\n",
            "Recall: 0.770978\n",
            "F1: 0.787664\n"
          ]
        }
      ]
    },
    {
      "cell_type": "code",
      "source": [
        "previsoes_dtc_teste = modelo_dtc.transform(teste)"
      ],
      "metadata": {
        "id": "6RgRmfRnOsFm"
      },
      "execution_count": 57,
      "outputs": []
    },
    {
      "cell_type": "code",
      "source": [
        "previsoes_dtc_teste.show()"
      ],
      "metadata": {
        "colab": {
          "base_uri": "https://localhost:8080/"
        },
        "id": "WSu4EHG2OsIZ",
        "outputId": "8ad6a930-583a-4b16-fe8a-ceff025724d2"
      },
      "execution_count": 58,
      "outputs": [
        {
          "output_type": "stream",
          "name": "stdout",
          "text": [
            "+--------------------+-----+--------------+--------------------+----------+\n",
            "|            features|label| rawPrediction|         probability|prediction|\n",
            "+--------------------+-----+--------------+--------------------+----------+\n",
            "|(24,[0,1,2,3,4,5,...|    0|[2056.0,334.0]|[0.86025104602510...|       0.0|\n",
            "|(24,[0,1,2,3,4,5,...|    0|  [62.0,128.0]|[0.32631578947368...|       1.0|\n",
            "|(24,[0,1,2,3,4,5,...|    1| [239.0,205.0]|[0.53828828828828...|       0.0|\n",
            "|(24,[0,1,2,3,4,5,...|    1| [239.0,205.0]|[0.53828828828828...|       0.0|\n",
            "|(24,[0,1,2,3,4,5,...|    0| [239.0,205.0]|[0.53828828828828...|       0.0|\n",
            "|(24,[0,1,2,3,4,5,...|    0|  [51.0,141.0]| [0.265625,0.734375]|       1.0|\n",
            "|(24,[0,1,2,3,4,5,...|    0|[331.0,1951.0]|[0.14504820333041...|       1.0|\n",
            "|(24,[0,1,2,3,4,5,...|    0| [239.0,205.0]|[0.53828828828828...|       0.0|\n",
            "|(24,[0,1,2,3,4,5,...|    0|  [63.0,118.0]|[0.34806629834254...|       1.0|\n",
            "|(24,[0,1,2,3,4,5,...|    0|[2056.0,334.0]|[0.86025104602510...|       0.0|\n",
            "|(24,[0,1,2,3,4,5,...|    1|  [63.0,118.0]|[0.34806629834254...|       1.0|\n",
            "|(24,[0,1,2,3,4,5,...|    1|[331.0,1951.0]|[0.14504820333041...|       1.0|\n",
            "|(24,[0,1,2,3,4,5,...|    0|[2056.0,334.0]|[0.86025104602510...|       0.0|\n",
            "|(24,[0,1,2,3,4,8,...|    0| [445.0,181.0]|[0.71086261980830...|       0.0|\n",
            "|(24,[0,1,2,3,4,8,...|    0|[2056.0,334.0]|[0.86025104602510...|       0.0|\n",
            "|(24,[0,1,2,3,4,8,...|    0|[2056.0,334.0]|[0.86025104602510...|       0.0|\n",
            "|(24,[0,1,2,3,5,6,...|    0|[2056.0,334.0]|[0.86025104602510...|       0.0|\n",
            "|(24,[0,1,2,3,5,6,...|    0| [239.0,205.0]|[0.53828828828828...|       0.0|\n",
            "|(24,[0,1,2,3,5,6,...|    0|[2056.0,334.0]|[0.86025104602510...|       0.0|\n",
            "|(24,[0,1,2,3,5,6,...|    0|[2056.0,334.0]|[0.86025104602510...|       0.0|\n",
            "+--------------------+-----+--------------+--------------------+----------+\n",
            "only showing top 20 rows\n",
            "\n"
          ]
        }
      ]
    },
    {
      "cell_type": "code",
      "source": [
        "evaluator.evaluate(previsoes_dtc_teste, {evaluator.metricName: 'accuracy'})"
      ],
      "metadata": {
        "colab": {
          "base_uri": "https://localhost:8080/"
        },
        "id": "qgZe9Tl8OsK5",
        "outputId": "7fbb6a4f-3d0a-418c-917f-bb0e71436c4f"
      },
      "execution_count": 59,
      "outputs": [
        {
          "output_type": "execute_result",
          "data": {
            "text/plain": [
              "0.7714831317632082"
            ]
          },
          "metadata": {},
          "execution_count": 59
        }
      ]
    },
    {
      "cell_type": "code",
      "source": [
        "print('Decision Tree Classifier')\n",
        "print(\"=\"*40)\n",
        "print(\"Dados de Treino\")\n",
        "print(\"=\"*40)\n",
        "print(\"Matriz de Confusão\")\n",
        "print(\"-\"*40)\n",
        "calcula_mostra_matriz_confusao(previsoes_dtc_treino, normalize=False)\n",
        "print(\"-\"*40)\n",
        "print(\"Métricas\")\n",
        "print(\"-\"*40)\n",
        "print(\"Acurácia: %f\" % evaluator.evaluate(previsoes_dtc_treino, {evaluator.metricName: \"accuracy\"}))\n",
        "print(\"Precisão: %f\" % evaluator.evaluate(previsoes_dtc_treino, {evaluator.metricName: \"precisionByLabel\", evaluator.metricLabel: 1}))\n",
        "print(\"Recall: %f\" % evaluator.evaluate(previsoes_dtc_treino, {evaluator.metricName: \"recallByLabel\", evaluator.metricLabel: 1}))\n",
        "print(\"F1: %f\" % evaluator.evaluate(previsoes_dtc_treino, {evaluator.metricName: \"fMeasureByLabel\", evaluator.metricLabel: 1}))\n",
        "print(\"\")\n",
        "print(\"=\"*40)\n",
        "print(\"Dados de Teste\")\n",
        "print(\"=\"*40)\n",
        "print(\"Matriz de Confusão\")\n",
        "print(\"-\"*40)\n",
        "calcula_mostra_matriz_confusao(previsoes_dtc_teste, normalize=False)\n",
        "print(\"-\"*40)\n",
        "print(\"Métricas\")\n",
        "print(\"-\"*40)\n",
        "print(\"Acurácia: %f\" % evaluator.evaluate(previsoes_dtc_teste, {evaluator.metricName: \"accuracy\"}))\n",
        "print(\"Precisão: %f\" % evaluator.evaluate(previsoes_dtc_teste, {evaluator.metricName: \"precisionByLabel\", evaluator.metricLabel: 1}))\n",
        "print(\"Recall: %f\" % evaluator.evaluate(previsoes_dtc_teste, {evaluator.metricName: \"recallByLabel\", evaluator.metricLabel: 1}))\n",
        "print(\"F1: %f\" % evaluator.evaluate(previsoes_dtc_teste, {evaluator.metricName: \"fMeasureByLabel\", evaluator.metricLabel: 1}))"
      ],
      "metadata": {
        "colab": {
          "base_uri": "https://localhost:8080/"
        },
        "id": "fHjRK2VjOsNJ",
        "outputId": "a5c6588b-6954-432e-c082-558e2003c54e"
      },
      "execution_count": 61,
      "outputs": [
        {
          "output_type": "stream",
          "name": "stdout",
          "text": [
            "Decision Tree Classifier\n",
            "========================================\n",
            "Dados de Treino\n",
            "========================================\n",
            "Matriz de Confusão\n",
            "----------------------------------------\n",
            "                     Previsto\n",
            "                Churn       Não-Churn\n",
            "     Churn        1256         307\n",
            "Real\n",
            "     Não-Churn    400         1179\n",
            "----------------------------------------\n",
            "Métricas\n",
            "----------------------------------------\n",
            "Acurácia: 0.791701\n",
            "Precisão: 0.805090\n",
            "Recall: 0.770978\n",
            "F1: 0.787664\n",
            "\n",
            "========================================\n",
            "Dados de Teste\n",
            "========================================\n",
            "Matriz de Confusão\n",
            "----------------------------------------\n",
            "                     Previsto\n",
            "                Churn       Não-Churn\n",
            "     Churn        1256         307\n",
            "Real\n",
            "     Não-Churn    400         1179\n",
            "----------------------------------------\n",
            "Métricas\n",
            "----------------------------------------\n",
            "Acurácia: 0.771483\n",
            "Precisão: 0.778510\n",
            "Recall: 0.755598\n",
            "F1: 0.766883\n"
          ]
        }
      ]
    },
    {
      "cell_type": "markdown",
      "source": [
        "Random Forest"
      ],
      "metadata": {
        "id": "uoFLTpdeRCu0"
      }
    },
    {
      "cell_type": "code",
      "source": [
        "from pyspark.ml.classification import RandomForestClassifier"
      ],
      "metadata": {
        "id": "uASUohe0OsQT"
      },
      "execution_count": 62,
      "outputs": []
    },
    {
      "cell_type": "code",
      "source": [
        "rfc = RandomForestClassifier(seed=SEED)"
      ],
      "metadata": {
        "id": "QyruDEtSL7yK"
      },
      "execution_count": 64,
      "outputs": []
    },
    {
      "cell_type": "code",
      "source": [
        "modelo_rfc = rfc.fit(treino)"
      ],
      "metadata": {
        "id": "OjqPJ5qeL71F"
      },
      "execution_count": 65,
      "outputs": []
    },
    {
      "cell_type": "code",
      "source": [
        "previsoes_rfc_treino = modelo_rfc.transform(treino)"
      ],
      "metadata": {
        "id": "Op4PTQjRRVhz"
      },
      "execution_count": 66,
      "outputs": []
    },
    {
      "cell_type": "code",
      "source": [
        "previsoes_rfc_treino.show()"
      ],
      "metadata": {
        "colab": {
          "base_uri": "https://localhost:8080/"
        },
        "id": "cr1Lr8hVRVk2",
        "outputId": "c9ff7545-34bf-490a-9b3f-a47dbfbf4e6b"
      },
      "execution_count": 67,
      "outputs": [
        {
          "output_type": "stream",
          "name": "stdout",
          "text": [
            "+--------------------+-----+--------------------+--------------------+----------+\n",
            "|            features|label|       rawPrediction|         probability|prediction|\n",
            "+--------------------+-----+--------------------+--------------------+----------+\n",
            "|(24,[0,1,2,3,4,5,...|    0|[15.0052773466704...|[0.75026386733352...|       0.0|\n",
            "|(24,[0,1,2,3,4,5,...|    0|[16.9295040273249...|[0.84647520136624...|       0.0|\n",
            "|(24,[0,1,2,3,4,5,...|    0|[9.13052909106814...|[0.45652645455340...|       1.0|\n",
            "|(24,[0,1,2,3,4,5,...|    0|[9.13052909106814...|[0.45652645455340...|       1.0|\n",
            "|(24,[0,1,2,3,4,5,...|    0|[8.59288938528764...|[0.42964446926438...|       1.0|\n",
            "|(24,[0,1,2,3,4,5,...|    1|[5.59647122885698...|[0.27982356144284...|       1.0|\n",
            "|(24,[0,1,2,3,4,5,...|    0|[9.33276328267787...|[0.46663816413389...|       1.0|\n",
            "|(24,[0,1,2,3,4,5,...|    1|[5.21616013157118...|[0.26080800657855...|       1.0|\n",
            "|(24,[0,1,2,3,4,5,...|    0|[5.45640255581361...|[0.27282012779068...|       1.0|\n",
            "|(24,[0,1,2,3,4,5,...|    0|[4.60442649894724...|[0.23022132494736...|       1.0|\n",
            "|(24,[0,1,2,3,4,5,...|    0|[5.67535692640751...|[0.28376784632037...|       1.0|\n",
            "|(24,[0,1,2,3,4,5,...|    0|[12.0200554644482...|[0.60100277322241...|       0.0|\n",
            "|(24,[0,1,2,3,4,5,...|    0|[4.78964359060310...|[0.23948217953015...|       1.0|\n",
            "|(24,[0,1,2,3,4,5,...|    0|[16.0034864403362...|[0.80017432201681...|       0.0|\n",
            "|(24,[0,1,2,3,4,5,...|    0|[9.33276328267787...|[0.46663816413389...|       1.0|\n",
            "|(24,[0,1,2,3,4,5,...|    1|[7.72923092350890...|[0.38646154617544...|       1.0|\n",
            "|(24,[0,1,2,3,4,5,...|    0|[15.9609332488468...|[0.79804666244234...|       0.0|\n",
            "|(24,[0,1,2,3,4,5,...|    0|[7.08160776437640...|[0.35408038821882...|       1.0|\n",
            "|(24,[0,1,2,3,4,5,...|    0|[18.2497256374866...|[0.91248628187433...|       0.0|\n",
            "|(24,[0,1,2,3,4,5,...|    0|[14.4759069267546...|[0.72379534633773...|       0.0|\n",
            "+--------------------+-----+--------------------+--------------------+----------+\n",
            "only showing top 20 rows\n",
            "\n"
          ]
        }
      ]
    },
    {
      "cell_type": "markdown",
      "source": [
        "Métricas"
      ],
      "metadata": {
        "id": "r_wwPTebSBe-"
      }
    },
    {
      "cell_type": "code",
      "source": [
        "previsoes_rfc_teste = modelo_rfc.transform(teste)"
      ],
      "metadata": {
        "id": "cHk1vx8xRVnZ"
      },
      "execution_count": 68,
      "outputs": []
    },
    {
      "cell_type": "code",
      "source": [
        "previsoes_rfc_teste.show()"
      ],
      "metadata": {
        "colab": {
          "base_uri": "https://localhost:8080/"
        },
        "id": "EWUISYU0RVpU",
        "outputId": "b7dac985-871e-4045-a888-46cd78004943"
      },
      "execution_count": 69,
      "outputs": [
        {
          "output_type": "stream",
          "name": "stdout",
          "text": [
            "+--------------------+-----+--------------------+--------------------+----------+\n",
            "|            features|label|       rawPrediction|         probability|prediction|\n",
            "+--------------------+-----+--------------------+--------------------+----------+\n",
            "|(24,[0,1,2,3,4,5,...|    0|[16.7433871675615...|[0.83716935837807...|       0.0|\n",
            "|(24,[0,1,2,3,4,5,...|    0|[7.27313214599648...|[0.36365660729982...|       1.0|\n",
            "|(24,[0,1,2,3,4,5,...|    1|[7.46885072161585...|[0.37344253608079...|       1.0|\n",
            "|(24,[0,1,2,3,4,5,...|    1|[9.33276328267787...|[0.46663816413389...|       1.0|\n",
            "|(24,[0,1,2,3,4,5,...|    0|[7.79829004739264...|[0.38991450236963...|       1.0|\n",
            "|(24,[0,1,2,3,4,5,...|    0|[7.13263407834549...|[0.35663170391727...|       1.0|\n",
            "|(24,[0,1,2,3,4,5,...|    0|[4.45872635511159...|[0.22293631775557...|       1.0|\n",
            "|(24,[0,1,2,3,4,5,...|    0|[7.84691519125130...|[0.39234575956256...|       1.0|\n",
            "|(24,[0,1,2,3,4,5,...|    0|[9.94796150783366...|[0.49739807539168...|       1.0|\n",
            "|(24,[0,1,2,3,4,5,...|    0|[13.9419392354793...|[0.69709696177396...|       0.0|\n",
            "|(24,[0,1,2,3,4,5,...|    1|[5.91309232317621...|[0.29565461615881...|       1.0|\n",
            "|(24,[0,1,2,3,4,5,...|    1|[4.00056870239560...|[0.20002843511978...|       1.0|\n",
            "|(24,[0,1,2,3,4,5,...|    0|[18.3120509476018...|[0.91560254738009...|       0.0|\n",
            "|(24,[0,1,2,3,4,8,...|    0|[11.9244461164393...|[0.59622230582196...|       0.0|\n",
            "|(24,[0,1,2,3,4,8,...|    0|[15.3485289130138...|[0.76742644565069...|       0.0|\n",
            "|(24,[0,1,2,3,4,8,...|    0|[16.5284444417352...|[0.82642222208676...|       0.0|\n",
            "|(24,[0,1,2,3,5,6,...|    0|[18.0005759997679...|[0.90002879998839...|       0.0|\n",
            "|(24,[0,1,2,3,5,6,...|    0|[12.7577462101532...|[0.63788731050766...|       0.0|\n",
            "|(24,[0,1,2,3,5,6,...|    0|[17.3802234084668...|[0.86901117042334...|       0.0|\n",
            "|(24,[0,1,2,3,5,6,...|    0|[17.2590921858649...|[0.86295460929324...|       0.0|\n",
            "+--------------------+-----+--------------------+--------------------+----------+\n",
            "only showing top 20 rows\n",
            "\n"
          ]
        }
      ]
    },
    {
      "cell_type": "code",
      "source": [
        "print('Random Forest Classifier')\n",
        "print(\"=\"*40)\n",
        "print(\"Dados de Treino\")\n",
        "print(\"=\"*40)\n",
        "print(\"Matriz de Confusão\")\n",
        "print(\"-\"*40)\n",
        "calcula_mostra_matriz_confusao(previsoes_rfc_treino, normalize=False)\n",
        "print(\"-\"*40)\n",
        "print(\"Métricas\")\n",
        "print(\"-\"*40)\n",
        "print(\"Acurácia: %f\" % evaluator.evaluate(previsoes_rfc_treino, {evaluator.metricName: \"accuracy\"}))\n",
        "print(\"Precisão: %f\" % evaluator.evaluate(previsoes_rfc_treino, {evaluator.metricName: \"precisionByLabel\", evaluator.metricLabel: 1}))\n",
        "print(\"Recall: %f\" % evaluator.evaluate(previsoes_rfc_treino, {evaluator.metricName: \"recallByLabel\", evaluator.metricLabel: 1}))\n",
        "print(\"F1: %f\" % evaluator.evaluate(previsoes_rfc_treino, {evaluator.metricName: \"fMeasureByLabel\", evaluator.metricLabel: 1}))\n",
        "print(\"\")\n",
        "print(\"=\"*40)\n",
        "print(\"Dados de Teste\")\n",
        "print(\"=\"*40)\n",
        "print(\"Matriz de Confusão\")\n",
        "print(\"-\"*40)\n",
        "calcula_mostra_matriz_confusao(previsoes_rfc_teste, normalize=False)\n",
        "print(\"-\"*40)\n",
        "print(\"Métricas\")\n",
        "print(\"-\"*40)\n",
        "print(\"Acurácia: %f\" % evaluator.evaluate(previsoes_rfc_teste, {evaluator.metricName: \"accuracy\"}))\n",
        "print(\"Precisão: %f\" % evaluator.evaluate(previsoes_rfc_teste, {evaluator.metricName: \"precisionByLabel\", evaluator.metricLabel: 1}))\n",
        "print(\"Recall: %f\" % evaluator.evaluate(previsoes_rfc_teste, {evaluator.metricName: \"recallByLabel\", evaluator.metricLabel: 1}))\n",
        "print(\"F1: %f\" % evaluator.evaluate(previsoes_rfc_teste, {evaluator.metricName: \"fMeasureByLabel\", evaluator.metricLabel: 1}))"
      ],
      "metadata": {
        "colab": {
          "base_uri": "https://localhost:8080/"
        },
        "id": "M61eRWTCRVry",
        "outputId": "b5f82c9e-cd8f-4901-f319-fadf24191bc4"
      },
      "execution_count": 70,
      "outputs": [
        {
          "output_type": "stream",
          "name": "stdout",
          "text": [
            "Random Forest Classifier\n",
            "========================================\n",
            "Dados de Treino\n",
            "========================================\n",
            "Matriz de Confusão\n",
            "----------------------------------------\n",
            "                     Previsto\n",
            "                Churn       Não-Churn\n",
            "     Churn        1256         307\n",
            "Real\n",
            "     Não-Churn    400         1179\n",
            "----------------------------------------\n",
            "Métricas\n",
            "----------------------------------------\n",
            "Acurácia: 0.785595\n",
            "Precisão: 0.769431\n",
            "Recall: 0.816948\n",
            "F1: 0.792478\n",
            "\n",
            "========================================\n",
            "Dados de Teste\n",
            "========================================\n",
            "Matriz de Confusão\n",
            "----------------------------------------\n",
            "                     Previsto\n",
            "                Churn       Não-Churn\n",
            "     Churn        1256         307\n",
            "Real\n",
            "     Não-Churn    400         1179\n",
            "----------------------------------------\n",
            "Métricas\n",
            "----------------------------------------\n",
            "Acurácia: 0.770210\n",
            "Precisão: 0.751345\n",
            "Recall: 0.804223\n",
            "F1: 0.776885\n"
          ]
        }
      ]
    },
    {
      "cell_type": "markdown",
      "source": [
        "Árvore de Decisão com Cross Validation"
      ],
      "metadata": {
        "id": "uP91vMQ6S-PE"
      }
    },
    {
      "cell_type": "code",
      "source": [
        "from pyspark.ml.tuning import CrossValidator, ParamGridBuilder"
      ],
      "metadata": {
        "id": "uK09O8Bp61Ct"
      },
      "execution_count": 71,
      "outputs": []
    },
    {
      "cell_type": "code",
      "source": [
        "dtc = DecisionTreeClassifier(seed=SEED)"
      ],
      "metadata": {
        "id": "UGx6Nj8R61Ff"
      },
      "execution_count": 72,
      "outputs": []
    },
    {
      "cell_type": "code",
      "source": [
        "grid = ParamGridBuilder()\\\n",
        "  .addGrid(dtc.maxDepth, [2, 5, 10])\\\n",
        "  .addGrid(dtc.maxBins, [10, 32, 45])\\\n",
        "  .build()"
      ],
      "metadata": {
        "id": "cEudB7fgT8Z6"
      },
      "execution_count": 75,
      "outputs": []
    },
    {
      "cell_type": "code",
      "source": [
        "evaluator = MulticlassClassificationEvaluator()"
      ],
      "metadata": {
        "id": "R2tt70cbT9AP"
      },
      "execution_count": 76,
      "outputs": []
    },
    {
      "cell_type": "code",
      "source": [
        "dtc_cv = CrossValidator(\n",
        "    estimator = dtc, \n",
        "    estimatorParamMaps=grid,\n",
        "    evaluator=evaluator,\n",
        "    numFolds=3,\n",
        "    seed=SEED\n",
        ")"
      ],
      "metadata": {
        "id": "iVX5x_5mT9DC"
      },
      "execution_count": 77,
      "outputs": []
    },
    {
      "cell_type": "code",
      "source": [
        "modelo_dtc_cv = dtc_cv.fit(treino)"
      ],
      "metadata": {
        "id": "FjOAdAxqT9F6"
      },
      "execution_count": 78,
      "outputs": []
    },
    {
      "cell_type": "code",
      "source": [
        "previsoes_dtc_cv_teste = modelo_dtc_cv.transform(teste)"
      ],
      "metadata": {
        "id": "iqJuEfg0T9Iu"
      },
      "execution_count": 79,
      "outputs": []
    },
    {
      "cell_type": "code",
      "source": [
        "print('Decision Tree Classifier - Tuning')\n",
        "print(\"=\"*40)\n",
        "print(\"Dados de Teste\")\n",
        "print(\"=\"*40)\n",
        "print(\"Matriz de Confusão\")\n",
        "print(\"-\"*40)\n",
        "calcula_mostra_matriz_confusao(previsoes_dtc_cv_teste, normalize=False)\n",
        "print(\"-\"*40)\n",
        "print(\"Métricas\")\n",
        "print(\"-\"*40)\n",
        "print(\"Acurácia: %f\" % evaluator.evaluate(previsoes_dtc_cv_teste, {evaluator.metricName: \"accuracy\"}))\n",
        "print(\"Precisão: %f\" % evaluator.evaluate(previsoes_dtc_cv_teste, {evaluator.metricName: \"precisionByLabel\", evaluator.metricLabel: 1}))\n",
        "print(\"Recall: %f\" % evaluator.evaluate(previsoes_dtc_cv_teste, {evaluator.metricName: \"recallByLabel\", evaluator.metricLabel: 1}))\n",
        "print(\"F1: %f\" % evaluator.evaluate(previsoes_dtc_cv_teste, {evaluator.metricName: \"fMeasureByLabel\", evaluator.metricLabel: 1}))"
      ],
      "metadata": {
        "colab": {
          "base_uri": "https://localhost:8080/"
        },
        "id": "yACju9kXT9Le",
        "outputId": "964030fd-77dc-47aa-fcee-fd5de1433da7"
      },
      "execution_count": 80,
      "outputs": [
        {
          "output_type": "stream",
          "name": "stdout",
          "text": [
            "Decision Tree Classifier - Tuning\n",
            "========================================\n",
            "Dados de Teste\n",
            "========================================\n",
            "Matriz de Confusão\n",
            "----------------------------------------\n",
            "                     Previsto\n",
            "                Churn       Não-Churn\n",
            "     Churn        1256         307\n",
            "Real\n",
            "     Não-Churn    400         1179\n",
            "----------------------------------------\n",
            "Métricas\n",
            "----------------------------------------\n",
            "Acurácia: 0.790261\n",
            "Precisão: 0.758286\n",
            "Recall: 0.849008\n",
            "F1: 0.801087\n"
          ]
        }
      ]
    },
    {
      "cell_type": "markdown",
      "source": [
        "Random Forest com CrossValidator"
      ],
      "metadata": {
        "id": "R1DY_cWLWEv0"
      }
    },
    {
      "cell_type": "code",
      "source": [
        "rfc = RandomForestClassifier(seed=SEED)"
      ],
      "metadata": {
        "id": "hJ3o9fasT9N-"
      },
      "execution_count": 81,
      "outputs": []
    },
    {
      "cell_type": "code",
      "source": [
        "grid = ParamGridBuilder()\\\n",
        "        .addGrid(rfc.maxDepth, [2, 5, 10])\\\n",
        "        .addGrid(rfc.maxBins, [10, 32, 45])\\\n",
        "        .addGrid(rfc.numTrees, [10, 20, 50])\\\n",
        "        .build()"
      ],
      "metadata": {
        "id": "TeD1i1doWOUA"
      },
      "execution_count": 82,
      "outputs": []
    },
    {
      "cell_type": "code",
      "source": [
        "evaluator = MulticlassClassificationEvaluator()"
      ],
      "metadata": {
        "id": "4nzKY6tnWOWz"
      },
      "execution_count": 83,
      "outputs": []
    },
    {
      "cell_type": "code",
      "source": [
        "rfc_cv = CrossValidator(\n",
        "    estimator=rfc,\n",
        "    estimatorParamMaps=grid,\n",
        "    evaluator=evaluator,\n",
        "    numFolds=3,\n",
        "    seed=SEED\n",
        ")"
      ],
      "metadata": {
        "id": "YMVh-F-LWOZP"
      },
      "execution_count": 84,
      "outputs": []
    },
    {
      "cell_type": "code",
      "source": [
        "modelo_rfc_cv = rfc_cv.fit(treino)"
      ],
      "metadata": {
        "id": "72uEE5joWOby"
      },
      "execution_count": 85,
      "outputs": []
    },
    {
      "cell_type": "code",
      "source": [
        "previsoes_rfc_cv_teste = modelo_rfc_cv.transform(teste)"
      ],
      "metadata": {
        "id": "3LHhWlVGWOeO"
      },
      "execution_count": 86,
      "outputs": []
    },
    {
      "cell_type": "code",
      "source": [
        "print('Random Forest Classifier - Tuning')\n",
        "print(\"=\"*40)\n",
        "print(\"Dados de Teste\")\n",
        "print(\"=\"*40)\n",
        "print(\"Matriz de Confusão\")\n",
        "print(\"-\"*40)\n",
        "calcula_mostra_matriz_confusao(previsoes_rfc_cv_teste, normalize=False)\n",
        "print(\"-\"*40)\n",
        "print(\"Métricas\")\n",
        "print(\"-\"*40)\n",
        "print(\"Acurácia: %f\" % evaluator.evaluate(previsoes_rfc_cv_teste, {evaluator.metricName: \"accuracy\"}))\n",
        "print(\"Precisão: %f\" % evaluator.evaluate(previsoes_rfc_cv_teste, {evaluator.metricName: \"precisionByLabel\", evaluator.metricLabel: 1}))\n",
        "print(\"Recall: %f\" % evaluator.evaluate(previsoes_rfc_cv_teste, {evaluator.metricName: \"recallByLabel\", evaluator.metricLabel: 1}))\n",
        "print(\"F1: %f\" % evaluator.evaluate(previsoes_rfc_cv_teste, {evaluator.metricName: \"fMeasureByLabel\", evaluator.metricLabel: 1}))"
      ],
      "metadata": {
        "colab": {
          "base_uri": "https://localhost:8080/"
        },
        "id": "csdepfl_WOgy",
        "outputId": "dff04506-f00e-45a7-8d0b-8a40bc4a92ac"
      },
      "execution_count": 87,
      "outputs": [
        {
          "output_type": "stream",
          "name": "stdout",
          "text": [
            "Random Forest Classifier - Tuning\n",
            "========================================\n",
            "Dados de Teste\n",
            "========================================\n",
            "Matriz de Confusão\n",
            "----------------------------------------\n",
            "                     Previsto\n",
            "                Churn       Não-Churn\n",
            "     Churn        1256         307\n",
            "Real\n",
            "     Não-Churn    400         1179\n",
            "----------------------------------------\n",
            "Métricas\n",
            "----------------------------------------\n",
            "Acurácia: 0.812858\n",
            "Precisão: 0.792091\n",
            "Recall: 0.845809\n",
            "F1: 0.818069\n"
          ]
        }
      ]
    },
    {
      "cell_type": "code",
      "source": [
        "melhor_modelo_rfc_cv = modelo_rfc_cv.bestModel"
      ],
      "metadata": {
        "id": "ZzpXb7YlT9Ql"
      },
      "execution_count": 88,
      "outputs": []
    },
    {
      "cell_type": "code",
      "source": [
        "print(melhor_modelo_rfc_cv.getMaxDepth())\n",
        "print(melhor_modelo_rfc_cv.getMaxBins())\n",
        "print(melhor_modelo_rfc_cv.getNumTrees)"
      ],
      "metadata": {
        "colab": {
          "base_uri": "https://localhost:8080/"
        },
        "id": "a4EI4V52Wc_l",
        "outputId": "d62c0c0a-cc7f-4f07-cc01-3df9172dd458"
      },
      "execution_count": 89,
      "outputs": [
        {
          "output_type": "stream",
          "name": "stdout",
          "text": [
            "10\n",
            "45\n",
            "20\n"
          ]
        }
      ]
    },
    {
      "cell_type": "code",
      "source": [
        "rfc_tunning = RandomForestClassifier(maxDepth=10, maxBins=45, numTrees=20, seed=SEED)"
      ],
      "metadata": {
        "id": "ua7A5S6rWdCi"
      },
      "execution_count": 90,
      "outputs": []
    },
    {
      "cell_type": "code",
      "source": [
        "modelo_rfc_tunning = rfc_tunning.fit(dataset_prep)"
      ],
      "metadata": {
        "id": "g1bT257NWdEy"
      },
      "execution_count": 91,
      "outputs": []
    },
    {
      "cell_type": "code",
      "source": [
        "novo_cliente = [{\n",
        "    'Mais65anos': 0,\n",
        "    'MesesDeContrato': 1,\n",
        "    'MesesCobrados': 45.30540797610398,\n",
        "    'Conjuge': 0,\n",
        "    'Dependentes': 0,\n",
        "    'TelefoneFixo': 0,\n",
        "    'MaisDeUmaLinhaTelefonica': 0,\n",
        "    'SegurancaOnline': 0,\n",
        "    'BackupOnline': 0,\n",
        "    'SeguroDispositivo': 0,\n",
        "    'SuporteTecnico': 0,\n",
        "    'TVaCabo': 1,\n",
        "    'StreamingFilmes': 1,\n",
        "    'ContaCorreio': 1,\n",
        "    'Internet_DSL': 1,\n",
        "    'Internet_FibraOptica': 0,\n",
        "    'Internet_Nao': 0,\n",
        "    'TipoContrato_Mensalmente': 1,\n",
        "    'TipoContrato_UmAno': 0,\n",
        "    'TipoContrato_DoisAnos': 0,\n",
        "    'MetodoPagamento_DebitoEmConta': 0,\n",
        "    'MetodoPagamento_CartaoCredito': 0,\n",
        "    'MetodoPagamento_BoletoEletronico': 1,\n",
        "    'MetodoPagamento_Boleto': 0\n",
        "}]"
      ],
      "metadata": {
        "id": "AqlHSmmHWdH6"
      },
      "execution_count": 92,
      "outputs": []
    },
    {
      "cell_type": "code",
      "source": [
        "novo_cliente = spark.createDataFrame(novo_cliente)\n",
        "novo_cliente.show()"
      ],
      "metadata": {
        "colab": {
          "base_uri": "https://localhost:8080/"
        },
        "id": "7j0nK1ZyWdKF",
        "outputId": "d5b58c00-981d-4537-86f1-c514ce8bd6fa"
      },
      "execution_count": 93,
      "outputs": [
        {
          "output_type": "stream",
          "name": "stdout",
          "text": [
            "+------------+-------+------------+-----------+------------+--------------------+------------+----------+------------------------+-----------------+---------------+----------------------+--------------------------------+-----------------------------+-----------------------------+---------------+-----------------+---------------+--------------+-------+------------+---------------------+------------------------+------------------+\n",
            "|BackupOnline|Conjuge|ContaCorreio|Dependentes|Internet_DSL|Internet_FibraOptica|Internet_Nao|Mais65anos|MaisDeUmaLinhaTelefonica|    MesesCobrados|MesesDeContrato|MetodoPagamento_Boleto|MetodoPagamento_BoletoEletronico|MetodoPagamento_CartaoCredito|MetodoPagamento_DebitoEmConta|SegurancaOnline|SeguroDispositivo|StreamingFilmes|SuporteTecnico|TVaCabo|TelefoneFixo|TipoContrato_DoisAnos|TipoContrato_Mensalmente|TipoContrato_UmAno|\n",
            "+------------+-------+------------+-----------+------------+--------------------+------------+----------+------------------------+-----------------+---------------+----------------------+--------------------------------+-----------------------------+-----------------------------+---------------+-----------------+---------------+--------------+-------+------------+---------------------+------------------------+------------------+\n",
            "|           0|      0|           1|          0|           1|                   0|           0|         0|                       0|45.30540797610398|              1|                     0|                               1|                            0|                            0|              0|                0|              1|             0|      1|           0|                    0|                       1|                 0|\n",
            "+------------+-------+------------+-----------+------------+--------------------+------------+----------+------------------------+-----------------+---------------+----------------------+--------------------------------+-----------------------------+-----------------------------+---------------+-----------------+---------------+--------------+-------+------------+---------------------+------------------------+------------------+\n",
            "\n"
          ]
        }
      ]
    },
    {
      "cell_type": "code",
      "source": [
        "assembler = VectorAssembler(inputCols = X, outputCol = 'features')"
      ],
      "metadata": {
        "id": "8wa4sGwlWdPO"
      },
      "execution_count": 94,
      "outputs": []
    },
    {
      "cell_type": "code",
      "source": [
        "novo_cliente_prep = assembler.transform(novo_cliente).select('features')"
      ],
      "metadata": {
        "id": "g0c44qFGWdRd"
      },
      "execution_count": 95,
      "outputs": []
    },
    {
      "cell_type": "code",
      "source": [
        "modelo_rfc_tunning.transform(novo_cliente_prep).show()"
      ],
      "metadata": {
        "colab": {
          "base_uri": "https://localhost:8080/"
        },
        "id": "mKqeobdsWlMr",
        "outputId": "6f0bded6-87f2-4137-c7b0-753bb95c7947"
      },
      "execution_count": 96,
      "outputs": [
        {
          "output_type": "stream",
          "name": "stdout",
          "text": [
            "+--------------------+--------------------+--------------------+----------+\n",
            "|            features|       rawPrediction|         probability|prediction|\n",
            "+--------------------+--------------------+--------------------+----------+\n",
            "|(24,[1,2,11,12,13...|[2.16984156904747...|[0.10849207845237...|       1.0|\n",
            "+--------------------+--------------------+--------------------+----------+\n",
            "\n"
          ]
        }
      ]
    }
  ]
}